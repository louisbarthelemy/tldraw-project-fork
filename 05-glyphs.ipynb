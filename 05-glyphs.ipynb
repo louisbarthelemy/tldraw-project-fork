{
 "cells": [
  {
   "cell_type": "markdown",
   "id": "78125428-27ae-4308-adbe-2f57738f53d6",
   "metadata": {},
   "source": [
    "---\n",
    "title: Glyphs\n",
    "date: 2023-12-301\n",
    "authors:\n",
    "  - name: Sébastien Boisgérault\n",
    "    email: Sebastien.Boisgerault@minesparis.psl.eu\n",
    "    url: https://github.com/boisgera\n",
    "    affiliations:\n",
    "      - institution: Mines Paris - PSL University\n",
    "        department: Institut des Transformation Numériques (ITN)\n",
    "github: boisgera\n",
    "license: CC-BY-4.0\n",
    "open_access: true\n",
    "---"
   ]
  },
  {
   "cell_type": "markdown",
   "id": "1527878a-9a89-444c-97d8-d8c377e04921",
   "metadata": {},
   "source": [
    "## Glyph Representation\n",
    "\n",
    "![](images/z.tldraw.png)\n",
    "\n",
    "```{exercise} Glyph Skeleton\n",
    "\n",
    " 1. Create a new tldraw document with a unique continuous short curve created with the draw tool (called in the sequel a *glyph*).\n",
    "\n",
    " 2. Load the document in Python and extract from it the unique record of type `draw`.\n",
    "\n",
    " 3. Build from this record the arrays `x` and `y` of the points coordinates that describe the curve.\n",
    "\n",
    "    ⚠️ Make sure that you get the initial values `x[0]` and `y[0]` right!\n",
    "\n",
    " 5. Plot the curve using an aspect ratio of 1 ; make sure that your conventions for the y axis match those of tldraw.\n",
    "\n",
    "```"
   ]
  },
  {
   "cell_type": "markdown",
   "id": "deb7f01b-47c7-4e6b-9400-9088f55785f3",
   "metadata": {},
   "source": [
    "![](images/z-skeleton-only.jpg)"
   ]
  },
  {
   "cell_type": "code",
   "execution_count": 30,
   "id": "fed72cac-be22-4e91-9ec5-511a2dea00d0",
   "metadata": {},
   "outputs": [],
   "source": [
    "file = open(\"curve-2.tldr\", mode=\"tr\", encoding = \"utf-8\")\n",
    "content = file.read()"
   ]
  },
  {
   "cell_type": "code",
   "execution_count": 49,
   "id": "a75ca952-dbec-41d4-8788-cff19c8319f9",
   "metadata": {},
   "outputs": [],
   "source": [
    "import json\n",
    "import numpy as np\n",
    "import matplotlib.pyplot as plt\n",
    "\n",
    "#modif des 'false', 'true', 'null'\n",
    "curve_donnees = {\"tldrawFileFormatVersion\":1,\"schema\":{\"schemaVersion\":1,\"storeVersion\":4,\"recordVersions\":{\"asset\":{\"version\":1,\"subTypeKey\":\"type\",\"subTypeVersions\":{\"image\":3,\"video\":3,\"bookmark\":1}},\"camera\":{\"version\":1},\"document\":{\"version\":2},\"instance\":{\"version\":22},\"instance_page_state\":{\"version\":5},\"page\":{\"version\":1},\"shape\":{\"version\":3,\"subTypeKey\":\"type\",\"subTypeVersions\":{\"group\":0,\"text\":1,\"bookmark\":2,\"draw\":1,\"geo\":8,\"note\":5,\"line\":1,\"frame\":0,\"arrow\":2,\"highlight\":0,\"embed\":4,\"image\":3,\"video\":2}},\"instance_presence\":{\"version\":5},\"pointer\":{\"version\":1}}},\"records\":[{\"gridSize\":10,\"name\":\"\",\"meta\":{},\"id\":\"document:document\",\"typeName\":\"document\"},{\"meta\":{},\"id\":\"page:T1BaY2n7uAKGU_l17ge8F\",\"name\":\"Page 1\",\"index\":\"a1\",\"typeName\":\"page\"},{\"id\":\"pointer:pointer\",\"typeName\":\"pointer\",\"x\":388,\"y\":28,\"lastActivityTimestamp\":1706899206967,\"meta\":{}},{\"followingUserId\":0,\"opacityForNextShape\":1,\"stylesForNextShape\":{\"tldraw:color\":\"black\"},\"brush\":0,\"scribbles\":[],\"cursor\":{\"type\":\"cross\",\"rotation\":0},\"isFocusMode\":False,\"exportBackground\":True,\"isDebugMode\":False,\"isToolLocked\":False,\"screenBounds\":{\"x\":0,\"y\":0,\"w\":1415.199951171875,\"h\":675.2000122070312},\"zoomBrush\":0,\"isGridMode\":False,\"isPenMode\":False,\"chatMessage\":\"\",\"isChatting\":False,\"highlightedUserIds\":[],\"canMoveCamera\":True,\"isFocused\":True,\"devicePixelRatio\":1.25,\"isCoarsePointer\":False,\"isHoveringCanvas\":False,\"openMenus\":[\"main menu\",\"main menu menu file\"],\"isChangingStyle\":False,\"isReadonly\":False,\"meta\":{},\"id\":\"instance:instance\",\"currentPageId\":\"page:T1BaY2n7uAKGU_l17ge8F\",\"typeName\":\"instance\"},{\"editingShapeId\":0,\"croppingShapeId\":0,\"selectedShapeIds\":[],\"hoveredShapeId\":0,\"erasingShapeIds\":[],\"hintingShapeIds\":[],\"focusedGroupId\":0,\"meta\":{},\"id\":\"instance_page_state:page:T1BaY2n7uAKGU_l17ge8F\",\"pageId\":\"page:T1BaY2n7uAKGU_l17ge8F\",\"typeName\":\"instance_page_state\"},{\"x\":0,\"y\":0,\"z\":1,\"meta\":{},\"id\":\"camera:page:T1BaY2n7uAKGU_l17ge8F\",\"typeName\":\"camera\"},{\"x\":455,\"y\":198,\"rotation\":0,\"isLocked\":False,\"opacity\":1,\"meta\":{},\"id\":\"shape:naFfWuFedu3fsWktvdoID\",\"type\":\"draw\",\"props\":{\"segments\":[{\"type\":\"free\",\"points\":[{\"x\":0,\"y\":0,\"z\":0.5},{\"x\":1,\"y\":0,\"z\":0.5},{\"x\":11,\"y\":0,\"z\":0.5},{\"x\":35,\"y\":-3,\"z\":0.5},{\"x\":59,\"y\":-5,\"z\":0.5},{\"x\":79,\"y\":-5,\"z\":0.5},{\"x\":95,\"y\":-6,\"z\":0.5},{\"x\":112,\"y\":-7,\"z\":0.5},{\"x\":132,\"y\":-7,\"z\":0.5},{\"x\":151,\"y\":-6,\"z\":0.5},{\"x\":179,\"y\":-1,\"z\":0.5},{\"x\":196,\"y\":3,\"z\":0.5},{\"x\":211,\"y\":5,\"z\":0.5},{\"x\":217,\"y\":7,\"z\":0.5},{\"x\":224,\"y\":9,\"z\":0.5},{\"x\":228,\"y\":11,\"z\":0.5},{\"x\":233,\"y\":14,\"z\":0.5},{\"x\":237,\"y\":16,\"z\":0.5},{\"x\":239,\"y\":20,\"z\":0.5},{\"x\":243,\"y\":26,\"z\":0.5},{\"x\":244,\"y\":30,\"z\":0.5},{\"x\":243,\"y\":40,\"z\":0.5},{\"x\":236,\"y\":52,\"z\":0.5},{\"x\":219,\"y\":70,\"z\":0.5},{\"x\":203,\"y\":82,\"z\":0.5},{\"x\":184,\"y\":92,\"z\":0.5},{\"x\":159,\"y\":105,\"z\":0.5},{\"x\":143,\"y\":115,\"z\":0.5},{\"x\":119,\"y\":125,\"z\":0.5},{\"x\":105,\"y\":132,\"z\":0.5},{\"x\":98,\"y\":136,\"z\":0.5},{\"x\":96,\"y\":137,\"z\":0.5},{\"x\":94,\"y\":139,\"z\":0.5},{\"x\":94,\"y\":140,\"z\":0.5},{\"x\":94,\"y\":142,\"z\":0.5},{\"x\":94,\"y\":144,\"z\":0.5},{\"x\":95,\"y\":148,\"z\":0.5},{\"x\":98,\"y\":152,\"z\":0.5},{\"x\":108,\"y\":161,\"z\":0.5},{\"x\":123,\"y\":168,\"z\":0.5},{\"x\":148,\"y\":179,\"z\":0.5},{\"x\":171,\"y\":185,\"z\":0.5},{\"x\":224,\"y\":196,\"z\":0.5},{\"x\":251,\"y\":198,\"z\":0.5},{\"x\":288,\"y\":200,\"z\":0.5},{\"x\":343,\"y\":202,\"z\":0.5},{\"x\":401,\"y\":203,\"z\":0.5},{\"x\":433,\"y\":203,\"z\":0.5},{\"x\":463,\"y\":203,\"z\":0.5},{\"x\":537,\"y\":204,\"z\":0.5},{\"x\":579,\"y\":206,\"z\":0.5},{\"x\":660,\"y\":219,\"z\":0.5},{\"x\":685,\"y\":231,\"z\":0.5}]}],\"color\":\"black\",\"fill\":\"none\",\"dash\":\"draw\",\"size\":\"m\",\"isComplete\":True,\"isClosed\":False,\"isPen\":False},\"parentId\":\"page:T1BaY2n7uAKGU_l17ge8F\",\"index\":\"a1\",\"typeName\":\"shape\"}]}\n",
    "string = json.dumps(curve_donnees)\n",
    "curve = json.loads(string)"
   ]
  },
  {
   "cell_type": "code",
   "execution_count": 50,
   "id": "71ed8007-d40f-4023-a731-2e172cd93afc",
   "metadata": {},
   "outputs": [],
   "source": [
    "ls = curve['records']\n",
    "dico = {}\n",
    "for elem in ls :\n",
    "    if 'props' in elem :\n",
    "        dico = elem\n",
    "ls_2 = dico['props']['segments'] #liste à un élément contenant un dictionnaire\n",
    "dico_2 = ls_2[0]\n",
    "ls_points_dico = dico_2['points'] #liste contenant tous les dictionnaires contenant les coordonnées des points de tracé"
   ]
  },
  {
   "cell_type": "code",
   "execution_count": 33,
   "id": "972000e3-6749-46cc-9bfa-52cf81182ff2",
   "metadata": {},
   "outputs": [],
   "source": [
    "ls_x = []\n",
    "ls_y = []\n",
    "for dico in ls_points_dico :\n",
    "    ls_x.append(dico['x']) # toutes les abscisses\n",
    "    ls_y.append(dico['y']) # toutes les ordonnées\n",
    "X = np.array(ls_x)\n",
    "Y = np.array(ls_y)"
   ]
  },
  {
   "cell_type": "code",
   "execution_count": 34,
   "id": "46f157f9-03b9-4c5c-81b3-155c97d1e72d",
   "metadata": {},
   "outputs": [
    {
     "data": {
      "image/png": "[encoded data removed]",
      "text/plain": [
       "<Figure size 640x480 with 1 Axes>"
      ]
     },
     "metadata": {},
     "output_type": "display_data"
    },
    {
     "data": {
      "text/plain": [
       "<Figure size 640x480 with 0 Axes>"
      ]
     },
     "metadata": {},
     "output_type": "display_data"
    }
   ],
   "source": [
    "plt.plot(X,-Y) #sinon à l'envers\n",
    "plt.axis('equal')\n",
    "plt.figure()\n",
    "plt.show()"
   ]
  },
  {
   "cell_type": "markdown",
   "id": "0c35645a-f0f6-49a4-9200-3d0adc973a24",
   "metadata": {},
   "source": [
    "The curve that you have plotted only represents a \"skeleton\" of the glyph but not its thickness. \n",
    "The thickness itself is computed from an evaluation of the speed at which the pen travels (the faster the pen is, the smaller the curve is ; this is how the pen pressure is simulated).\n",
    "\n",
    "```{exercise} Glyph Outline\n",
    " 1. Make a new continuous curve that you draw during 6 seconds (the more precise the better ! I would advise you to use a stopwatch) ; try to move constantly when you draw the curve at first (for the initial 3 seconds) then faster (for the final 3 seconds). Then, extract the corresponding coordinates `x` and `y` in Python and make an informed guess on how these values are sampled from the \"true\" time-dependent curve.\n",
    "\n",
    " 2. The `perfect-freehand` python package ports to Python the Javascript library used by tldraw to draw the curves contour. It is [available on pypi](https://pypi.org/project/perfect-freehand/) and [documented](https://bigbluebutton.github.io/perfect-freehand-python/). Use it to represent on the same matplotlib display the skeleton points and a corresponding contour.\n",
    "```\n",
    "\n",
    "![](images/z-outline.jpg)\n"
   ]
  },
  {
   "cell_type": "code",
   "execution_count": 48,
   "id": "2fa782bd-6ed9-40d1-b31c-560a752e11c9",
   "metadata": {
    "scrolled": true
   },
   "outputs": [],
   "source": [
    "file = open(\"thick_curve_2.tldr\", mode=\"tr\", encoding = \"utf-8\")\n",
    "content = file.read()"
   ]
  },
  {
   "cell_type": "code",
   "execution_count": 46,
   "id": "071a7e9a-fbb4-448a-afc0-f62c99069c00",
   "metadata": {},
   "outputs": [],
   "source": [
    "import json\n",
    "import numpy as np\n",
    "import matplotlib.pyplot as plt\n",
    "\n",
    "#modif des 'false', 'true', 'null'\n",
    "thick_curve_donnees = {\"tldrawFileFormatVersion\":1,\"schema\":{\"schemaVersion\":1,\"storeVersion\":4,\"recordVersions\":{\"asset\":{\"version\":1,\"subTypeKey\":\"type\",\"subTypeVersions\":{\"image\":3,\"video\":3,\"bookmark\":1}},\"camera\":{\"version\":1},\"document\":{\"version\":2},\"instance\":{\"version\":23},\"instance_page_state\":{\"version\":5},\"page\":{\"version\":1},\"shape\":{\"version\":3,\"subTypeKey\":\"type\",\"subTypeVersions\":{\"group\":0,\"text\":1,\"bookmark\":2,\"draw\":1,\"geo\":8,\"note\":5,\"line\":1,\"frame\":0,\"arrow\":2,\"highlight\":0,\"embed\":4,\"image\":3,\"video\":2}},\"instance_presence\":{\"version\":5},\"pointer\":{\"version\":1}}},\"records\":[{\"gridSize\":10,\"name\":\"\",\"meta\":{},\"id\":\"document:document\",\"typeName\":\"document\"},{\"meta\":{},\"id\":\"page:DeO2-Klmvjl_XHh6JIPoq\",\"name\":\"Page 1\",\"index\":\"a1\",\"typeName\":\"page\"},{\"id\":\"pointer:pointer\",\"typeName\":\"pointer\",\"x\":244,\"y\":181,\"lastActivityTimestamp\":1706957500271,\"meta\":{}},{\"followingUserId\":0,\"opacityForNextShape\":1,\"stylesForNextShape\":{},\"brush\":0,\"scribbles\":[],\"cursor\":{\"type\":\"cross\",\"rotation\":0},\"isFocusMode\":False,\"exportBackground\":True,\"isDebugMode\":False,\"isToolLocked\":False,\"screenBounds\":{\"x\":0,\"y\":0,\"w\":1415.199951171875,\"h\":670.4000244140625},\"insets\":[False,True,True,False],\"zoomBrush\":0,\"isGridMode\":False,\"isPenMode\":False,\"chatMessage\":\"\",\"isChatting\":False,\"highlightedUserIds\":[],\"canMoveCamera\":True,\"isFocused\":True,\"devicePixelRatio\":1.25,\"isCoarsePointer\":False,\"isHoveringCanvas\":False,\"openMenus\":[\"main menu\",\"main menu menu file\"],\"isChangingStyle\":False,\"isReadonly\":False,\"meta\":{},\"id\":\"instance:instance\",\"currentPageId\":\"page:DeO2-Klmvjl_XHh6JIPoq\",\"typeName\":\"instance\"},{\"editingShapeId\":0,\"croppingShapeId\":0,\"selectedShapeIds\":[],\"hoveredShapeId\":0,\"erasingShapeIds\":[],\"hintingShapeIds\":[],\"focusedGroupId\":0,\"meta\":{},\"id\":\"instance_page_state:page:DeO2-Klmvjl_XHh6JIPoq\",\"pageId\":\"page:DeO2-Klmvjl_XHh6JIPoq\",\"typeName\":\"instance_page_state\"},{\"x\":0,\"y\":0,\"z\":1,\"meta\":{},\"id\":\"camera:page:DeO2-Klmvjl_XHh6JIPoq\",\"typeName\":\"camera\"},{\"x\":336,\"y\":187,\"rotation\":0,\"isLocked\":False,\"opacity\":1,\"meta\":{},\"id\":\"shape:bBp86NPe3kRmbUZprrHbI\",\"type\":\"draw\",\"props\":{\"segments\":[{\"type\":\"free\",\"points\":[{\"x\":0,\"y\":0,\"z\":0.5}]}],\"color\":\"black\",\"fill\":\"none\",\"dash\":\"draw\",\"size\":\"m\",\"isComplete\":True,\"isClosed\":False,\"isPen\":False},\"parentId\":\"page:DeO2-Klmvjl_XHh6JIPoq\",\"index\":\"a1\",\"typeName\":\"shape\"},{\"x\":336,\"y\":187,\"rotation\":0,\"isLocked\":False,\"opacity\":1,\"meta\":{},\"id\":\"shape:sbmvdtRMq9O-hJVkOiWct\",\"type\":\"draw\",\"props\":{\"segments\":[{\"type\":\"free\",\"points\":[{\"x\":0,\"y\":0,\"z\":0.5}]}],\"color\":\"black\",\"fill\":\"none\",\"dash\":\"draw\",\"size\":\"m\",\"isComplete\":True,\"isClosed\":False,\"isPen\":False},\"parentId\":\"page:DeO2-Klmvjl_XHh6JIPoq\",\"index\":\"a2\",\"typeName\":\"shape\"},{\"x\":336,\"y\":187,\"rotation\":0,\"isLocked\":False,\"opacity\":1,\"meta\":{},\"id\":\"shape:gVyBzucLa0cmeZSA5Q0PO\",\"type\":\"draw\",\"props\":{\"segments\":[{\"type\":\"free\",\"points\":[{\"x\":0,\"y\":0,\"z\":0.5},{\"x\":1,\"y\":0,\"z\":0.5},{\"x\":2,\"y\":0,\"z\":0.5},{\"x\":3,\"y\":0,\"z\":0.5},{\"x\":5,\"y\":0,\"z\":0.5},{\"x\":6,\"y\":0,\"z\":0.5},{\"x\":7,\"y\":0,\"z\":0.5},{\"x\":8,\"y\":0,\"z\":0.5},{\"x\":9,\"y\":0,\"z\":0.5},{\"x\":10,\"y\":0,\"z\":0.5},{\"x\":11,\"y\":0,\"z\":0.5},{\"x\":12,\"y\":0,\"z\":0.5},{\"x\":14,\"y\":0,\"z\":0.5},{\"x\":15,\"y\":0,\"z\":0.5},{\"x\":16,\"y\":0,\"z\":0.5},{\"x\":18,\"y\":0,\"z\":0.5},{\"x\":19,\"y\":0,\"z\":0.5},{\"x\":20,\"y\":0,\"z\":0.5},{\"x\":21,\"y\":0,\"z\":0.5},{\"x\":22,\"y\":0,\"z\":0.5},{\"x\":23,\"y\":0,\"z\":0.5},{\"x\":24,\"y\":0,\"z\":0.5},{\"x\":25,\"y\":0,\"z\":0.5},{\"x\":26,\"y\":0,\"z\":0.5},{\"x\":27,\"y\":0,\"z\":0.5},{\"x\":28,\"y\":0,\"z\":0.5},{\"x\":29,\"y\":0,\"z\":0.5},{\"x\":30,\"y\":0,\"z\":0.5},{\"x\":31,\"y\":0,\"z\":0.5},{\"x\":32,\"y\":0,\"z\":0.5},{\"x\":33,\"y\":0,\"z\":0.5},{\"x\":34,\"y\":0,\"z\":0.5},{\"x\":35,\"y\":0,\"z\":0.5},{\"x\":36,\"y\":0,\"z\":0.5},{\"x\":37,\"y\":0,\"z\":0.5},{\"x\":38,\"y\":0,\"z\":0.5},{\"x\":39,\"y\":0,\"z\":0.5},{\"x\":40,\"y\":0,\"z\":0.5},{\"x\":41,\"y\":0,\"z\":0.5},{\"x\":42,\"y\":0,\"z\":0.5},{\"x\":43,\"y\":0,\"z\":0.5},{\"x\":45,\"y\":0,\"z\":0.5},{\"x\":46,\"y\":0,\"z\":0.5},{\"x\":47,\"y\":0,\"z\":0.5},{\"x\":49,\"y\":0,\"z\":0.5},{\"x\":50,\"y\":0,\"z\":0.5},{\"x\":51,\"y\":0,\"z\":0.5},{\"x\":53,\"y\":0,\"z\":0.5},{\"x\":54,\"y\":0,\"z\":0.5},{\"x\":54,\"y\":-1,\"z\":0.5},{\"x\":56,\"y\":-1,\"z\":0.5},{\"x\":57,\"y\":-1,\"z\":0.5},{\"x\":58,\"y\":-1,\"z\":0.5},{\"x\":60,\"y\":-1,\"z\":0.5},{\"x\":61,\"y\":-1,\"z\":0.5},{\"x\":62,\"y\":-2,\"z\":0.5},{\"x\":63,\"y\":-2,\"z\":0.5},{\"x\":64,\"y\":-2,\"z\":0.5},{\"x\":65,\"y\":-2,\"z\":0.5},{\"x\":66,\"y\":-2,\"z\":0.5},{\"x\":67,\"y\":-2,\"z\":0.5},{\"x\":68,\"y\":-2,\"z\":0.5},{\"x\":69,\"y\":-2,\"z\":0.5},{\"x\":70,\"y\":-3,\"z\":0.5},{\"x\":71,\"y\":-3,\"z\":0.5},{\"x\":73,\"y\":-3,\"z\":0.5},{\"x\":74,\"y\":-3,\"z\":0.5},{\"x\":75,\"y\":-3,\"z\":0.5},{\"x\":76,\"y\":-3,\"z\":0.5},{\"x\":77,\"y\":-3,\"z\":0.5},{\"x\":78,\"y\":-3,\"z\":0.5},{\"x\":79,\"y\":-3,\"z\":0.5},{\"x\":82,\"y\":-3,\"z\":0.5},{\"x\":90,\"y\":-1,\"z\":0.5},{\"x\":96,\"y\":1,\"z\":0.5},{\"x\":105,\"y\":5,\"z\":0.5},{\"x\":108,\"y\":7,\"z\":0.5},{\"x\":110,\"y\":9,\"z\":0.5},{\"x\":112,\"y\":11,\"z\":0.5},{\"x\":112,\"y\":12,\"z\":0.5},{\"x\":113,\"y\":19,\"z\":0.5},{\"x\":112,\"y\":25,\"z\":0.5},{\"x\":106,\"y\":42,\"z\":0.5},{\"x\":103,\"y\":51,\"z\":0.5},{\"x\":94,\"y\":71,\"z\":0.5},{\"x\":86,\"y\":83,\"z\":0.5},{\"x\":78,\"y\":96,\"z\":0.5},{\"x\":71,\"y\":109,\"z\":0.5},{\"x\":68,\"y\":115,\"z\":0.5},{\"x\":65,\"y\":123,\"z\":0.5},{\"x\":63,\"y\":127,\"z\":0.5},{\"x\":62,\"y\":129,\"z\":0.5},{\"x\":62,\"y\":131,\"z\":0.5},{\"x\":63,\"y\":133,\"z\":0.5},{\"x\":65,\"y\":135,\"z\":0.5},{\"x\":70,\"y\":138,\"z\":0.5},{\"x\":92,\"y\":143,\"z\":0.5},{\"x\":118,\"y\":147,\"z\":0.5},{\"x\":230,\"y\":144,\"z\":0.5},{\"x\":297,\"y\":145,\"z\":0.5},{\"x\":460,\"y\":167,\"z\":0.5},{\"x\":554,\"y\":190,\"z\":0.5},{\"x\":655,\"y\":223,\"z\":0.5},{\"x\":693,\"y\":235,\"z\":0.5}]}],\"color\":\"black\",\"fill\":\"none\",\"dash\":\"draw\",\"size\":\"m\",\"isComplete\":True,\"isClosed\":False,\"isPen\":False},\"parentId\":\"page:DeO2-Klmvjl_XHh6JIPoq\",\"index\":\"a3\",\"typeName\":\"shape\"},{\"x\":1029,\"y\":422,\"rotation\":0,\"isLocked\":False,\"opacity\":1,\"meta\":{},\"id\":\"shape:sIBOkRs1kfqyJgwP-Tson\",\"type\":\"draw\",\"props\":{\"segments\":[{\"type\":\"free\",\"points\":[{\"x\":0,\"y\":0,\"z\":0.5}]}],\"color\":\"black\",\"fill\":\"none\",\"dash\":\"draw\",\"size\":\"m\",\"isComplete\":True,\"isClosed\":False,\"isPen\":False},\"parentId\":\"page:DeO2-Klmvjl_XHh6JIPoq\",\"index\":\"a4\",\"typeName\":\"shape\"}]}\n",
    "string = json.dumps(thick_curve_donnees)\n",
    "thick_curve = json.loads(string)"
   ]
  },
  {
   "cell_type": "code",
   "execution_count": 47,
   "id": "7d39ff7e-07ad-4827-8442-489263c6aa9d",
   "metadata": {},
   "outputs": [],
   "source": [
    "ls = thick_curve['records']\n",
    "dico = ls[8]\n",
    "ls_2 = dico['props']['segments'] #liste à un élément contenant un dictionnaire\n",
    "dico_2 = ls_2[0]\n",
    "ls_points_dico = dico_2['points'] #liste contenant tous les dictionnaires contenant les coordonnées des points de tracé"
   ]
  },
  {
   "cell_type": "code",
   "execution_count": 38,
   "id": "acf792cb-3b58-489c-9e74-cd8c7308cc85",
   "metadata": {
    "collapsed": true,
    "jupyter": {
     "outputs_hidden": true
    }
   },
   "outputs": [
    {
     "data": {
      "text/plain": [
       "[{'x': 0, 'y': 0},\n",
       " {'x': 1, 'y': 0},\n",
       " {'x': 2, 'y': 0},\n",
       " {'x': 3, 'y': 0},\n",
       " {'x': 5, 'y': 0},\n",
       " {'x': 6, 'y': 0},\n",
       " {'x': 7, 'y': 0},\n",
       " {'x': 8, 'y': 0},\n",
       " {'x': 9, 'y': 0},\n",
       " {'x': 10, 'y': 0},\n",
       " {'x': 11, 'y': 0},\n",
       " {'x': 12, 'y': 0},\n",
       " {'x': 14, 'y': 0},\n",
       " {'x': 15, 'y': 0},\n",
       " {'x': 16, 'y': 0},\n",
       " {'x': 18, 'y': 0},\n",
       " {'x': 19, 'y': 0},\n",
       " {'x': 20, 'y': 0},\n",
       " {'x': 21, 'y': 0},\n",
       " {'x': 22, 'y': 0},\n",
       " {'x': 23, 'y': 0},\n",
       " {'x': 24, 'y': 0},\n",
       " {'x': 25, 'y': 0},\n",
       " {'x': 26, 'y': 0},\n",
       " {'x': 27, 'y': 0},\n",
       " {'x': 28, 'y': 0},\n",
       " {'x': 29, 'y': 0},\n",
       " {'x': 30, 'y': 0},\n",
       " {'x': 31, 'y': 0},\n",
       " {'x': 32, 'y': 0},\n",
       " {'x': 33, 'y': 0},\n",
       " {'x': 34, 'y': 0},\n",
       " {'x': 35, 'y': 0},\n",
       " {'x': 36, 'y': 0},\n",
       " {'x': 37, 'y': 0},\n",
       " {'x': 38, 'y': 0},\n",
       " {'x': 39, 'y': 0},\n",
       " {'x': 40, 'y': 0},\n",
       " {'x': 41, 'y': 0},\n",
       " {'x': 42, 'y': 0},\n",
       " {'x': 43, 'y': 0},\n",
       " {'x': 45, 'y': 0},\n",
       " {'x': 46, 'y': 0},\n",
       " {'x': 47, 'y': 0},\n",
       " {'x': 49, 'y': 0},\n",
       " {'x': 50, 'y': 0},\n",
       " {'x': 51, 'y': 0},\n",
       " {'x': 53, 'y': 0},\n",
       " {'x': 54, 'y': 0},\n",
       " {'x': 54, 'y': -1},\n",
       " {'x': 56, 'y': -1},\n",
       " {'x': 57, 'y': -1},\n",
       " {'x': 58, 'y': -1},\n",
       " {'x': 60, 'y': -1},\n",
       " {'x': 61, 'y': -1},\n",
       " {'x': 62, 'y': -2},\n",
       " {'x': 63, 'y': -2},\n",
       " {'x': 64, 'y': -2},\n",
       " {'x': 65, 'y': -2},\n",
       " {'x': 66, 'y': -2},\n",
       " {'x': 67, 'y': -2},\n",
       " {'x': 68, 'y': -2},\n",
       " {'x': 69, 'y': -2},\n",
       " {'x': 70, 'y': -3},\n",
       " {'x': 71, 'y': -3},\n",
       " {'x': 73, 'y': -3},\n",
       " {'x': 74, 'y': -3},\n",
       " {'x': 75, 'y': -3},\n",
       " {'x': 76, 'y': -3},\n",
       " {'x': 77, 'y': -3},\n",
       " {'x': 78, 'y': -3},\n",
       " {'x': 79, 'y': -3},\n",
       " {'x': 82, 'y': -3},\n",
       " {'x': 90, 'y': -1},\n",
       " {'x': 96, 'y': 1},\n",
       " {'x': 105, 'y': 5},\n",
       " {'x': 108, 'y': 7},\n",
       " {'x': 110, 'y': 9},\n",
       " {'x': 112, 'y': 11},\n",
       " {'x': 112, 'y': 12},\n",
       " {'x': 113, 'y': 19},\n",
       " {'x': 112, 'y': 25},\n",
       " {'x': 106, 'y': 42},\n",
       " {'x': 103, 'y': 51},\n",
       " {'x': 94, 'y': 71},\n",
       " {'x': 86, 'y': 83},\n",
       " {'x': 78, 'y': 96},\n",
       " {'x': 71, 'y': 109},\n",
       " {'x': 68, 'y': 115},\n",
       " {'x': 65, 'y': 123},\n",
       " {'x': 63, 'y': 127},\n",
       " {'x': 62, 'y': 129},\n",
       " {'x': 62, 'y': 131},\n",
       " {'x': 63, 'y': 133},\n",
       " {'x': 65, 'y': 135},\n",
       " {'x': 70, 'y': 138},\n",
       " {'x': 92, 'y': 143},\n",
       " {'x': 118, 'y': 147},\n",
       " {'x': 230, 'y': 144},\n",
       " {'x': 297, 'y': 145},\n",
       " {'x': 460, 'y': 167},\n",
       " {'x': 554, 'y': 190},\n",
       " {'x': 655, 'y': 223},\n",
       " {'x': 693, 'y': 235}]"
      ]
     },
     "execution_count": 38,
     "metadata": {},
     "output_type": "execute_result"
    }
   ],
   "source": [
    "ls_x = []\n",
    "ls_y = []\n",
    "for dico in ls_points_dico :\n",
    "    ls_x.append(dico['x']) # toutes les abscisses\n",
    "    ls_y.append(dico['y']) # toutes les ordonnées\n",
    "    del dico['z']\n",
    "X = np.array(ls_x)\n",
    "Y = np.array(ls_y)"
   ]
  },
  {
   "cell_type": "code",
   "execution_count": 39,
   "id": "dc573ee5-9ba6-4f39-8307-a081838941be",
   "metadata": {},
   "outputs": [
    {
     "data": {
      "image/png": "[encoded data removed]",
      "text/plain": [
       "<Figure size 640x480 with 1 Axes>"
      ]
     },
     "metadata": {},
     "output_type": "display_data"
    },
    {
     "data": {
      "text/plain": [
       "<Figure size 640x480 with 0 Axes>"
      ]
     },
     "metadata": {},
     "output_type": "display_data"
    }
   ],
   "source": [
    "plt.scatter(X,-Y, s=2) #sinon à l'envers\n",
    "plt.axis('equal')\n",
    "plt.figure()\n",
    "plt.show()"
   ]
  },
  {
   "cell_type": "code",
   "execution_count": 40,
   "id": "801eb6ad-5c2d-4a50-98b0-2e11488458b4",
   "metadata": {},
   "outputs": [
    {
     "data": {
      "image/png": "[encoded data removed]",
      "text/plain": [
       "<Figure size 640x480 with 1 Axes>"
      ]
     },
     "metadata": {},
     "output_type": "display_data"
    },
    {
     "data": {
      "text/plain": [
       "<Figure size 640x480 with 0 Axes>"
      ]
     },
     "metadata": {},
     "output_type": "display_data"
    }
   ],
   "source": [
    "import perfect_freehand as pfh\n",
    "\n",
    "pfh.get_stroke(ls_points_dico)\n",
    "stroke = pfh.get_stroke(ls_points_dico, size=32, thinning=0.7)\n",
    "x_stroke, y_stroke = zip(*stroke) #on sépare les coordonnées obtenues avec get_stroke\n",
    "\n",
    "x_outline = np.array(x_stroke) #on en fait des array pour pouvoir faire des opérations dessus\n",
    "y_outline = np.array(y_stroke)\n",
    "\n",
    "plt.scatter(X,-Y, s=2)\n",
    "plt.fill_between(x_outline, -y_outline, color='skyblue', alpha=0.2)\n",
    "plt.axis(\"equal\")\n",
    "plt.figure()\n",
    "plt.show()"
   ]
  },
  {
   "cell_type": "markdown",
   "id": "bd180371-d890-4bff-b43c-a0bcc3345a19",
   "metadata": {},
   "source": [
    "## Glyph Classification\n",
    "\n",
    "\n",
    "![](images/glyphs-reference.png)\n",
    "\n"
   ]
  },
  {
   "cell_type": "markdown",
   "id": "09f09688-57f7-425d-a77a-17cfedfcaf66",
   "metadata": {},
   "source": [
    "\n",
    "```{exercise} Glyph Collection\n",
    " 1. Create a tldraw document that contains many small variations of the same glyph as depicted above. Pick a glyph of your chosing!\n",
    "    Save it as `docs/glyphs.tldr`.\n",
    " \n",
    "    ⚠️ If you have a ✍️ pen tablet, use it; otherwise you're probably better off using your 👆 finger on a tablet / mobile phone than a 🖱️ mouse to get a collection of similar glyphs.\n",
    " 2. Draw all these glyph variants in matplotib ; translate them beforehand so that they have the same center of mass and are (mostly but not entirely) superimposed.\n",
    "```\n",
    "\n",
    "![](images/glyphs-superimposed.jpg)"
   ]
  },
  {
   "cell_type": "code",
   "execution_count": 84,
   "id": "df2bb065-dc47-4806-8a0a-7152985fb0e7",
   "metadata": {
    "scrolled": true
   },
   "outputs": [
    {
     "data": {
      "image/png": "[encoded data removed]",
      "text/plain": [
       "<Figure size 640x480 with 1 Axes>"
      ]
     },
     "metadata": {},
     "output_type": "display_data"
    },
    {
     "data": {
      "text/plain": [
       "<Figure size 640x480 with 0 Axes>"
      ]
     },
     "metadata": {},
     "output_type": "display_data"
    }
   ],
   "source": [
    "file = open(\"docs_glyphs_new.tldr\", mode=\"tr\", encoding = \"utf-8\")\n",
    "content = file.read()\n",
    "#modif des 'false', 'true', 'null'\n",
    "glyphs_donnees = {\"tldrawFileFormatVersion\":1,\"schema\":{\"schemaVersion\":1,\"storeVersion\":4,\"recordVersions\":{\"asset\":{\"version\":1,\"subTypeKey\":\"type\",\"subTypeVersions\":{\"image\":3,\"video\":3,\"bookmark\":1}},\"camera\":{\"version\":1},\"document\":{\"version\":2},\"instance\":{\"version\":23},\"instance_page_state\":{\"version\":5},\"page\":{\"version\":1},\"shape\":{\"version\":3,\"subTypeKey\":\"type\",\"subTypeVersions\":{\"group\":0,\"text\":1,\"bookmark\":2,\"draw\":1,\"geo\":8,\"note\":5,\"line\":1,\"frame\":0,\"arrow\":2,\"highlight\":0,\"embed\":4,\"image\":3,\"video\":2}},\"instance_presence\":{\"version\":5},\"pointer\":{\"version\":1}}},\"records\":[{\"gridSize\":10,\"name\":\"\",\"meta\":{},\"id\":\"document:document\",\"typeName\":\"document\"},{\"meta\":{},\"id\":\"page:DeO2-Klmvjl_XHh6JIPoq\",\"name\":\"Page 1\",\"index\":\"a1\",\"typeName\":\"page\"},{\"id\":\"pointer:pointer\",\"typeName\":\"pointer\",\"x\":244,\"y\":181,\"lastActivityTimestamp\":1706957500271,\"meta\":{}},{\"followingUserId\":0,\"opacityForNextShape\":1,\"stylesForNextShape\":{},\"brush\":0,\"scribbles\":[],\"cursor\":{\"type\":\"cross\",\"rotation\":0},\"isFocusMode\":False,\"exportBackground\":True,\"isDebugMode\":False,\"isToolLocked\":False,\"screenBounds\":{\"x\":0,\"y\":0,\"w\":1415.199951171875,\"h\":670.4000244140625},\"insets\":[False,True,True,False],\"zoomBrush\":0,\"isGridMode\":False,\"isPenMode\":False,\"chatMessage\":\"\",\"isChatting\":False,\"highlightedUserIds\":[],\"canMoveCamera\":True,\"isFocused\":True,\"devicePixelRatio\":1.25,\"isCoarsePointer\":False,\"isHoveringCanvas\":False,\"openMenus\":[\"main menu\",\"main menu menu file\"],\"isChangingStyle\":False,\"isReadonly\":False,\"meta\":{},\"id\":\"instance:instance\",\"currentPageId\":\"page:DeO2-Klmvjl_XHh6JIPoq\",\"typeName\":\"instance\"},{\"editingShapeId\":0,\"croppingShapeId\":0,\"selectedShapeIds\":[],\"hoveredShapeId\":0,\"erasingShapeIds\":[],\"hintingShapeIds\":[],\"focusedGroupId\":0,\"meta\":{},\"id\":\"instance_page_state:page:DeO2-Klmvjl_XHh6JIPoq\",\"pageId\":\"page:DeO2-Klmvjl_XHh6JIPoq\",\"typeName\":\"instance_page_state\"},{\"x\":0,\"y\":0,\"z\":1,\"meta\":{},\"id\":\"camera:page:DeO2-Klmvjl_XHh6JIPoq\",\"typeName\":\"camera\"},{\"x\":336,\"y\":187,\"rotation\":0,\"isLocked\":False,\"opacity\":1,\"meta\":{},\"id\":\"shape:bBp86NPe3kRmbUZprrHbI\",\"type\":\"draw\",\"props\":{\"segments\":[{\"type\":\"free\",\"points\":[{\"x\":0,\"y\":0,\"z\":0.5}]}],\"color\":\"black\",\"fill\":\"none\",\"dash\":\"draw\",\"size\":\"m\",\"isComplete\":True,\"isClosed\":False,\"isPen\":False},\"parentId\":\"page:DeO2-Klmvjl_XHh6JIPoq\",\"index\":\"a1\",\"typeName\":\"shape\"},{\"x\":336,\"y\":187,\"rotation\":0,\"isLocked\":False,\"opacity\":1,\"meta\":{},\"id\":\"shape:sbmvdtRMq9O-hJVkOiWct\",\"type\":\"draw\",\"props\":{\"segments\":[{\"type\":\"free\",\"points\":[{\"x\":0,\"y\":0,\"z\":0.5}]}],\"color\":\"black\",\"fill\":\"none\",\"dash\":\"draw\",\"size\":\"m\",\"isComplete\":True,\"isClosed\":False,\"isPen\":False},\"parentId\":\"page:DeO2-Klmvjl_XHh6JIPoq\",\"index\":\"a2\",\"typeName\":\"shape\"},{\"x\":336,\"y\":187,\"rotation\":0,\"isLocked\":False,\"opacity\":1,\"meta\":{},\"id\":\"shape:gVyBzucLa0cmeZSA5Q0PO\",\"type\":\"draw\",\"props\":{\"segments\":[{\"type\":\"free\",\"points\":[{\"x\":0,\"y\":0,\"z\":0.5},{\"x\":1,\"y\":0,\"z\":0.5},{\"x\":2,\"y\":0,\"z\":0.5},{\"x\":3,\"y\":0,\"z\":0.5},{\"x\":5,\"y\":0,\"z\":0.5},{\"x\":6,\"y\":0,\"z\":0.5},{\"x\":7,\"y\":0,\"z\":0.5},{\"x\":8,\"y\":0,\"z\":0.5},{\"x\":9,\"y\":0,\"z\":0.5},{\"x\":10,\"y\":0,\"z\":0.5},{\"x\":11,\"y\":0,\"z\":0.5},{\"x\":12,\"y\":0,\"z\":0.5},{\"x\":14,\"y\":0,\"z\":0.5},{\"x\":15,\"y\":0,\"z\":0.5},{\"x\":16,\"y\":0,\"z\":0.5},{\"x\":18,\"y\":0,\"z\":0.5},{\"x\":19,\"y\":0,\"z\":0.5},{\"x\":20,\"y\":0,\"z\":0.5},{\"x\":21,\"y\":0,\"z\":0.5},{\"x\":22,\"y\":0,\"z\":0.5},{\"x\":23,\"y\":0,\"z\":0.5},{\"x\":24,\"y\":0,\"z\":0.5},{\"x\":25,\"y\":0,\"z\":0.5},{\"x\":26,\"y\":0,\"z\":0.5},{\"x\":27,\"y\":0,\"z\":0.5},{\"x\":28,\"y\":0,\"z\":0.5},{\"x\":29,\"y\":0,\"z\":0.5},{\"x\":30,\"y\":0,\"z\":0.5},{\"x\":31,\"y\":0,\"z\":0.5},{\"x\":32,\"y\":0,\"z\":0.5},{\"x\":33,\"y\":0,\"z\":0.5},{\"x\":34,\"y\":0,\"z\":0.5},{\"x\":35,\"y\":0,\"z\":0.5},{\"x\":36,\"y\":0,\"z\":0.5},{\"x\":37,\"y\":0,\"z\":0.5},{\"x\":38,\"y\":0,\"z\":0.5},{\"x\":39,\"y\":0,\"z\":0.5},{\"x\":40,\"y\":0,\"z\":0.5},{\"x\":41,\"y\":0,\"z\":0.5},{\"x\":42,\"y\":0,\"z\":0.5},{\"x\":43,\"y\":0,\"z\":0.5},{\"x\":45,\"y\":0,\"z\":0.5},{\"x\":46,\"y\":0,\"z\":0.5},{\"x\":47,\"y\":0,\"z\":0.5},{\"x\":49,\"y\":0,\"z\":0.5},{\"x\":50,\"y\":0,\"z\":0.5},{\"x\":51,\"y\":0,\"z\":0.5},{\"x\":53,\"y\":0,\"z\":0.5},{\"x\":54,\"y\":0,\"z\":0.5},{\"x\":54,\"y\":-1,\"z\":0.5},{\"x\":56,\"y\":-1,\"z\":0.5},{\"x\":57,\"y\":-1,\"z\":0.5},{\"x\":58,\"y\":-1,\"z\":0.5},{\"x\":60,\"y\":-1,\"z\":0.5},{\"x\":61,\"y\":-1,\"z\":0.5},{\"x\":62,\"y\":-2,\"z\":0.5},{\"x\":63,\"y\":-2,\"z\":0.5},{\"x\":64,\"y\":-2,\"z\":0.5},{\"x\":65,\"y\":-2,\"z\":0.5},{\"x\":66,\"y\":-2,\"z\":0.5},{\"x\":67,\"y\":-2,\"z\":0.5},{\"x\":68,\"y\":-2,\"z\":0.5},{\"x\":69,\"y\":-2,\"z\":0.5},{\"x\":70,\"y\":-3,\"z\":0.5},{\"x\":71,\"y\":-3,\"z\":0.5},{\"x\":73,\"y\":-3,\"z\":0.5},{\"x\":74,\"y\":-3,\"z\":0.5},{\"x\":75,\"y\":-3,\"z\":0.5},{\"x\":76,\"y\":-3,\"z\":0.5},{\"x\":77,\"y\":-3,\"z\":0.5},{\"x\":78,\"y\":-3,\"z\":0.5},{\"x\":79,\"y\":-3,\"z\":0.5},{\"x\":82,\"y\":-3,\"z\":0.5},{\"x\":90,\"y\":-1,\"z\":0.5},{\"x\":96,\"y\":1,\"z\":0.5},{\"x\":105,\"y\":5,\"z\":0.5},{\"x\":108,\"y\":7,\"z\":0.5},{\"x\":110,\"y\":9,\"z\":0.5},{\"x\":112,\"y\":11,\"z\":0.5},{\"x\":112,\"y\":12,\"z\":0.5},{\"x\":113,\"y\":19,\"z\":0.5},{\"x\":112,\"y\":25,\"z\":0.5},{\"x\":106,\"y\":42,\"z\":0.5},{\"x\":103,\"y\":51,\"z\":0.5},{\"x\":94,\"y\":71,\"z\":0.5},{\"x\":86,\"y\":83,\"z\":0.5},{\"x\":78,\"y\":96,\"z\":0.5},{\"x\":71,\"y\":109,\"z\":0.5},{\"x\":68,\"y\":115,\"z\":0.5},{\"x\":65,\"y\":123,\"z\":0.5},{\"x\":63,\"y\":127,\"z\":0.5},{\"x\":62,\"y\":129,\"z\":0.5},{\"x\":62,\"y\":131,\"z\":0.5},{\"x\":63,\"y\":133,\"z\":0.5},{\"x\":65,\"y\":135,\"z\":0.5},{\"x\":70,\"y\":138,\"z\":0.5},{\"x\":92,\"y\":143,\"z\":0.5},{\"x\":118,\"y\":147,\"z\":0.5},{\"x\":230,\"y\":144,\"z\":0.5},{\"x\":297,\"y\":145,\"z\":0.5},{\"x\":460,\"y\":167,\"z\":0.5},{\"x\":554,\"y\":190,\"z\":0.5},{\"x\":655,\"y\":223,\"z\":0.5},{\"x\":693,\"y\":235,\"z\":0.5}]}],\"color\":\"black\",\"fill\":\"none\",\"dash\":\"draw\",\"size\":\"m\",\"isComplete\":True,\"isClosed\":False,\"isPen\":False},\"parentId\":\"page:DeO2-Klmvjl_XHh6JIPoq\",\"index\":\"a3\",\"typeName\":\"shape\"},{\"x\":1029,\"y\":422,\"rotation\":0,\"isLocked\":False,\"opacity\":1,\"meta\":{},\"id\":\"shape:sIBOkRs1kfqyJgwP-Tson\",\"type\":\"draw\",\"props\":{\"segments\":[{\"type\":\"free\",\"points\":[{\"x\":0,\"y\":0,\"z\":0.5}]}],\"color\":\"black\",\"fill\":\"none\",\"dash\":\"draw\",\"size\":\"m\",\"isComplete\":True,\"isClosed\":False,\"isPen\":False},\"parentId\":\"page:DeO2-Klmvjl_XHh6JIPoq\",\"index\":\"a4\",\"typeName\":\"shape\"}]}\n",
    "glyphs_dumps = json.dumps(glyphs_donnees)\n",
    "glyphs = json.loads(glyphs_dumps)\n",
    "\n",
    "ls_glyphs = glyphs['records']\n",
    "dico = ls[8]\n",
    "ls_2_glyphs = dico['props']['segments'] #liste à un élément contenant un dictionnaire\n",
    "dico_2_glyphs = ls_2_glyphs[0]\n",
    "ls_points_dico_glyphs = dico_2_glyphs['points'] #liste contenant tous les dictionnaires contenant les coordonnées des points de tracé\n",
    "\n",
    "ls_glyphs_x = []\n",
    "ls_glyphs_y = []\n",
    "for dico in ls_points_dico_glyphs :\n",
    "    ls_glyphs_x.append(dico['x']) # toutes les abscisses\n",
    "    ls_glyphs_y.append(dico['y']) # toutes les ordonnées\n",
    "X = np.array(ls_glyphs_x)\n",
    "Y = np.array(ls_glyphs_y)\n",
    "\n",
    "plt.plot(X,-Y) #sinon à l'envers\n",
    "plt.axis('equal')\n",
    "plt.figure()\n",
    "plt.show()\n"
   ]
  },
  {
   "cell_type": "code",
   "execution_count": 85,
   "id": "b2d3d53f-2932-4df4-bb7c-cee3a5a8eb55",
   "metadata": {
    "collapsed": true,
    "jupyter": {
     "outputs_hidden": true
    }
   },
   "outputs": [
    {
     "data": {
      "text/plain": [
       "{'tldrawFileFormatVersion': 1,\n",
       " 'schema': {'schemaVersion': 1,\n",
       "  'storeVersion': 4,\n",
       "  'recordVersions': {'asset': {'version': 1,\n",
       "    'subTypeKey': 'type',\n",
       "    'subTypeVersions': {'image': 3, 'video': 3, 'bookmark': 1}},\n",
       "   'camera': {'version': 1},\n",
       "   'document': {'version': 2},\n",
       "   'instance': {'version': 23},\n",
       "   'instance_page_state': {'version': 5},\n",
       "   'page': {'version': 1},\n",
       "   'shape': {'version': 3,\n",
       "    'subTypeKey': 'type',\n",
       "    'subTypeVersions': {'group': 0,\n",
       "     'text': 1,\n",
       "     'bookmark': 2,\n",
       "     'draw': 1,\n",
       "     'geo': 8,\n",
       "     'note': 5,\n",
       "     'line': 1,\n",
       "     'frame': 0,\n",
       "     'arrow': 2,\n",
       "     'highlight': 0,\n",
       "     'embed': 4,\n",
       "     'image': 3,\n",
       "     'video': 2}},\n",
       "   'instance_presence': {'version': 5},\n",
       "   'pointer': {'version': 1}}},\n",
       " 'records': [{'gridSize': 10,\n",
       "   'name': '',\n",
       "   'meta': {},\n",
       "   'id': 'document:document',\n",
       "   'typeName': 'document'},\n",
       "  {'meta': {},\n",
       "   'id': 'page:DeO2-Klmvjl_XHh6JIPoq',\n",
       "   'name': 'Page 1',\n",
       "   'index': 'a1',\n",
       "   'typeName': 'page'},\n",
       "  {'id': 'pointer:pointer',\n",
       "   'typeName': 'pointer',\n",
       "   'x': 244,\n",
       "   'y': 181,\n",
       "   'lastActivityTimestamp': 1706957500271,\n",
       "   'meta': {}},\n",
       "  {'followingUserId': 0,\n",
       "   'opacityForNextShape': 1,\n",
       "   'stylesForNextShape': {},\n",
       "   'brush': 0,\n",
       "   'scribbles': [],\n",
       "   'cursor': {'type': 'cross', 'rotation': 0},\n",
       "   'isFocusMode': False,\n",
       "   'exportBackground': True,\n",
       "   'isDebugMode': False,\n",
       "   'isToolLocked': False,\n",
       "   'screenBounds': {'x': 0,\n",
       "    'y': 0,\n",
       "    'w': 1415.199951171875,\n",
       "    'h': 670.4000244140625},\n",
       "   'insets': [False, True, True, False],\n",
       "   'zoomBrush': 0,\n",
       "   'isGridMode': False,\n",
       "   'isPenMode': False,\n",
       "   'chatMessage': '',\n",
       "   'isChatting': False,\n",
       "   'highlightedUserIds': [],\n",
       "   'canMoveCamera': True,\n",
       "   'isFocused': True,\n",
       "   'devicePixelRatio': 1.25,\n",
       "   'isCoarsePointer': False,\n",
       "   'isHoveringCanvas': False,\n",
       "   'openMenus': ['main menu', 'main menu menu file'],\n",
       "   'isChangingStyle': False,\n",
       "   'isReadonly': False,\n",
       "   'meta': {},\n",
       "   'id': 'instance:instance',\n",
       "   'currentPageId': 'page:DeO2-Klmvjl_XHh6JIPoq',\n",
       "   'typeName': 'instance'},\n",
       "  {'editingShapeId': 0,\n",
       "   'croppingShapeId': 0,\n",
       "   'selectedShapeIds': [],\n",
       "   'hoveredShapeId': 0,\n",
       "   'erasingShapeIds': [],\n",
       "   'hintingShapeIds': [],\n",
       "   'focusedGroupId': 0,\n",
       "   'meta': {},\n",
       "   'id': 'instance_page_state:page:DeO2-Klmvjl_XHh6JIPoq',\n",
       "   'pageId': 'page:DeO2-Klmvjl_XHh6JIPoq',\n",
       "   'typeName': 'instance_page_state'},\n",
       "  {'x': 0,\n",
       "   'y': 0,\n",
       "   'z': 1,\n",
       "   'meta': {},\n",
       "   'id': 'camera:page:DeO2-Klmvjl_XHh6JIPoq',\n",
       "   'typeName': 'camera'},\n",
       "  {'x': 336,\n",
       "   'y': 187,\n",
       "   'rotation': 0,\n",
       "   'isLocked': False,\n",
       "   'opacity': 1,\n",
       "   'meta': {},\n",
       "   'id': 'shape:bBp86NPe3kRmbUZprrHbI',\n",
       "   'type': 'draw',\n",
       "   'props': {'segments': [{'type': 'free',\n",
       "      'points': [{'x': 0, 'y': 0, 'z': 0.5}]}],\n",
       "    'color': 'black',\n",
       "    'fill': 'none',\n",
       "    'dash': 'draw',\n",
       "    'size': 'm',\n",
       "    'isComplete': True,\n",
       "    'isClosed': False,\n",
       "    'isPen': False},\n",
       "   'parentId': 'page:DeO2-Klmvjl_XHh6JIPoq',\n",
       "   'index': 'a1',\n",
       "   'typeName': 'shape'},\n",
       "  {'x': 336,\n",
       "   'y': 187,\n",
       "   'rotation': 0,\n",
       "   'isLocked': False,\n",
       "   'opacity': 1,\n",
       "   'meta': {},\n",
       "   'id': 'shape:sbmvdtRMq9O-hJVkOiWct',\n",
       "   'type': 'draw',\n",
       "   'props': {'segments': [{'type': 'free',\n",
       "      'points': [{'x': 0, 'y': 0, 'z': 0.5}]}],\n",
       "    'color': 'black',\n",
       "    'fill': 'none',\n",
       "    'dash': 'draw',\n",
       "    'size': 'm',\n",
       "    'isComplete': True,\n",
       "    'isClosed': False,\n",
       "    'isPen': False},\n",
       "   'parentId': 'page:DeO2-Klmvjl_XHh6JIPoq',\n",
       "   'index': 'a2',\n",
       "   'typeName': 'shape'},\n",
       "  {'x': 336,\n",
       "   'y': 187,\n",
       "   'rotation': 0,\n",
       "   'isLocked': False,\n",
       "   'opacity': 1,\n",
       "   'meta': {},\n",
       "   'id': 'shape:gVyBzucLa0cmeZSA5Q0PO',\n",
       "   'type': 'draw',\n",
       "   'props': {'segments': [{'type': 'free',\n",
       "      'points': [{'x': 0, 'y': 0, 'z': 0.5},\n",
       "       {'x': 1, 'y': 0, 'z': 0.5},\n",
       "       {'x': 2, 'y': 0, 'z': 0.5},\n",
       "       {'x': 3, 'y': 0, 'z': 0.5},\n",
       "       {'x': 5, 'y': 0, 'z': 0.5},\n",
       "       {'x': 6, 'y': 0, 'z': 0.5},\n",
       "       {'x': 7, 'y': 0, 'z': 0.5},\n",
       "       {'x': 8, 'y': 0, 'z': 0.5},\n",
       "       {'x': 9, 'y': 0, 'z': 0.5},\n",
       "       {'x': 10, 'y': 0, 'z': 0.5},\n",
       "       {'x': 11, 'y': 0, 'z': 0.5},\n",
       "       {'x': 12, 'y': 0, 'z': 0.5},\n",
       "       {'x': 14, 'y': 0, 'z': 0.5},\n",
       "       {'x': 15, 'y': 0, 'z': 0.5},\n",
       "       {'x': 16, 'y': 0, 'z': 0.5},\n",
       "       {'x': 18, 'y': 0, 'z': 0.5},\n",
       "       {'x': 19, 'y': 0, 'z': 0.5},\n",
       "       {'x': 20, 'y': 0, 'z': 0.5},\n",
       "       {'x': 21, 'y': 0, 'z': 0.5},\n",
       "       {'x': 22, 'y': 0, 'z': 0.5},\n",
       "       {'x': 23, 'y': 0, 'z': 0.5},\n",
       "       {'x': 24, 'y': 0, 'z': 0.5},\n",
       "       {'x': 25, 'y': 0, 'z': 0.5},\n",
       "       {'x': 26, 'y': 0, 'z': 0.5},\n",
       "       {'x': 27, 'y': 0, 'z': 0.5},\n",
       "       {'x': 28, 'y': 0, 'z': 0.5},\n",
       "       {'x': 29, 'y': 0, 'z': 0.5},\n",
       "       {'x': 30, 'y': 0, 'z': 0.5},\n",
       "       {'x': 31, 'y': 0, 'z': 0.5},\n",
       "       {'x': 32, 'y': 0, 'z': 0.5},\n",
       "       {'x': 33, 'y': 0, 'z': 0.5},\n",
       "       {'x': 34, 'y': 0, 'z': 0.5},\n",
       "       {'x': 35, 'y': 0, 'z': 0.5},\n",
       "       {'x': 36, 'y': 0, 'z': 0.5},\n",
       "       {'x': 37, 'y': 0, 'z': 0.5},\n",
       "       {'x': 38, 'y': 0, 'z': 0.5},\n",
       "       {'x': 39, 'y': 0, 'z': 0.5},\n",
       "       {'x': 40, 'y': 0, 'z': 0.5},\n",
       "       {'x': 41, 'y': 0, 'z': 0.5},\n",
       "       {'x': 42, 'y': 0, 'z': 0.5},\n",
       "       {'x': 43, 'y': 0, 'z': 0.5},\n",
       "       {'x': 45, 'y': 0, 'z': 0.5},\n",
       "       {'x': 46, 'y': 0, 'z': 0.5},\n",
       "       {'x': 47, 'y': 0, 'z': 0.5},\n",
       "       {'x': 49, 'y': 0, 'z': 0.5},\n",
       "       {'x': 50, 'y': 0, 'z': 0.5},\n",
       "       {'x': 51, 'y': 0, 'z': 0.5},\n",
       "       {'x': 53, 'y': 0, 'z': 0.5},\n",
       "       {'x': 54, 'y': 0, 'z': 0.5},\n",
       "       {'x': 54, 'y': -1, 'z': 0.5},\n",
       "       {'x': 56, 'y': -1, 'z': 0.5},\n",
       "       {'x': 57, 'y': -1, 'z': 0.5},\n",
       "       {'x': 58, 'y': -1, 'z': 0.5},\n",
       "       {'x': 60, 'y': -1, 'z': 0.5},\n",
       "       {'x': 61, 'y': -1, 'z': 0.5},\n",
       "       {'x': 62, 'y': -2, 'z': 0.5},\n",
       "       {'x': 63, 'y': -2, 'z': 0.5},\n",
       "       {'x': 64, 'y': -2, 'z': 0.5},\n",
       "       {'x': 65, 'y': -2, 'z': 0.5},\n",
       "       {'x': 66, 'y': -2, 'z': 0.5},\n",
       "       {'x': 67, 'y': -2, 'z': 0.5},\n",
       "       {'x': 68, 'y': -2, 'z': 0.5},\n",
       "       {'x': 69, 'y': -2, 'z': 0.5},\n",
       "       {'x': 70, 'y': -3, 'z': 0.5},\n",
       "       {'x': 71, 'y': -3, 'z': 0.5},\n",
       "       {'x': 73, 'y': -3, 'z': 0.5},\n",
       "       {'x': 74, 'y': -3, 'z': 0.5},\n",
       "       {'x': 75, 'y': -3, 'z': 0.5},\n",
       "       {'x': 76, 'y': -3, 'z': 0.5},\n",
       "       {'x': 77, 'y': -3, 'z': 0.5},\n",
       "       {'x': 78, 'y': -3, 'z': 0.5},\n",
       "       {'x': 79, 'y': -3, 'z': 0.5},\n",
       "       {'x': 82, 'y': -3, 'z': 0.5},\n",
       "       {'x': 90, 'y': -1, 'z': 0.5},\n",
       "       {'x': 96, 'y': 1, 'z': 0.5},\n",
       "       {'x': 105, 'y': 5, 'z': 0.5},\n",
       "       {'x': 108, 'y': 7, 'z': 0.5},\n",
       "       {'x': 110, 'y': 9, 'z': 0.5},\n",
       "       {'x': 112, 'y': 11, 'z': 0.5},\n",
       "       {'x': 112, 'y': 12, 'z': 0.5},\n",
       "       {'x': 113, 'y': 19, 'z': 0.5},\n",
       "       {'x': 112, 'y': 25, 'z': 0.5},\n",
       "       {'x': 106, 'y': 42, 'z': 0.5},\n",
       "       {'x': 103, 'y': 51, 'z': 0.5},\n",
       "       {'x': 94, 'y': 71, 'z': 0.5},\n",
       "       {'x': 86, 'y': 83, 'z': 0.5},\n",
       "       {'x': 78, 'y': 96, 'z': 0.5},\n",
       "       {'x': 71, 'y': 109, 'z': 0.5},\n",
       "       {'x': 68, 'y': 115, 'z': 0.5},\n",
       "       {'x': 65, 'y': 123, 'z': 0.5},\n",
       "       {'x': 63, 'y': 127, 'z': 0.5},\n",
       "       {'x': 62, 'y': 129, 'z': 0.5},\n",
       "       {'x': 62, 'y': 131, 'z': 0.5},\n",
       "       {'x': 63, 'y': 133, 'z': 0.5},\n",
       "       {'x': 65, 'y': 135, 'z': 0.5},\n",
       "       {'x': 70, 'y': 138, 'z': 0.5},\n",
       "       {'x': 92, 'y': 143, 'z': 0.5},\n",
       "       {'x': 118, 'y': 147, 'z': 0.5},\n",
       "       {'x': 230, 'y': 144, 'z': 0.5},\n",
       "       {'x': 297, 'y': 145, 'z': 0.5},\n",
       "       {'x': 460, 'y': 167, 'z': 0.5},\n",
       "       {'x': 554, 'y': 190, 'z': 0.5},\n",
       "       {'x': 655, 'y': 223, 'z': 0.5},\n",
       "       {'x': 693, 'y': 235, 'z': 0.5}]}],\n",
       "    'color': 'black',\n",
       "    'fill': 'none',\n",
       "    'dash': 'draw',\n",
       "    'size': 'm',\n",
       "    'isComplete': True,\n",
       "    'isClosed': False,\n",
       "    'isPen': False},\n",
       "   'parentId': 'page:DeO2-Klmvjl_XHh6JIPoq',\n",
       "   'index': 'a3',\n",
       "   'typeName': 'shape'},\n",
       "  {'x': 1029,\n",
       "   'y': 422,\n",
       "   'rotation': 0,\n",
       "   'isLocked': False,\n",
       "   'opacity': 1,\n",
       "   'meta': {},\n",
       "   'id': 'shape:sIBOkRs1kfqyJgwP-Tson',\n",
       "   'type': 'draw',\n",
       "   'props': {'segments': [{'type': 'free',\n",
       "      'points': [{'x': 0, 'y': 0, 'z': 0.5}]}],\n",
       "    'color': 'black',\n",
       "    'fill': 'none',\n",
       "    'dash': 'draw',\n",
       "    'size': 'm',\n",
       "    'isComplete': True,\n",
       "    'isClosed': False,\n",
       "    'isPen': False},\n",
       "   'parentId': 'page:DeO2-Klmvjl_XHh6JIPoq',\n",
       "   'index': 'a4',\n",
       "   'typeName': 'shape'}]}"
      ]
     },
     "execution_count": 85,
     "metadata": {},
     "output_type": "execute_result"
    }
   ],
   "source": [
    "glyphs"
   ]
  },
  {
   "cell_type": "markdown",
   "id": "1380c147-72fa-4013-af5e-e75105cee7f1",
   "metadata": {},
   "source": [
    "Each glyph may have a different number of samples, so its hard to compare them directly. Additionally they may be a bit rough and could probably use a smoother and denser representation (with many more points).\n",
    "\n",
    "```{exercise} Interpolation and Resampling\n",
    " 1. Associate to any glyph represented by its coordinate a path $t \\in [0, 1] \\mapsto \\mathbb{R}^2$ (as a Python function), using some \"smooth\" interpolation.\n",
    " \n",
    "    **Hint:** use [`scipy.interpolate.interp1d`](https://docs.scipy.org/doc/scipy/reference/generated/scipy.interpolate.interp1d.html).\n",
    " \n",
    " 2. Sample it uniformly to get exactly 1000 points.\n",
    "\n",
    "```\n",
    "\n"
   ]
  },
  {
   "cell_type": "markdown",
   "id": "f7c648de-600b-41ab-9356-06f1fd1d7a63",
   "metadata": {},
   "source": [
    "```{exercise} Mean Glyph\n",
    " 1. Use the set of resampled coordinates to compute the (resampled) \"mean glyph\" that averages the features of all glyphs. \n",
    " 2. Draw this glyph !\n",
    "```\n",
    "\n",
    "![](images/glyphs-mean.jpg)"
   ]
  },
  {
   "cell_type": "markdown",
   "id": "11150ebe-6abd-4ce4-9bf8-c43b245690f4",
   "metadata": {},
   "source": [
    "```{exercise} Glyph Similarity\n",
    "\n",
    " 1. Come up with a scalar measure of the \"dissimilarity\" between two resampled glyphs (2 arrays of 1000 points), which is equal to 0 when both glyphs are identical and gets larger as the glyphs become more different.\n",
    "\n",
    " 2. Compute the dissimilarity between each glyph and the mean glyph and compute the maximal dissimilarity for our collection of small variants.\n",
    "```"
   ]
  },
  {
   "cell_type": "markdown",
   "id": "4efc179f-76d8-49f9-a691-7d8d275924de",
   "metadata": {},
   "source": [
    "\n",
    "```{exercise} Glyph Classification\n",
    "\n",
    " 1. Create a document with several glyphs similar to the reference one and several ones wich are dissimilar. Save it as `docs/glyphs-misc.tldr\".\n",
    "\n",
    " 2. Generate automatically a new tldraw document `docs/glyphs-classified.tldr` with the same set of glyphs, but such that the glyphs are green when they are similar to the reference one and red if they are dissimilar.\n",
    "```\n",
    "\n",
    "\n",
    "![](images/glyphs-misc.png)\n",
    "\n",
    "![](images/glyphs-misc-checked.png)"
   ]
  }
 ],
 "metadata": {
  "kernelspec": {
   "display_name": "Python 3 (ipykernel)",
   "language": "python",
   "name": "python3"
  },
  "language_info": {
   "codemirror_mode": {
    "name": "ipython",
    "version": 3
   },
   "file_extension": ".py",
   "mimetype": "text/x-python",
   "name": "python",
   "nbconvert_exporter": "python",
   "pygments_lexer": "ipython3",
   "version": "3.11.0"
  }
 },
 "nbformat": 4,
 "nbformat_minor": 5
}
