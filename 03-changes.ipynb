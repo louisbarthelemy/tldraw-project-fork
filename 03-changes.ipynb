{
 "cells": [
  {
   "cell_type": "markdown",
   "metadata": {},
   "source": [
    "---\n",
    "title: Tracking Changes\n",
    "date: 2023-11-30 \n",
    "authors:\n",
    "  - name: Sébastien Boisgérault\n",
    "    email: Sebastien.Boisgerault@minesparis.psl.eu\n",
    "    url: https://github.com/boisgera\n",
    "    affiliations:\n",
    "      - institution: Mines Paris - PSL University\n",
    "        department: Institut des Transformation Numériques (ITN)\n",
    "github: boisgera\n",
    "license: CC-BY-4.0\n",
    "open_access: true\n",
    "---"
   ]
  },
  {
   "cell_type": "markdown",
   "metadata": {},
   "source": [
    "In order to understand how `.tldr` files are structured, we can add a new graphical objects, change some if their properties, etc. and each time we modify the document, analyze the corresponding evolution of the file.\n",
    "\n",
    "In this notebook, we develop some tooling to help us track such changes."
   ]
  },
  {
   "cell_type": "markdown",
   "metadata": {},
   "source": [
    "## Text comparison"
   ]
  },
  {
   "cell_type": "markdown",
   "metadata": {},
   "source": [
    "We define two similar versions of the \"zen of Python\":"
   ]
  },
  {
   "cell_type": "code",
   "execution_count": 2,
   "metadata": {},
   "outputs": [],
   "source": [
    "zen_1 = \"\"\"The Zen of Python, by Tim Peters\n",
    "\n",
    "Beautiful is better than ugly.\n",
    "Explicit is better than implicit.\n",
    "Simple is better than complex.\n",
    "Complex is better than complicated.\n",
    "Flat is better than nested.\n",
    "Sparse is better than dense.\n",
    "Readability counts.\n",
    "Special cases aren't special enough to break the rules.\n",
    "Errors should never pass silently.\n",
    "In the face of ambiguity, refuse the temptation to guess.\n",
    "There should be one obvious way to do it.\n",
    "Although that way may not be obvious at first.\n",
    "Now is better than never.\n",
    "Although never is often better than right now.\n",
    "If the implementation is hard to explain, it's a bad idea.\n",
    "If the implementation is easy to explain, it is a good idea.\n",
    "\"\"\""
   ]
  },
  {
   "cell_type": "code",
   "execution_count": 3,
   "metadata": {},
   "outputs": [],
   "source": [
    "zen_2 = \"\"\"\\\n",
    "The Zen of Python, by Tim Peters\n",
    "\n",
    "Beautiful is better than ugly.\n",
    "Explicit is better than implicit.\n",
    "Simple is better than complex.\n",
    "Complex is better than complicated.\n",
    "Flat is better than nested.\n",
    "Sparse is better than dense.\n",
    "Readability counts.\n",
    "Special cases aren't special enough to break the rules.\n",
    "Although practicality beats purity.\n",
    "Errors should never pass silently.\n",
    "Unless explicitly silenced.\n",
    "In the face of ambiguity, refuse the temptation to guess.\n",
    "There should be one-- and preferably only one --obvious way to do it.\n",
    "Although that way may not be obvious at first unless you're Dutch.\n",
    "Now is better than never.\n",
    "Although never is often better than *right* now.\n",
    "If the implementation is hard to explain, it's a bad idea.\n",
    "If the implementation is easy to explain, it may be a good idea.\n",
    "Namespaces are one honking great idea -- let's do more of those!\n",
    "\"\"\""
   ]
  },
  {
   "cell_type": "markdown",
   "metadata": {},
   "source": [
    "```{exercise}\n",
    " 1. Transform `zen_1` and `zen_2` into list of lines.\n",
    " 2. Use the [`difflib`](https://docs.python.org/3/library/difflib.html) module of the Python standard library to [`compare`](https://docs.python.org/3/library/difflib.html#difflib.Differ.compare) the two sequences.\n",
    " 3. Make a text out of the output of compare and print it.\n",
    " 4. Interpret the result and list the differences between both versions of the zen of Python.\n",
    "```"
   ]
  },
  {
   "cell_type": "code",
   "execution_count": 4,
   "metadata": {},
   "outputs": [],
   "source": [
    "list_lines_1 = zen_1.splitlines()\n",
    "list_lines_2 = zen_2.splitlines()"
   ]
  },
  {
   "cell_type": "code",
   "execution_count": 5,
   "metadata": {
    "jupyter": {
     "source_hidden": true
    }
   },
   "outputs": [
    {
     "data": {
      "text/plain": [
       "['The Zen of Python, by Tim Peters',\n",
       " '',\n",
       " 'Beautiful is better than ugly.',\n",
       " 'Explicit is better than implicit.',\n",
       " 'Simple is better than complex.',\n",
       " 'Complex is better than complicated.',\n",
       " 'Flat is better than nested.',\n",
       " 'Sparse is better than dense.',\n",
       " 'Readability counts.',\n",
       " \"Special cases aren't special enough to break the rules.\",\n",
       " 'Errors should never pass silently.',\n",
       " 'In the face of ambiguity, refuse the temptation to guess.',\n",
       " 'There should be one obvious way to do it.',\n",
       " 'Although that way may not be obvious at first.',\n",
       " 'Now is better than never.',\n",
       " 'Although never is often better than right now.',\n",
       " \"If the implementation is hard to explain, it's a bad idea.\",\n",
       " 'If the implementation is easy to explain, it is a good idea.']"
      ]
     },
     "execution_count": 5,
     "metadata": {},
     "output_type": "execute_result"
    }
   ],
   "source": [
    "list_lines_1"
   ]
  },
  {
   "cell_type": "code",
   "execution_count": 6,
   "metadata": {},
   "outputs": [
    {
     "name": "stdout",
     "output_type": "stream",
     "text": [
      "  The Zen of Python, by Tim Peters\n",
      "  \n",
      "  Beautiful is better than ugly.\n",
      "  Explicit is better than implicit.\n",
      "  Simple is better than complex.\n",
      "  Complex is better than complicated.\n",
      "  Flat is better than nested.\n",
      "  Sparse is better than dense.\n",
      "  Readability counts.\n",
      "  Special cases aren't special enough to break the rules.\n",
      "+ Although practicality beats purity.\n",
      "  Errors should never pass silently.\n",
      "+ Unless explicitly silenced.\n",
      "  In the face of ambiguity, refuse the temptation to guess.\n",
      "- There should be one obvious way to do it.\n",
      "+ There should be one-- and preferably only one --obvious way to do it.\n",
      "- Although that way may not be obvious at first.\n",
      "+ Although that way may not be obvious at first unless you're Dutch.\n",
      "?                                              ++++++++++++++++++++\n",
      "\n",
      "  Now is better than never.\n",
      "- Although never is often better than right now.\n",
      "+ Although never is often better than *right* now.\n",
      "?                                     +     +\n",
      "\n",
      "  If the implementation is hard to explain, it's a bad idea.\n",
      "- If the implementation is easy to explain, it is a good idea.\n",
      "?                                              ^^\n",
      "\n",
      "+ If the implementation is easy to explain, it may be a good idea.\n",
      "?                                              ^^^^^^\n",
      "\n",
      "+ Namespaces are one honking great idea -- let's do more of those!\n"
     ]
    }
   ],
   "source": [
    "import difflib as diff\n",
    "\n",
    "differ = diff.Differ()  #on appelle la classe Differ du module difflib\n",
    "\n",
    "comparison = differ.compare(list_lines_1, list_lines_2)  #on utilise la méthode compare de la classe Differ\n",
    "comparison_list = list(comparison) #on convertit le générateur en une liste\n",
    "\n",
    "for line in comparison_list :\n",
    "   print(line)\n"
   ]
  },
  {
   "cell_type": "markdown",
   "metadata": {},
   "source": [
    "We can make our job easier if we use HTML instead of plain text to visualise the differences between the two texts.\n",
    "\n",
    "\n",
    "```{exercise}\n",
    "  1. Use the [HtmlDiff](https://docs.python.org/3/library/difflib.html#difflib.HtmlDiff) class of difflib to produce a `diff.html` file that represents this difference in a HTML document.\n",
    "  2. Use the [webbrowser](https://docs.python.org/3/library/webbrowser.html) module of the standard library to open it!\n",
    "  3. Define a `display_diff_text` function that takes two arguments `text_1` and `text_2` and automates steps 1. and 2.\n",
    "```"
   ]
  },
  {
   "cell_type": "code",
   "execution_count": 7,
   "metadata": {},
   "outputs": [
    {
     "data": {
      "text/plain": [
       "True"
      ]
     },
     "execution_count": 7,
     "metadata": {},
     "output_type": "execute_result"
    }
   ],
   "source": [
    "import webbrowser\n",
    "\n",
    "html_diff = diff.HtmlDiff()\n",
    "\n",
    "sortie_html = html_diff.make_file(list_lines_1, list_lines_2)\n",
    "/7\n",
    "file = open(\"diff.html\", \"w\")\n",
    "file.write(sortie_html)\n",
    "\n",
    "webbrowser.open(\"diff.html\")  # problème je n'arrive pas à ouvrir le fichier dans une fenêtre."
   ]
  },
  {
   "cell_type": "code",
   "execution_count": 8,
   "metadata": {},
   "outputs": [],
   "source": [
    "from IPython.display import HTML\n",
    "\n",
    "def display_diff_text (text_1, text_2) :\n",
    "    \"\"\"reçoit en argument deux textes, renvoie un fichier html contenant les différences entre les deux textes\"\"\"\n",
    "    list_lines_1 = text_1.splitlines()\n",
    "    list_lines_2 = text_2.splitlines()\n",
    "    sortie_html = html_diff.make_file(list_lines_1, list_lines_2)\n",
    "    name_1 = str(text_1)\n",
    "    name_2 = str(text_2)\n",
    "    name = f\"{name_1}{name_2}diff.html\"\n",
    "    file = open(\"name\", \"w\")\n",
    "    file.write(sortie_html)\n",
    "    return HTML(\"name\")"
   ]
  },
  {
   "cell_type": "code",
   "execution_count": 9,
   "metadata": {},
   "outputs": [
    {
     "data": {
      "text/html": [
       "\n",
       "<!DOCTYPE html PUBLIC \"-//W3C//DTD XHTML 1.0 Transitional//EN\"\n",
       "          \"http://www.w3.org/TR/xhtml1/DTD/xhtml1-transitional.dtd\">\n",
       "\n",
       "<html>\n",
       "\n",
       "<head>\n",
       "    <meta http-equiv=\"Content-Type\"\n",
       "          content=\"text/html; charset=utf-8\" />\n",
       "    <title></title>\n",
       "    <style type=\"text/css\">\n",
       "        table.diff {font-family:Courier; border:medium;}\n",
       "        .diff_header {background-color:#e0e0e0}\n",
       "        td.diff_header {text-align:right}\n",
       "        .diff_next {background-color:#c0c0c0}\n",
       "        .diff_add {background-color:#aaffaa}\n",
       "        .diff_chg {background-color:#ffff77}\n",
       "        .diff_sub {background-color:#ffaaaa}\n",
       "    </style>\n",
       "</head>\n",
       "\n",
       "<body>\n",
       "    \n",
       "    <table class=\"diff\" id=\"difflib_chg_to1__top\"\n",
       "           cellspacing=\"0\" cellpadding=\"0\" rules=\"groups\" >\n",
       "        <colgroup></colgroup> <colgroup></colgroup> <colgroup></colgroup>\n",
       "        <colgroup></colgroup> <colgroup></colgroup> <colgroup></colgroup>\n",
       "        \n",
       "        <tbody>\n",
       "            <tr><td class=\"diff_next\"><a href=\"#difflib_chg_to1__0\">f</a></td><td class=\"diff_header\" id=\"from1_1\">1</td><td nowrap=\"nowrap\">The&nbsp;Zen&nbsp;of&nbsp;Python,&nbsp;by&nbsp;Tim&nbsp;Peters</td><td class=\"diff_next\"><a href=\"#difflib_chg_to1__0\">f</a></td><td class=\"diff_header\" id=\"to1_1\">1</td><td nowrap=\"nowrap\">The&nbsp;Zen&nbsp;of&nbsp;Python,&nbsp;by&nbsp;Tim&nbsp;Peters</td></tr>\n",
       "            <tr><td class=\"diff_next\"></td><td class=\"diff_header\" id=\"from1_2\">2</td><td nowrap=\"nowrap\"></td><td class=\"diff_next\"></td><td class=\"diff_header\" id=\"to1_2\">2</td><td nowrap=\"nowrap\"></td></tr>\n",
       "            <tr><td class=\"diff_next\"></td><td class=\"diff_header\" id=\"from1_3\">3</td><td nowrap=\"nowrap\">Beautiful&nbsp;is&nbsp;better&nbsp;than&nbsp;ugly.</td><td class=\"diff_next\"></td><td class=\"diff_header\" id=\"to1_3\">3</td><td nowrap=\"nowrap\">Beautiful&nbsp;is&nbsp;better&nbsp;than&nbsp;ugly.</td></tr>\n",
       "            <tr><td class=\"diff_next\"></td><td class=\"diff_header\" id=\"from1_4\">4</td><td nowrap=\"nowrap\">Explicit&nbsp;is&nbsp;better&nbsp;than&nbsp;implicit.</td><td class=\"diff_next\"></td><td class=\"diff_header\" id=\"to1_4\">4</td><td nowrap=\"nowrap\">Explicit&nbsp;is&nbsp;better&nbsp;than&nbsp;implicit.</td></tr>\n",
       "            <tr><td class=\"diff_next\"></td><td class=\"diff_header\" id=\"from1_5\">5</td><td nowrap=\"nowrap\">Simple&nbsp;is&nbsp;better&nbsp;than&nbsp;complex.</td><td class=\"diff_next\"></td><td class=\"diff_header\" id=\"to1_5\">5</td><td nowrap=\"nowrap\">Simple&nbsp;is&nbsp;better&nbsp;than&nbsp;complex.</td></tr>\n",
       "            <tr><td class=\"diff_next\" id=\"difflib_chg_to1__0\"></td><td class=\"diff_header\" id=\"from1_6\">6</td><td nowrap=\"nowrap\">Complex&nbsp;is&nbsp;better&nbsp;than&nbsp;complicated.</td><td class=\"diff_next\"></td><td class=\"diff_header\" id=\"to1_6\">6</td><td nowrap=\"nowrap\">Complex&nbsp;is&nbsp;better&nbsp;than&nbsp;complicated.</td></tr>\n",
       "            <tr><td class=\"diff_next\"></td><td class=\"diff_header\" id=\"from1_7\">7</td><td nowrap=\"nowrap\">Flat&nbsp;is&nbsp;better&nbsp;than&nbsp;nested.</td><td class=\"diff_next\"></td><td class=\"diff_header\" id=\"to1_7\">7</td><td nowrap=\"nowrap\">Flat&nbsp;is&nbsp;better&nbsp;than&nbsp;nested.</td></tr>\n",
       "            <tr><td class=\"diff_next\" id=\"difflib_chg_to1__1\"></td><td class=\"diff_header\" id=\"from1_8\">8</td><td nowrap=\"nowrap\">Sparse&nbsp;is&nbsp;better&nbsp;than&nbsp;dense.</td><td class=\"diff_next\"></td><td class=\"diff_header\" id=\"to1_8\">8</td><td nowrap=\"nowrap\">Sparse&nbsp;is&nbsp;better&nbsp;than&nbsp;dense.</td></tr>\n",
       "            <tr><td class=\"diff_next\"></td><td class=\"diff_header\" id=\"from1_9\">9</td><td nowrap=\"nowrap\">Readability&nbsp;counts.</td><td class=\"diff_next\"></td><td class=\"diff_header\" id=\"to1_9\">9</td><td nowrap=\"nowrap\">Readability&nbsp;counts.</td></tr>\n",
       "            <tr><td class=\"diff_next\" id=\"difflib_chg_to1__2\"></td><td class=\"diff_header\" id=\"from1_10\">10</td><td nowrap=\"nowrap\">Special&nbsp;cases&nbsp;aren't&nbsp;special&nbsp;enough&nbsp;to&nbsp;break&nbsp;the&nbsp;rules.</td><td class=\"diff_next\"></td><td class=\"diff_header\" id=\"to1_10\">10</td><td nowrap=\"nowrap\">Special&nbsp;cases&nbsp;aren't&nbsp;special&nbsp;enough&nbsp;to&nbsp;break&nbsp;the&nbsp;rules.</td></tr>\n",
       "            <tr><td class=\"diff_next\"><a href=\"#difflib_chg_to1__1\">n</a></td><td class=\"diff_header\"></td><td nowrap=\"nowrap\"></td><td class=\"diff_next\"><a href=\"#difflib_chg_to1__1\">n</a></td><td class=\"diff_header\" id=\"to1_11\">11</td><td nowrap=\"nowrap\"><span class=\"diff_add\">Although&nbsp;practicality&nbsp;beats&nbsp;purity.</span></td></tr>\n",
       "            <tr><td class=\"diff_next\"></td><td class=\"diff_header\" id=\"from1_11\">11</td><td nowrap=\"nowrap\">Errors&nbsp;should&nbsp;never&nbsp;pass&nbsp;silently.</td><td class=\"diff_next\"></td><td class=\"diff_header\" id=\"to1_12\">12</td><td nowrap=\"nowrap\">Errors&nbsp;should&nbsp;never&nbsp;pass&nbsp;silently.</td></tr>\n",
       "            <tr><td class=\"diff_next\" id=\"difflib_chg_to1__3\"><a href=\"#difflib_chg_to1__2\">n</a></td><td class=\"diff_header\"></td><td nowrap=\"nowrap\"></td><td class=\"diff_next\"><a href=\"#difflib_chg_to1__2\">n</a></td><td class=\"diff_header\" id=\"to1_13\">13</td><td nowrap=\"nowrap\"><span class=\"diff_add\">Unless&nbsp;explicitly&nbsp;silenced.</span></td></tr>\n",
       "            <tr><td class=\"diff_next\"></td><td class=\"diff_header\" id=\"from1_12\">12</td><td nowrap=\"nowrap\">In&nbsp;the&nbsp;face&nbsp;of&nbsp;ambiguity,&nbsp;refuse&nbsp;the&nbsp;temptation&nbsp;to&nbsp;guess.</td><td class=\"diff_next\"></td><td class=\"diff_header\" id=\"to1_14\">14</td><td nowrap=\"nowrap\">In&nbsp;the&nbsp;face&nbsp;of&nbsp;ambiguity,&nbsp;refuse&nbsp;the&nbsp;temptation&nbsp;to&nbsp;guess.</td></tr>\n",
       "            <tr><td class=\"diff_next\" id=\"difflib_chg_to1__4\"><a href=\"#difflib_chg_to1__3\">n</a></td><td class=\"diff_header\" id=\"from1_13\">13</td><td nowrap=\"nowrap\"><span class=\"diff_sub\">There&nbsp;should&nbsp;be&nbsp;one&nbsp;obvious&nbsp;way&nbsp;to&nbsp;do&nbsp;it.</span></td><td class=\"diff_next\"><a href=\"#difflib_chg_to1__3\">n</a></td><td class=\"diff_header\" id=\"to1_15\">15</td><td nowrap=\"nowrap\"><span class=\"diff_add\">There&nbsp;should&nbsp;be&nbsp;one--&nbsp;and&nbsp;preferably&nbsp;only&nbsp;one&nbsp;--obvious&nbsp;way&nbsp;to&nbsp;do&nbsp;it.</span></td></tr>\n",
       "            <tr><td class=\"diff_next\"></td><td class=\"diff_header\" id=\"from1_14\">14</td><td nowrap=\"nowrap\">Although&nbsp;that&nbsp;way&nbsp;may&nbsp;not&nbsp;be&nbsp;obvious&nbsp;at&nbsp;first.</td><td class=\"diff_next\"></td><td class=\"diff_header\" id=\"to1_16\">16</td><td nowrap=\"nowrap\">Although&nbsp;that&nbsp;way&nbsp;may&nbsp;not&nbsp;be&nbsp;obvious&nbsp;at&nbsp;first<span class=\"diff_add\">&nbsp;unless&nbsp;you're&nbsp;Dutch</span>.</td></tr>\n",
       "            <tr><td class=\"diff_next\"></td><td class=\"diff_header\" id=\"from1_15\">15</td><td nowrap=\"nowrap\">Now&nbsp;is&nbsp;better&nbsp;than&nbsp;never.</td><td class=\"diff_next\"></td><td class=\"diff_header\" id=\"to1_17\">17</td><td nowrap=\"nowrap\">Now&nbsp;is&nbsp;better&nbsp;than&nbsp;never.</td></tr>\n",
       "            <tr><td class=\"diff_next\"><a href=\"#difflib_chg_to1__4\">n</a></td><td class=\"diff_header\" id=\"from1_16\">16</td><td nowrap=\"nowrap\">Although&nbsp;never&nbsp;is&nbsp;often&nbsp;better&nbsp;than&nbsp;right&nbsp;now.</td><td class=\"diff_next\"><a href=\"#difflib_chg_to1__4\">n</a></td><td class=\"diff_header\" id=\"to1_18\">18</td><td nowrap=\"nowrap\">Although&nbsp;never&nbsp;is&nbsp;often&nbsp;better&nbsp;than&nbsp;<span class=\"diff_add\">*</span>right<span class=\"diff_add\">*</span>&nbsp;now.</td></tr>\n",
       "            <tr><td class=\"diff_next\"></td><td class=\"diff_header\" id=\"from1_17\">17</td><td nowrap=\"nowrap\">If&nbsp;the&nbsp;implementation&nbsp;is&nbsp;hard&nbsp;to&nbsp;explain,&nbsp;it's&nbsp;a&nbsp;bad&nbsp;idea.</td><td class=\"diff_next\"></td><td class=\"diff_header\" id=\"to1_19\">19</td><td nowrap=\"nowrap\">If&nbsp;the&nbsp;implementation&nbsp;is&nbsp;hard&nbsp;to&nbsp;explain,&nbsp;it's&nbsp;a&nbsp;bad&nbsp;idea.</td></tr>\n",
       "            <tr><td class=\"diff_next\"><a href=\"#difflib_chg_to1__top\">t</a></td><td class=\"diff_header\" id=\"from1_18\">18</td><td nowrap=\"nowrap\">If&nbsp;the&nbsp;implementation&nbsp;is&nbsp;easy&nbsp;to&nbsp;explain,&nbsp;it&nbsp;<span class=\"diff_chg\">is&nbsp;</span>a&nbsp;good&nbsp;idea.</td><td class=\"diff_next\"><a href=\"#difflib_chg_to1__top\">t</a></td><td class=\"diff_header\" id=\"to1_20\">20</td><td nowrap=\"nowrap\">If&nbsp;the&nbsp;implementation&nbsp;is&nbsp;easy&nbsp;to&nbsp;explain,&nbsp;it&nbsp;<span class=\"diff_chg\">m</span>a<span class=\"diff_add\">y&nbsp;be&nbsp;a</span>&nbsp;good&nbsp;idea.</td></tr>\n",
       "            <tr><td class=\"diff_next\"></td><td class=\"diff_header\"></td><td nowrap=\"nowrap\"></td><td class=\"diff_next\"></td><td class=\"diff_header\" id=\"to1_21\">21</td><td nowrap=\"nowrap\"><span class=\"diff_add\">Namespaces&nbsp;are&nbsp;one&nbsp;honking&nbsp;great&nbsp;idea&nbsp;--&nbsp;let's&nbsp;do&nbsp;more&nbsp;of&nbsp;those!</span></td></tr>\n",
       "        </tbody>\n",
       "    </table>\n",
       "    <table class=\"diff\" summary=\"Legends\">\n",
       "        <tr> <th colspan=\"2\"> Legends </th> </tr>\n",
       "        <tr> <td> <table border=\"\" summary=\"Colors\">\n",
       "                      <tr><th> Colors </th> </tr>\n",
       "                      <tr><td class=\"diff_add\">&nbsp;Added&nbsp;</td></tr>\n",
       "                      <tr><td class=\"diff_chg\">Changed</td> </tr>\n",
       "                      <tr><td class=\"diff_sub\">Deleted</td> </tr>\n",
       "                  </table></td>\n",
       "             <td> <table border=\"\" summary=\"Links\">\n",
       "                      <tr><th colspan=\"2\"> Links </th> </tr>\n",
       "                      <tr><td>(f)irst change</td> </tr>\n",
       "                      <tr><td>(n)ext change</td> </tr>\n",
       "                      <tr><td>(t)op</td> </tr>\n",
       "                  </table></td> </tr>\n",
       "    </table>\n",
       "</body>\n",
       "\n",
       "</html>"
      ],
      "text/plain": [
       "<IPython.core.display.HTML object>"
      ]
     },
     "execution_count": 9,
     "metadata": {},
     "output_type": "execute_result"
    }
   ],
   "source": [
    "display_diff_text (zen_1, zen_2)"
   ]
  },
  {
   "cell_type": "markdown",
   "metadata": {},
   "source": [
    "## Comparison of JSON documents"
   ]
  },
  {
   "cell_type": "markdown",
   "metadata": {},
   "source": [
    "````{exercise} Comparison of dictionnaries\n",
    "\n",
    " 1. Create a `display_diff` function that takes two Python objects, converts them to strings then leverages `display_diff_text` to display the difference in a browser.\n",
    "\n",
    " 2. Consider the 3 dictionaries defined by\n",
    "    ```python\n",
    "    d1 = {k:k+1 for k in range(100)}\n",
    "    d2 = d1.copy(); d2[50] = 50\n",
    "    d3 = {k:k+1 for k in range(99, -1, -1)}\n",
    "    ```\n",
    "    `d1` and `d2` have a slight difference and `d1` and `d2` are equal.\n",
    "    Does your `display_diff` function make easy to spot where the difference is in the first case when it compares `d1` and `d2`?\n",
    "    Does it make easy to see that `d1` and `d3` are equal?\n",
    "\n",
    "  3. Investigate the [`pprint`](https://docs.python.org/3/library/pprint.html) module standard library ; use it to improve the behavior of `display_text_diff` in the two cases considered in the previous question.\n",
    "\n",
    "````\n",
    " "
   ]
  },
  {
   "cell_type": "code",
   "execution_count": 10,
   "metadata": {},
   "outputs": [],
   "source": [
    "def display_diff (object1, object2) :\n",
    "    str_1 = str(object1)\n",
    "    str_2 = str(object2)\n",
    "    return display_diff_text(str_1, str_2)"
   ]
  },
  {
   "cell_type": "code",
   "execution_count": 11,
   "metadata": {},
   "outputs": [],
   "source": [
    "d1 = {k:k+1 for k in range(100)}\n",
    "d2 = d1.copy(); d2[50] = 50\n",
    "d3 = {k:k+1 for k in range(99, -1, -1)}"
   ]
  },
  {
   "cell_type": "code",
   "execution_count": 17,
   "metadata": {},
   "outputs": [
    {
     "data": {
      "text/html": [
       "\n",
       "<!DOCTYPE html PUBLIC \"-//W3C//DTD XHTML 1.0 Transitional//EN\"\n",
       "          \"http://www.w3.org/TR/xhtml1/DTD/xhtml1-transitional.dtd\">\n",
       "\n",
       "<html>\n",
       "\n",
       "<head>\n",
       "    <meta http-equiv=\"Content-Type\"\n",
       "          content=\"text/html; charset=utf-8\" />\n",
       "    <title></title>\n",
       "    <style type=\"text/css\">\n",
       "        table.diff {font-family:Courier; border:medium;}\n",
       "        .diff_header {background-color:#e0e0e0}\n",
       "        td.diff_header {text-align:right}\n",
       "        .diff_next {background-color:#c0c0c0}\n",
       "        .diff_add {background-color:#aaffaa}\n",
       "        .diff_chg {background-color:#ffff77}\n",
       "        .diff_sub {background-color:#ffaaaa}\n",
       "    </style>\n",
       "</head>\n",
       "\n",
       "<body>\n",
       "    \n",
       "    <table class=\"diff\" id=\"difflib_chg_to4__top\"\n",
       "           cellspacing=\"0\" cellpadding=\"0\" rules=\"groups\" >\n",
       "        <colgroup></colgroup> <colgroup></colgroup> <colgroup></colgroup>\n",
       "        <colgroup></colgroup> <colgroup></colgroup> <colgroup></colgroup>\n",
       "        \n",
       "        <tbody>\n",
       "            <tr><td class=\"diff_next\" id=\"difflib_chg_to4__0\"><a href=\"#difflib_chg_to4__top\">t</a></td><td class=\"diff_header\" id=\"from4_1\">1</td><td nowrap=\"nowrap\">['T',&nbsp;'h',&nbsp;'e',&nbsp;'&nbsp;',&nbsp;'Z',&nbsp;'e',&nbsp;'n',&nbsp;'&nbsp;',&nbsp;'o',&nbsp;'f',&nbsp;'&nbsp;',&nbsp;'P',&nbsp;'y',&nbsp;'t',&nbsp;'h',&nbsp;'o',&nbsp;'n',&nbsp;',',&nbsp;'&nbsp;',&nbsp;'b',&nbsp;'y',&nbsp;'&nbsp;',&nbsp;'T',&nbsp;'i',&nbsp;'m',&nbsp;'&nbsp;',&nbsp;'P',&nbsp;'e',&nbsp;'t',&nbsp;'e',&nbsp;'r',&nbsp;'s',&nbsp;'\\n',&nbsp;'\\n',&nbsp;'B',&nbsp;'e',&nbsp;'a',&nbsp;'u',&nbsp;'t',&nbsp;'i',&nbsp;'f',&nbsp;'u',&nbsp;'l',&nbsp;'&nbsp;',&nbsp;'i',&nbsp;'s',&nbsp;'&nbsp;',&nbsp;'b',&nbsp;'e',&nbsp;'t',&nbsp;'t',&nbsp;'e',&nbsp;'r',&nbsp;'&nbsp;',&nbsp;'t',&nbsp;'h',&nbsp;'a',&nbsp;'n',&nbsp;'&nbsp;',&nbsp;'u',&nbsp;'g',&nbsp;'l',&nbsp;'y',&nbsp;'.',&nbsp;'\\n',&nbsp;'E',&nbsp;'x',&nbsp;'p',&nbsp;'l',&nbsp;'i',&nbsp;'c',&nbsp;'i',&nbsp;'t',&nbsp;'&nbsp;',&nbsp;'i',&nbsp;'s',&nbsp;'&nbsp;',&nbsp;'b',&nbsp;'e',&nbsp;'t',&nbsp;'t',&nbsp;'e',&nbsp;'r',&nbsp;'&nbsp;',&nbsp;'t',&nbsp;'h',&nbsp;'a',&nbsp;'n',&nbsp;'&nbsp;',&nbsp;'i',&nbsp;'m',&nbsp;'p',&nbsp;'l',&nbsp;'i',&nbsp;'c',&nbsp;'i',&nbsp;'t',&nbsp;'.',&nbsp;'\\n',&nbsp;'S',&nbsp;'i',&nbsp;'m',&nbsp;'p',&nbsp;'l',&nbsp;'e',&nbsp;'&nbsp;',&nbsp;'i',&nbsp;'s',&nbsp;'&nbsp;',&nbsp;'b',&nbsp;'e',&nbsp;'t',&nbsp;'t',&nbsp;'e',&nbsp;'r',&nbsp;'&nbsp;',&nbsp;'t',&nbsp;'h',&nbsp;'a',&nbsp;'n',&nbsp;'&nbsp;',&nbsp;'c',&nbsp;'o',&nbsp;'m',&nbsp;'p',&nbsp;'l',&nbsp;'e',&nbsp;'x',&nbsp;'.',&nbsp;'\\n',&nbsp;'C',&nbsp;'o',&nbsp;'m',&nbsp;'p',&nbsp;'l',&nbsp;'e',&nbsp;'x',&nbsp;'&nbsp;',&nbsp;'i',&nbsp;'s',&nbsp;'&nbsp;',&nbsp;'b',&nbsp;'e',&nbsp;'t',&nbsp;'t',&nbsp;'e',&nbsp;'r',&nbsp;'&nbsp;',&nbsp;'t',&nbsp;'h',&nbsp;'a',&nbsp;'n',&nbsp;'&nbsp;',&nbsp;'c',&nbsp;'o',&nbsp;'m',&nbsp;'p',&nbsp;'l',&nbsp;'i',&nbsp;'c',&nbsp;'a',&nbsp;'t',&nbsp;'e',&nbsp;'d',&nbsp;'.',&nbsp;'\\n',&nbsp;'F',&nbsp;'l',&nbsp;'a',&nbsp;'t',&nbsp;'&nbsp;',&nbsp;'i',&nbsp;'s',&nbsp;'&nbsp;',&nbsp;'b',&nbsp;'e',&nbsp;'t',&nbsp;'t',&nbsp;'e',&nbsp;'r',&nbsp;'&nbsp;',&nbsp;'t',&nbsp;'h',&nbsp;'a',&nbsp;'n',&nbsp;'&nbsp;',&nbsp;'n',&nbsp;'e',&nbsp;'s',&nbsp;'t',&nbsp;'e',&nbsp;'d',&nbsp;'.',&nbsp;'\\n',&nbsp;'S',&nbsp;'p',&nbsp;'a',&nbsp;'r',&nbsp;'s',&nbsp;'e',&nbsp;'&nbsp;',&nbsp;'i',&nbsp;'s',&nbsp;'&nbsp;',&nbsp;'b',&nbsp;'e',&nbsp;'t',&nbsp;'t',&nbsp;'e',&nbsp;'r',&nbsp;'&nbsp;',&nbsp;'t',&nbsp;'h',&nbsp;'a',&nbsp;'n',&nbsp;'&nbsp;',&nbsp;'d',&nbsp;'e',&nbsp;'n',&nbsp;'s',&nbsp;'e',&nbsp;'.',&nbsp;'\\n',&nbsp;'R',&nbsp;'e',&nbsp;'a',&nbsp;'d',&nbsp;'a',&nbsp;'b',&nbsp;'i',&nbsp;'l',&nbsp;'i',&nbsp;'t',&nbsp;'y',&nbsp;'&nbsp;',&nbsp;'c',&nbsp;'o',&nbsp;'u',&nbsp;'n',&nbsp;'t',&nbsp;'s',&nbsp;'.',&nbsp;'\\n',&nbsp;'S',&nbsp;'p',&nbsp;'e',&nbsp;'c',&nbsp;'i',&nbsp;'a',&nbsp;'l',&nbsp;'&nbsp;',&nbsp;'c',&nbsp;'a',&nbsp;'s',&nbsp;'e',&nbsp;'s',&nbsp;'&nbsp;',&nbsp;'a',&nbsp;'r',&nbsp;'e',&nbsp;'n',&nbsp;\"'\",&nbsp;'t',&nbsp;'&nbsp;',&nbsp;'s',&nbsp;'p',&nbsp;'e',&nbsp;'c',&nbsp;'i',&nbsp;'a',&nbsp;'l',&nbsp;'&nbsp;',&nbsp;'e',&nbsp;'n',&nbsp;'o',&nbsp;'u',&nbsp;'g',&nbsp;'h',&nbsp;'&nbsp;',&nbsp;'t',&nbsp;'o',&nbsp;'&nbsp;',&nbsp;'b',&nbsp;'r',&nbsp;'e',&nbsp;'a',&nbsp;'k',&nbsp;'&nbsp;',&nbsp;'t',&nbsp;'h',&nbsp;'e',&nbsp;'&nbsp;',&nbsp;'r',&nbsp;'u',&nbsp;'l',&nbsp;'e',&nbsp;'s',&nbsp;'.',&nbsp;'\\n',&nbsp;'E',&nbsp;'r',&nbsp;'r',&nbsp;'o',&nbsp;'r',&nbsp;'s',&nbsp;'&nbsp;',&nbsp;'s',&nbsp;'h',&nbsp;'o',&nbsp;'u',&nbsp;'l',&nbsp;'d',&nbsp;'&nbsp;',&nbsp;'n',&nbsp;'e',&nbsp;'v',&nbsp;'e',&nbsp;'r',&nbsp;'&nbsp;',&nbsp;'p',&nbsp;'a',&nbsp;'s',&nbsp;'s',&nbsp;'&nbsp;',&nbsp;'s',&nbsp;'i',&nbsp;'l',&nbsp;'e',&nbsp;'n',&nbsp;'t',&nbsp;'l',&nbsp;'y',&nbsp;'.',&nbsp;'\\n',&nbsp;'I',&nbsp;'n',&nbsp;'&nbsp;',&nbsp;'t',&nbsp;'h',&nbsp;'e',&nbsp;'&nbsp;',&nbsp;'f',&nbsp;'a',&nbsp;'c',&nbsp;'e',&nbsp;'&nbsp;',&nbsp;'o',&nbsp;'f',&nbsp;'&nbsp;',&nbsp;'a',&nbsp;'m',&nbsp;'b',&nbsp;'i',&nbsp;'g',&nbsp;'u',&nbsp;'i',&nbsp;'t',&nbsp;'y',&nbsp;',',&nbsp;'&nbsp;',&nbsp;'r',&nbsp;'e',&nbsp;'f',&nbsp;'u',&nbsp;'s',&nbsp;'e',&nbsp;'&nbsp;',&nbsp;'t',&nbsp;'h',&nbsp;'e',&nbsp;'&nbsp;',&nbsp;'t',&nbsp;'e',&nbsp;'m',&nbsp;'p',&nbsp;'t',&nbsp;'a',&nbsp;'t',&nbsp;'i',&nbsp;'o',&nbsp;'n',&nbsp;'&nbsp;',&nbsp;'t',&nbsp;'o',&nbsp;'&nbsp;',&nbsp;'g',&nbsp;'u',&nbsp;'e',&nbsp;'s',&nbsp;'s',&nbsp;'.',&nbsp;'\\n',&nbsp;'T',&nbsp;'h',&nbsp;'e',&nbsp;'r',&nbsp;'e',&nbsp;'&nbsp;',&nbsp;'s',&nbsp;'h',&nbsp;'o',&nbsp;'u',&nbsp;'l',&nbsp;'d',&nbsp;'&nbsp;',&nbsp;'b',&nbsp;'e',&nbsp;'&nbsp;',&nbsp;'o',&nbsp;'n',&nbsp;'e',&nbsp;'<span class=\"diff_chg\">&nbsp;',</span>&nbsp;'o',&nbsp;'b',&nbsp;'v',&nbsp;'i',&nbsp;'o',&nbsp;'u',&nbsp;'s',&nbsp;'&nbsp;',&nbsp;'w',&nbsp;'a',&nbsp;'y',&nbsp;'&nbsp;',&nbsp;'t',&nbsp;'o',&nbsp;'&nbsp;',&nbsp;'d',&nbsp;'o',&nbsp;'&nbsp;',&nbsp;'i',&nbsp;'t',&nbsp;'.',&nbsp;'\\n',&nbsp;'A',&nbsp;'l',&nbsp;'t',&nbsp;'h',&nbsp;'o',&nbsp;'u',&nbsp;'g',&nbsp;'h',&nbsp;'&nbsp;',&nbsp;'t',&nbsp;'h',&nbsp;'a',&nbsp;'t',&nbsp;'&nbsp;',&nbsp;'w',&nbsp;'a',&nbsp;'y',&nbsp;'&nbsp;',&nbsp;'m',&nbsp;'a',&nbsp;'y',&nbsp;'&nbsp;',&nbsp;'n',&nbsp;'o',&nbsp;'t',&nbsp;'&nbsp;',&nbsp;'b',&nbsp;'e',&nbsp;'&nbsp;',&nbsp;'o',&nbsp;'b',&nbsp;'v',&nbsp;'i',&nbsp;'o',&nbsp;'u',&nbsp;'s',&nbsp;'&nbsp;',&nbsp;'a',&nbsp;'t',&nbsp;'&nbsp;',&nbsp;'f',&nbsp;'i',&nbsp;'r',&nbsp;'s',&nbsp;'t',&nbsp;'.',&nbsp;'\\n',&nbsp;'N',&nbsp;'o',&nbsp;'w',&nbsp;'&nbsp;',&nbsp;'i',&nbsp;'s',&nbsp;'&nbsp;',&nbsp;'b',&nbsp;'e',&nbsp;'t',&nbsp;'t',&nbsp;'e',&nbsp;'r',&nbsp;'&nbsp;',&nbsp;'t',&nbsp;'h',&nbsp;'a',&nbsp;'n',&nbsp;'&nbsp;',&nbsp;'n',&nbsp;'e',&nbsp;'v',&nbsp;'e',&nbsp;'r',&nbsp;'.',&nbsp;'\\n',&nbsp;'A',&nbsp;'l',&nbsp;'t',&nbsp;'h',&nbsp;'o',&nbsp;'u',&nbsp;'g',&nbsp;'h',&nbsp;'&nbsp;',&nbsp;'n',&nbsp;'e',&nbsp;'v',&nbsp;'e',&nbsp;'r',&nbsp;'&nbsp;',&nbsp;'i',&nbsp;'s',&nbsp;'&nbsp;',&nbsp;'o',&nbsp;'f',&nbsp;'t',&nbsp;'e',&nbsp;'n',&nbsp;'&nbsp;',&nbsp;'b',&nbsp;'e',&nbsp;'t',&nbsp;'t',&nbsp;'e',&nbsp;'r',&nbsp;'&nbsp;',&nbsp;'t',&nbsp;'h',&nbsp;'a',&nbsp;'n',&nbsp;'&nbsp;',&nbsp;'r',&nbsp;'i',&nbsp;'g',&nbsp;'h',&nbsp;'t',&nbsp;'<span class=\"diff_chg\">&nbsp;',&nbsp;'n',</span>&nbsp;'o',&nbsp;'w',&nbsp;'.',&nbsp;'\\n',&nbsp;'I',&nbsp;'f',&nbsp;'&nbsp;',&nbsp;'t',&nbsp;'h',&nbsp;'e',&nbsp;'&nbsp;',&nbsp;'i',&nbsp;'m',&nbsp;'p',&nbsp;'l',&nbsp;'e',&nbsp;'m',&nbsp;'e',&nbsp;'n',&nbsp;'t',&nbsp;'a',&nbsp;'t',&nbsp;'i',&nbsp;'o',&nbsp;'n',&nbsp;'&nbsp;',&nbsp;'i',&nbsp;'s',&nbsp;'&nbsp;',&nbsp;'h',&nbsp;'a',&nbsp;'r',&nbsp;'d',&nbsp;'&nbsp;',&nbsp;'t',&nbsp;'o',&nbsp;'&nbsp;',&nbsp;'e',&nbsp;'x',&nbsp;'p',&nbsp;'l',&nbsp;'a',&nbsp;'i',&nbsp;'n',&nbsp;',',&nbsp;'&nbsp;',&nbsp;'i',&nbsp;'t',&nbsp;\"'\",&nbsp;'s',&nbsp;'&nbsp;',&nbsp;'a',&nbsp;'&nbsp;',&nbsp;'b',&nbsp;'a',&nbsp;'d',&nbsp;'&nbsp;',&nbsp;'i',&nbsp;'d',&nbsp;'e',&nbsp;'a',&nbsp;'.',&nbsp;'\\n',&nbsp;'I',&nbsp;'f',&nbsp;'&nbsp;',&nbsp;'t',&nbsp;'h',&nbsp;'e',&nbsp;'&nbsp;',&nbsp;'i',&nbsp;'m',&nbsp;'p',&nbsp;'l',&nbsp;'e',&nbsp;'m',&nbsp;'e',&nbsp;'n',&nbsp;'t',&nbsp;'a',&nbsp;'t',&nbsp;'i',&nbsp;'o',&nbsp;'n',&nbsp;'&nbsp;',&nbsp;'i',&nbsp;'s',&nbsp;'&nbsp;',&nbsp;'e',&nbsp;'a',&nbsp;'s',&nbsp;'y',&nbsp;'&nbsp;',&nbsp;'t',&nbsp;'o',&nbsp;'&nbsp;',&nbsp;'e',&nbsp;'x',&nbsp;'p',&nbsp;'l',&nbsp;'a',&nbsp;'i',&nbsp;'n',&nbsp;',',&nbsp;'&nbsp;',&nbsp;'i',&nbsp;'t',&nbsp;'&nbsp;',&nbsp;'<span class=\"diff_chg\">i',</span>&nbsp;'s',&nbsp;'<span class=\"diff_chg\">&nbsp;',&nbsp;'a',&nbsp;'&nbsp;',</span>&nbsp;'g',&nbsp;'o',&nbsp;'o',&nbsp;'<span class=\"diff_chg\">d',&nbsp;'&nbsp;',&nbsp;'i',&nbsp;'d',&nbsp;'e',&nbsp;'a',&nbsp;'.',</span>&nbsp;'\\n']</td><td class=\"diff_next\"><a href=\"#difflib_chg_to4__top\">t</a></td><td class=\"diff_header\" id=\"to4_1\">1</td><td nowrap=\"nowrap\">['T',&nbsp;'h',&nbsp;'e',&nbsp;'&nbsp;',&nbsp;'Z',&nbsp;'e',&nbsp;'n',&nbsp;'&nbsp;',&nbsp;'o',&nbsp;'f',&nbsp;'&nbsp;',&nbsp;'P',&nbsp;'y',&nbsp;'t',&nbsp;'h',&nbsp;'o',&nbsp;'n',&nbsp;',',&nbsp;'&nbsp;',&nbsp;'b',&nbsp;'y',&nbsp;'&nbsp;',&nbsp;'T',&nbsp;'i',&nbsp;'m',&nbsp;'&nbsp;',&nbsp;'P',&nbsp;'e',&nbsp;'t',&nbsp;'e',&nbsp;'r',&nbsp;'s',&nbsp;'\\n',&nbsp;'\\n',&nbsp;'B',&nbsp;'e',&nbsp;'a',&nbsp;'u',&nbsp;'t',&nbsp;'i',&nbsp;'f',&nbsp;'u',&nbsp;'l',&nbsp;'&nbsp;',&nbsp;'i',&nbsp;'s',&nbsp;'&nbsp;',&nbsp;'b',&nbsp;'e',&nbsp;'t',&nbsp;'t',&nbsp;'e',&nbsp;'r',&nbsp;'&nbsp;',&nbsp;'t',&nbsp;'h',&nbsp;'a',&nbsp;'n',&nbsp;'&nbsp;',&nbsp;'u',&nbsp;'g',&nbsp;'l',&nbsp;'y',&nbsp;'.',&nbsp;'\\n',&nbsp;'E',&nbsp;'x',&nbsp;'p',&nbsp;'l',&nbsp;'i',&nbsp;'c',&nbsp;'i',&nbsp;'t',&nbsp;'&nbsp;',&nbsp;'i',&nbsp;'s',&nbsp;'&nbsp;',&nbsp;'b',&nbsp;'e',&nbsp;'t',&nbsp;'t',&nbsp;'e',&nbsp;'r',&nbsp;'&nbsp;',&nbsp;'t',&nbsp;'h',&nbsp;'a',&nbsp;'n',&nbsp;'&nbsp;',&nbsp;'i',&nbsp;'m',&nbsp;'p',&nbsp;'l',&nbsp;'i',&nbsp;'c',&nbsp;'i',&nbsp;'t',&nbsp;'.',&nbsp;'\\n',&nbsp;'S',&nbsp;'i',&nbsp;'m',&nbsp;'p',&nbsp;'l',&nbsp;'e',&nbsp;'&nbsp;',&nbsp;'i',&nbsp;'s',&nbsp;'&nbsp;',&nbsp;'b',&nbsp;'e',&nbsp;'t',&nbsp;'t',&nbsp;'e',&nbsp;'r',&nbsp;'&nbsp;',&nbsp;'t',&nbsp;'h',&nbsp;'a',&nbsp;'n',&nbsp;'&nbsp;',&nbsp;'c',&nbsp;'o',&nbsp;'m',&nbsp;'p',&nbsp;'l',&nbsp;'e',&nbsp;'x',&nbsp;'.',&nbsp;'\\n',&nbsp;'C',&nbsp;'o',&nbsp;'m',&nbsp;'p',&nbsp;'l',&nbsp;'e',&nbsp;'x',&nbsp;'&nbsp;',&nbsp;'i',&nbsp;'s',&nbsp;'&nbsp;',&nbsp;'b',&nbsp;'e',&nbsp;'t',&nbsp;'t',&nbsp;'e',&nbsp;'r',&nbsp;'&nbsp;',&nbsp;'t',&nbsp;'h',&nbsp;'a',&nbsp;'n',&nbsp;'&nbsp;',&nbsp;'c',&nbsp;'o',&nbsp;'m',&nbsp;'p',&nbsp;'l',&nbsp;'i',&nbsp;'c',&nbsp;'a',&nbsp;'t',&nbsp;'e',&nbsp;'d',&nbsp;'.',&nbsp;'\\n',&nbsp;'F',&nbsp;'l',&nbsp;'a',&nbsp;'t',&nbsp;'&nbsp;',&nbsp;'i',&nbsp;'s',&nbsp;'&nbsp;',&nbsp;'b',&nbsp;'e',&nbsp;'t',&nbsp;'t',&nbsp;'e',&nbsp;'r',&nbsp;'&nbsp;',&nbsp;'t',&nbsp;'h',&nbsp;'a',&nbsp;'n',&nbsp;'&nbsp;',&nbsp;'n',&nbsp;'e',&nbsp;'s',&nbsp;'t',&nbsp;'e',&nbsp;'d',&nbsp;'.',&nbsp;'\\n',&nbsp;'S',&nbsp;'p',&nbsp;'a',&nbsp;'r',&nbsp;'s',&nbsp;'e',&nbsp;'&nbsp;',&nbsp;'i',&nbsp;'s',&nbsp;'&nbsp;',&nbsp;'b',&nbsp;'e',&nbsp;'t',&nbsp;'t',&nbsp;'e',&nbsp;'r',&nbsp;'&nbsp;',&nbsp;'t',&nbsp;'h',&nbsp;'a',&nbsp;'n',&nbsp;'&nbsp;',&nbsp;'d',&nbsp;'e',&nbsp;'n',&nbsp;'s',&nbsp;'e',&nbsp;'.',&nbsp;'\\n',&nbsp;'R',&nbsp;'e',&nbsp;'a',&nbsp;'d',&nbsp;'a',&nbsp;'b',&nbsp;'i',&nbsp;'l',&nbsp;'i',&nbsp;'t',&nbsp;'y',&nbsp;'&nbsp;',&nbsp;'c',&nbsp;'o',&nbsp;'u',&nbsp;'n',&nbsp;'t',&nbsp;'s',&nbsp;'.',&nbsp;'\\n',&nbsp;'S',&nbsp;'p',&nbsp;'e',&nbsp;'c',&nbsp;'i',&nbsp;'a',&nbsp;'l',&nbsp;'&nbsp;',&nbsp;'c',&nbsp;'a',&nbsp;'s',&nbsp;'e',&nbsp;'s',&nbsp;'&nbsp;',&nbsp;'a',&nbsp;'r',&nbsp;'e',&nbsp;'n',&nbsp;\"'\",&nbsp;'t',&nbsp;'&nbsp;',&nbsp;'s',&nbsp;'p',&nbsp;'e',&nbsp;'c',&nbsp;'i',&nbsp;'a',&nbsp;'l',&nbsp;'&nbsp;',&nbsp;'e',&nbsp;'n',&nbsp;'o',&nbsp;'u',&nbsp;'g',&nbsp;'h',&nbsp;'&nbsp;',&nbsp;'t',&nbsp;'o',&nbsp;'&nbsp;',&nbsp;'b',&nbsp;'r',&nbsp;'e',&nbsp;'a',&nbsp;'k',&nbsp;'&nbsp;',&nbsp;'t',&nbsp;'h',&nbsp;'e',&nbsp;'&nbsp;',&nbsp;'r',&nbsp;'u',&nbsp;'l',&nbsp;'e',&nbsp;'s',&nbsp;'.',&nbsp;'\\n',&nbsp;<span class=\"diff_add\">'A',&nbsp;'l',&nbsp;'t',&nbsp;'h',&nbsp;'o',&nbsp;'u',&nbsp;'g',&nbsp;'h',&nbsp;'&nbsp;',&nbsp;'p',&nbsp;'r',&nbsp;'a',&nbsp;'c',&nbsp;'t',&nbsp;'i',&nbsp;'c',&nbsp;'a',&nbsp;'l',&nbsp;'i',&nbsp;'t',&nbsp;'y',&nbsp;'&nbsp;',&nbsp;'b',&nbsp;'e',&nbsp;'a',&nbsp;'t',&nbsp;'s',&nbsp;'&nbsp;',&nbsp;'p',&nbsp;'u',&nbsp;'r',&nbsp;'i',&nbsp;'t',&nbsp;'y',&nbsp;'.',&nbsp;'\\n',&nbsp;</span>'E',&nbsp;'r',&nbsp;'r',&nbsp;'o',&nbsp;'r',&nbsp;'s',&nbsp;'&nbsp;',&nbsp;'s',&nbsp;'h',&nbsp;'o',&nbsp;'u',&nbsp;'l',&nbsp;'d',&nbsp;'&nbsp;',&nbsp;'n',&nbsp;'e',&nbsp;'v',&nbsp;'e',&nbsp;'r',&nbsp;'&nbsp;',&nbsp;'p',&nbsp;'a',&nbsp;'s',&nbsp;'s',&nbsp;'&nbsp;',&nbsp;'s',&nbsp;'i',&nbsp;'l',&nbsp;'e',&nbsp;'n',&nbsp;'t',&nbsp;'l',&nbsp;'y',&nbsp;'.',&nbsp;'\\n',&nbsp;<span class=\"diff_add\">'U',&nbsp;'n',&nbsp;'l',&nbsp;'e',&nbsp;'s',&nbsp;'s',&nbsp;'&nbsp;',&nbsp;'e',&nbsp;'x',&nbsp;'p',&nbsp;'l',&nbsp;'i',&nbsp;'c',&nbsp;'i',&nbsp;'t',&nbsp;'l',&nbsp;'y',&nbsp;'&nbsp;',&nbsp;'s',&nbsp;'i',&nbsp;'l',&nbsp;'e',&nbsp;'n',&nbsp;'c',&nbsp;'e',&nbsp;'d',&nbsp;'.',&nbsp;'\\n',&nbsp;</span>'I',&nbsp;'n',&nbsp;'&nbsp;',&nbsp;'t',&nbsp;'h',&nbsp;'e',&nbsp;'&nbsp;',&nbsp;'f',&nbsp;'a',&nbsp;'c',&nbsp;'e',&nbsp;'&nbsp;',&nbsp;'o',&nbsp;'f',&nbsp;'&nbsp;',&nbsp;'a',&nbsp;'m',&nbsp;'b',&nbsp;'i',&nbsp;'g',&nbsp;'u',&nbsp;'i',&nbsp;'t',&nbsp;'y',&nbsp;',',&nbsp;'&nbsp;',&nbsp;'r',&nbsp;'e',&nbsp;'f',&nbsp;'u',&nbsp;'s',&nbsp;'e',&nbsp;'&nbsp;',&nbsp;'t',&nbsp;'h',&nbsp;'e',&nbsp;'&nbsp;',&nbsp;'t',&nbsp;'e',&nbsp;'m',&nbsp;'p',&nbsp;'t',&nbsp;'a',&nbsp;'t',&nbsp;'i',&nbsp;'o',&nbsp;'n',&nbsp;'&nbsp;',&nbsp;'t',&nbsp;'o',&nbsp;'&nbsp;',&nbsp;'g',&nbsp;'u',&nbsp;'e',&nbsp;'s',&nbsp;'s',&nbsp;'.',&nbsp;'\\n',&nbsp;'T',&nbsp;'h',&nbsp;'e',&nbsp;'r',&nbsp;'e',&nbsp;'&nbsp;',&nbsp;'s',&nbsp;'h',&nbsp;'o',&nbsp;'u',&nbsp;'l',&nbsp;'d',&nbsp;'&nbsp;',&nbsp;'b',&nbsp;'e',&nbsp;'&nbsp;',&nbsp;'o',&nbsp;'n',&nbsp;'e',&nbsp;'<span class=\"diff_chg\">-',&nbsp;'-',&nbsp;'&nbsp;',&nbsp;'a',&nbsp;'n',&nbsp;'d',&nbsp;'&nbsp;',&nbsp;'p',&nbsp;'r',&nbsp;'e',&nbsp;'f',&nbsp;'e',&nbsp;'r',&nbsp;'a',&nbsp;'b',&nbsp;'l',&nbsp;'y',&nbsp;'&nbsp;',</span>&nbsp;'o',&nbsp;<span class=\"diff_add\">'n',&nbsp;'l',&nbsp;'y',&nbsp;'&nbsp;',&nbsp;'o',&nbsp;'n',&nbsp;'e',&nbsp;'&nbsp;',&nbsp;'-',&nbsp;'-',&nbsp;'o',&nbsp;</span>'b',&nbsp;'v',&nbsp;'i',&nbsp;'o',&nbsp;'u',&nbsp;'s',&nbsp;'&nbsp;',&nbsp;'w',&nbsp;'a',&nbsp;'y',&nbsp;'&nbsp;',&nbsp;'t',&nbsp;'o',&nbsp;'&nbsp;',&nbsp;'d',&nbsp;'o',&nbsp;'&nbsp;',&nbsp;'i',&nbsp;'t',&nbsp;'.',&nbsp;'\\n',&nbsp;'A',&nbsp;'l',&nbsp;'t',&nbsp;'h',&nbsp;'o',&nbsp;'u',&nbsp;'g',&nbsp;'h',&nbsp;'&nbsp;',&nbsp;'t',&nbsp;'h',&nbsp;'a',&nbsp;'t',&nbsp;'&nbsp;',&nbsp;'w',&nbsp;'a',&nbsp;'y',&nbsp;'&nbsp;',&nbsp;'m',&nbsp;'a',&nbsp;'y',&nbsp;'&nbsp;',&nbsp;'n',&nbsp;'o',&nbsp;'t',&nbsp;'&nbsp;',&nbsp;'b',&nbsp;'e',&nbsp;'&nbsp;',&nbsp;'o',&nbsp;'b',&nbsp;'v',&nbsp;'i',&nbsp;'o',&nbsp;'u',&nbsp;'s',&nbsp;'&nbsp;',&nbsp;'a',&nbsp;'t',&nbsp;'&nbsp;',&nbsp;'f',&nbsp;'i',&nbsp;'r',&nbsp;'s',&nbsp;'t',<span class=\"diff_add\">&nbsp;'&nbsp;',&nbsp;'u',&nbsp;'n',&nbsp;'l',&nbsp;'e',&nbsp;'s',&nbsp;'s',&nbsp;'&nbsp;',&nbsp;'y',&nbsp;'o',&nbsp;'u',&nbsp;\"'\",&nbsp;'r',&nbsp;'e',&nbsp;'&nbsp;',&nbsp;'D',&nbsp;'u',&nbsp;'t',&nbsp;'c',&nbsp;'h',</span>&nbsp;'.',&nbsp;'\\n',&nbsp;'N',&nbsp;'o',&nbsp;'w',&nbsp;'&nbsp;',&nbsp;'i',&nbsp;'s',&nbsp;'&nbsp;',&nbsp;'b',&nbsp;'e',&nbsp;'t',&nbsp;'t',&nbsp;'e',&nbsp;'r',&nbsp;'&nbsp;',&nbsp;'t',&nbsp;'h',&nbsp;'a',&nbsp;'n',&nbsp;'&nbsp;',&nbsp;'n',&nbsp;'e',&nbsp;'v',&nbsp;'e',&nbsp;'r',&nbsp;'.',&nbsp;'\\n',&nbsp;'A',&nbsp;'l',&nbsp;'t',&nbsp;'h',&nbsp;'o',&nbsp;'u',&nbsp;'g',&nbsp;'h',&nbsp;'&nbsp;',&nbsp;'n',&nbsp;'e',&nbsp;'v',&nbsp;'e',&nbsp;'r',&nbsp;'&nbsp;',&nbsp;'i',&nbsp;'s',&nbsp;'&nbsp;',&nbsp;'o',&nbsp;'f',&nbsp;'t',&nbsp;'e',&nbsp;'n',&nbsp;'&nbsp;',&nbsp;'b',&nbsp;'e',&nbsp;'t',&nbsp;'t',&nbsp;'e',&nbsp;'r',&nbsp;'&nbsp;',&nbsp;'t',&nbsp;'h',&nbsp;'a',&nbsp;'n',&nbsp;'&nbsp;',<span class=\"diff_add\">&nbsp;'*',</span>&nbsp;'r',&nbsp;'i',&nbsp;'g',&nbsp;'h',&nbsp;'t',&nbsp;'<span class=\"diff_chg\">*',&nbsp;'&nbsp;',&nbsp;'n',</span>&nbsp;'o',&nbsp;'w',&nbsp;'.',&nbsp;'\\n',&nbsp;'I',&nbsp;'f',&nbsp;'&nbsp;',&nbsp;'t',&nbsp;'h',&nbsp;'e',&nbsp;'&nbsp;',&nbsp;'i',&nbsp;'m',&nbsp;'p',&nbsp;'l',&nbsp;'e',&nbsp;'m',&nbsp;'e',&nbsp;'n',&nbsp;'t',&nbsp;'a',&nbsp;'t',&nbsp;'i',&nbsp;'o',&nbsp;'n',&nbsp;'&nbsp;',&nbsp;'i',&nbsp;'s',&nbsp;'&nbsp;',&nbsp;'h',&nbsp;'a',&nbsp;'r',&nbsp;'d',&nbsp;'&nbsp;',&nbsp;'t',&nbsp;'o',&nbsp;'&nbsp;',&nbsp;'e',&nbsp;'x',&nbsp;'p',&nbsp;'l',&nbsp;'a',&nbsp;'i',&nbsp;'n',&nbsp;',',&nbsp;'&nbsp;',&nbsp;'i',&nbsp;'t',&nbsp;\"'\",&nbsp;'s',&nbsp;'&nbsp;',&nbsp;'a',&nbsp;'&nbsp;',&nbsp;'b',&nbsp;'a',&nbsp;'d',&nbsp;'&nbsp;',&nbsp;'i',&nbsp;'d',&nbsp;'e',&nbsp;'a',&nbsp;'.',&nbsp;'\\n',&nbsp;'I',&nbsp;'f',&nbsp;'&nbsp;',&nbsp;'t',&nbsp;'h',&nbsp;'e',&nbsp;'&nbsp;',&nbsp;'i',&nbsp;'m',&nbsp;'p',&nbsp;'l',&nbsp;'e',&nbsp;'m',&nbsp;'e',&nbsp;'n',&nbsp;'t',&nbsp;'a',&nbsp;'t',&nbsp;'i',&nbsp;'o',&nbsp;'n',&nbsp;'&nbsp;',&nbsp;'i',&nbsp;'s',&nbsp;'&nbsp;',&nbsp;'e',&nbsp;'a',&nbsp;'s',&nbsp;'y',&nbsp;'&nbsp;',&nbsp;'t',&nbsp;'o',&nbsp;'&nbsp;',&nbsp;'e',&nbsp;'x',&nbsp;'p',&nbsp;'l',&nbsp;'a',&nbsp;'i',&nbsp;'n',&nbsp;',',&nbsp;'&nbsp;',&nbsp;'i',&nbsp;'t',&nbsp;'&nbsp;',&nbsp;'<span class=\"diff_chg\">m',&nbsp;'a',&nbsp;'y',&nbsp;'&nbsp;',&nbsp;'b',&nbsp;'e',&nbsp;'&nbsp;',&nbsp;'a',&nbsp;'&nbsp;',&nbsp;'g',&nbsp;'o',&nbsp;'o',&nbsp;'d',&nbsp;'&nbsp;',&nbsp;'i',&nbsp;'d',&nbsp;'e',&nbsp;'a',&nbsp;'.',&nbsp;'\\n',&nbsp;'N',&nbsp;'a',&nbsp;'m',&nbsp;'e',</span>&nbsp;'s',&nbsp;'<span class=\"diff_chg\">p',&nbsp;'a',&nbsp;'c',&nbsp;'e',&nbsp;'s',&nbsp;'&nbsp;',&nbsp;'a',&nbsp;'r',&nbsp;'e',&nbsp;'&nbsp;',&nbsp;'o',&nbsp;'n',&nbsp;'e',&nbsp;'&nbsp;',&nbsp;'h',&nbsp;'o',&nbsp;'n',&nbsp;'k',&nbsp;'i',&nbsp;'n',</span>&nbsp;'g',&nbsp;<span class=\"diff_add\">'&nbsp;',&nbsp;'g',&nbsp;'r',&nbsp;'e',&nbsp;'a',&nbsp;'t',&nbsp;'&nbsp;',&nbsp;'i',&nbsp;'d',&nbsp;'e',&nbsp;'a',&nbsp;'&nbsp;',&nbsp;'-',&nbsp;'-',&nbsp;'&nbsp;',&nbsp;'l',&nbsp;'e',&nbsp;'t',&nbsp;\"'\",&nbsp;'s',&nbsp;'&nbsp;',&nbsp;'d',&nbsp;</span>'o',&nbsp;<span class=\"diff_add\">'&nbsp;',&nbsp;'m',&nbsp;</span>'o',&nbsp;'<span class=\"diff_chg\">r',&nbsp;'e',&nbsp;'&nbsp;',&nbsp;'o',&nbsp;'f',&nbsp;'&nbsp;',&nbsp;'t',&nbsp;'h',&nbsp;'o',&nbsp;'s',&nbsp;'e',&nbsp;'!',</span>&nbsp;'\\n']</td></tr>\n",
       "        </tbody>\n",
       "    </table>\n",
       "    <table class=\"diff\" summary=\"Legends\">\n",
       "        <tr> <th colspan=\"2\"> Legends </th> </tr>\n",
       "        <tr> <td> <table border=\"\" summary=\"Colors\">\n",
       "                      <tr><th> Colors </th> </tr>\n",
       "                      <tr><td class=\"diff_add\">&nbsp;Added&nbsp;</td></tr>\n",
       "                      <tr><td class=\"diff_chg\">Changed</td> </tr>\n",
       "                      <tr><td class=\"diff_sub\">Deleted</td> </tr>\n",
       "                  </table></td>\n",
       "             <td> <table border=\"\" summary=\"Links\">\n",
       "                      <tr><th colspan=\"2\"> Links </th> </tr>\n",
       "                      <tr><td>(f)irst change</td> </tr>\n",
       "                      <tr><td>(n)ext change</td> </tr>\n",
       "                      <tr><td>(t)op</td> </tr>\n",
       "                  </table></td> </tr>\n",
       "    </table>\n",
       "</body>\n",
       "\n",
       "</html>"
      ],
      "text/plain": [
       "<IPython.core.display.HTML object>"
      ]
     },
     "execution_count": 17,
     "metadata": {},
     "output_type": "execute_result"
    }
   ],
   "source": [
    "ls1 = list(zen_1)\n",
    "ls2 = list(zen_2)\n",
    "\n",
    "display_diff(ls1, ls2)"
   ]
  },
  {
   "cell_type": "code",
   "execution_count": 16,
   "metadata": {
    "collapsed": true,
    "jupyter": {
     "outputs_hidden": true
    }
   },
   "outputs": [
    {
     "name": "stdout",
     "output_type": "stream",
     "text": [
      "{0: 1,\n",
      " 1: 2,\n",
      " 2: 3,\n",
      " 3: 4,\n",
      " 4: 5,\n",
      " 5: 6,\n",
      " 6: 7,\n",
      " 7: 8,\n",
      " 8: 9,\n",
      " 9: 10,\n",
      " 10: 11,\n",
      " 11: 12,\n",
      " 12: 13,\n",
      " 13: 14,\n",
      " 14: 15,\n",
      " 15: 16,\n",
      " 16: 17,\n",
      " 17: 18,\n",
      " 18: 19,\n",
      " 19: 20,\n",
      " 20: 21,\n",
      " 21: 22,\n",
      " 22: 23,\n",
      " 23: 24,\n",
      " 24: 25,\n",
      " 25: 26,\n",
      " 26: 27,\n",
      " 27: 28,\n",
      " 28: 29,\n",
      " 29: 30,\n",
      " 30: 31,\n",
      " 31: 32,\n",
      " 32: 33,\n",
      " 33: 34,\n",
      " 34: 35,\n",
      " 35: 36,\n",
      " 36: 37,\n",
      " 37: 38,\n",
      " 38: 39,\n",
      " 39: 40,\n",
      " 40: 41,\n",
      " 41: 42,\n",
      " 42: 43,\n",
      " 43: 44,\n",
      " 44: 45,\n",
      " 45: 46,\n",
      " 46: 47,\n",
      " 47: 48,\n",
      " 48: 49,\n",
      " 49: 50,\n",
      " 50: 51,\n",
      " 51: 52,\n",
      " 52: 53,\n",
      " 53: 54,\n",
      " 54: 55,\n",
      " 55: 56,\n",
      " 56: 57,\n",
      " 57: 58,\n",
      " 58: 59,\n",
      " 59: 60,\n",
      " 60: 61,\n",
      " 61: 62,\n",
      " 62: 63,\n",
      " 63: 64,\n",
      " 64: 65,\n",
      " 65: 66,\n",
      " 66: 67,\n",
      " 67: 68,\n",
      " 68: 69,\n",
      " 69: 70,\n",
      " 70: 71,\n",
      " 71: 72,\n",
      " 72: 73,\n",
      " 73: 74,\n",
      " 74: 75,\n",
      " 75: 76,\n",
      " 76: 77,\n",
      " 77: 78,\n",
      " 78: 79,\n",
      " 79: 80,\n",
      " 80: 81,\n",
      " 81: 82,\n",
      " 82: 83,\n",
      " 83: 84,\n",
      " 84: 85,\n",
      " 85: 86,\n",
      " 86: 87,\n",
      " 87: 88,\n",
      " 88: 89,\n",
      " 89: 90,\n",
      " 90: 91,\n",
      " 91: 92,\n",
      " 92: 93,\n",
      " 93: 94,\n",
      " 94: 95,\n",
      " 95: 96,\n",
      " 96: 97,\n",
      " 97: 98,\n",
      " 98: 99,\n",
      " 99: 100}\n"
     ]
    }
   ],
   "source": [
    "import pprint\n",
    "pp = pprint.PrettyPrinter(width=41, compact=True, stream = None)\n",
    "\n",
    "pp.pprint(d1)"
   ]
  },
  {
   "cell_type": "markdown",
   "metadata": {},
   "source": [
    "```{exercise} tldraw documents comparator\n",
    "Implement a function `tldraw_diff` that takes as argument two filenames that refer to tldraw documents and display their differences in the browser.\n",
    "```"
   ]
  },
  {
   "cell_type": "code",
   "execution_count": 21,
   "metadata": {},
   "outputs": [],
   "source": [
    "def tldraw_diff (filename_1, filename_2) :\n",
    "    file_1 = open(filename_1, mode=\"tr\", encoding = \"utf-8\")\n",
    "    file_2 = open(filename_2, mode=\"tr\", encoding = \"utf-8\")\n",
    "    content_1 = file_1.read() #dictionnaire\n",
    "    content_2 = file_2.read() #dictionnaire\n",
    "    return display_diff(content_1, content_2)"
   ]
  },
  {
   "cell_type": "code",
   "execution_count": 23,
   "metadata": {},
   "outputs": [
    {
     "data": {
      "text/html": [],
      "text/plain": [
       "<IPython.core.display.HTML object>"
      ]
     },
     "execution_count": 23,
     "metadata": {},
     "output_type": "execute_result"
    }
   ],
   "source": [
    "tldraw_diff(\"hello-python.tldr\", \"hello-tldraw.tldr\")"
   ]
  }
 ],
 "metadata": {
  "kernelspec": {
   "display_name": "Python 3 (ipykernel)",
   "language": "python",
   "name": "python3"
  },
  "language_info": {
   "codemirror_mode": {
    "name": "ipython",
    "version": 3
   },
   "file_extension": ".py",
   "mimetype": "text/x-python",
   "name": "python",
   "nbconvert_exporter": "python",
   "pygments_lexer": "ipython3",
   "version": "3.11.0"
  }
 },
 "nbformat": 4,
 "nbformat_minor": 4
}
