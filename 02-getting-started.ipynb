{
 "cells": [
  {
   "cell_type": "markdown",
   "id": "2d474a3e-274d-4bf8-95f3-2c18179877d9",
   "metadata": {},
   "source": [
    "---\n",
    "title: Getting Started\n",
    "date: 2023-11-30 \n",
    "authors:\n",
    "  - name: Sébastien Boisgérault\n",
    "    email: Sebastien.Boisgerault@minesparis.psl.eu\n",
    "    url: https://github.com/boisgera\n",
    "    affiliations:\n",
    "      - institution: Mines Paris - PSL University\n",
    "        department: Institut des Transformation Numériques (ITN)\n",
    "github: boisgera\n",
    "license: CC-BY-4.0\n",
    "open_access: true\n",
    "---"
   ]
  },
  {
   "cell_type": "markdown",
   "id": "99eb7623-348a-4873-9200-614c9be5bdb6",
   "metadata": {},
   "source": [
    "![tldraw](images/hello-tldraw.png)    "
   ]
  },
  {
   "cell_type": "markdown",
   "id": "f2cbb2bd-92e6-4c23-95b5-7996e1850533",
   "metadata": {},
   "source": [
    "# A Simple Document"
   ]
  },
  {
   "cell_type": "markdown",
   "id": "c95958ae-0e8e-40b3-9a1a-963745eda44e",
   "metadata": {},
   "source": [
    "```{exercise} Create a \"Hello tldraw!\" document\n",
    "\n",
    " 1. Download the folder of this project on your computer. \n",
    "  \n",
    " 2. Create an tldraw document that contains the text \"Hello tldraw!\" and save it on your computer.\n",
    " \n",
    " 3. Rename your tldraw document `hello-tldraw.tldr` and move it into the `docs` subfolder of the project.\n",
    "```"
   ]
  },
  {
   "cell_type": "markdown",
   "id": "f663cb6a-c804-4438-a6bb-7132a7c86332",
   "metadata": {},
   "source": [
    "Tldraw files are (utf-8-encoded) text files and therefore can be easily inspected. \n",
    "\n",
    "```{exercise} What's the format of tldraw documents?\n",
    "\n",
    "  1. Print the content of your \"Hello tldraw!\" document into this notebook.\n",
    "\n",
    "  2. The tldraw document format is a dialect of a general-purpose structured data format. \n",
    "  \n",
    "     Which one is it? (JSON, XML, CSV? something else?)\n",
    "\n",
    "```\n"
   ]
  },
  {
   "cell_type": "code",
   "execution_count": 4,
   "id": "1dcd0fdf-791d-4eb4-bd38-ff03cac48292",
   "metadata": {
    "collapsed": true,
    "jupyter": {
     "outputs_hidden": true
    }
   },
   "outputs": [
    {
     "name": "stdout",
     "output_type": "stream",
     "text": [
      "{\"tldrawFileFormatVersion\":1,\"schema\":{\"schemaVersion\":1,\"storeVersion\":4,\"recordVersions\":{\"asset\":{\"version\":1,\"subTypeKey\":\"type\",\"subTypeVersions\":{\"image\":2,\"video\":2,\"bookmark\":0}},\"camera\":{\"version\":1},\"document\":{\"version\":2},\"instance\":{\"version\":22},\"instance_page_state\":{\"version\":5},\"page\":{\"version\":1},\"shape\":{\"version\":3,\"subTypeKey\":\"type\",\"subTypeVersions\":{\"group\":0,\"text\":1,\"bookmark\":1,\"draw\":1,\"geo\":7,\"note\":4,\"line\":1,\"frame\":0,\"arrow\":2,\"highlight\":0,\"embed\":4,\"image\":2,\"video\":1}},\"instance_presence\":{\"version\":5},\"pointer\":{\"version\":1}}},\"records\":[{\"gridSize\":10,\"name\":\"\",\"meta\":{},\"id\":\"document:document\",\"typeName\":\"document\"},{\"id\":\"pointer:pointer\",\"typeName\":\"pointer\",\"x\":33,\"y\":42,\"lastActivityTimestamp\":1702389366880,\"meta\":{}},{\"meta\":{},\"id\":\"page:page\",\"name\":\"Page 1\",\"index\":\"a1\",\"typeName\":\"page\"},{\"x\":0,\"y\":0,\"z\":1,\"meta\":{},\"id\":\"camera:page:page\",\"typeName\":\"camera\"},{\"editingShapeId\":null,\"croppingShapeId\":null,\"selectedShapeIds\":[\"shape:nlfTydnTO0dIOlx1836dq\"],\"hoveredShapeId\":null,\"erasingShapeIds\":[],\"hintingShapeIds\":[],\"focusedGroupId\":null,\"meta\":{},\"id\":\"instance_page_state:page:page\",\"pageId\":\"page:page\",\"typeName\":\"instance_page_state\"},{\"followingUserId\":null,\"opacityForNextShape\":1,\"stylesForNextShape\":{},\"brush\":null,\"scribbles\":[],\"cursor\":{\"type\":\"default\",\"rotation\":0},\"isFocusMode\":false,\"exportBackground\":true,\"isDebugMode\":false,\"isToolLocked\":false,\"screenBounds\":{\"x\":0,\"y\":0,\"w\":1280,\"h\":675.2000122070312},\"zoomBrush\":null,\"isGridMode\":false,\"isPenMode\":false,\"chatMessage\":\"\",\"isChatting\":false,\"highlightedUserIds\":[],\"canMoveCamera\":true,\"isFocused\":true,\"devicePixelRatio\":1.25,\"isCoarsePointer\":false,\"isHoveringCanvas\":false,\"openMenus\":[\"main menu\",\"main menu menu file\"],\"isChangingStyle\":false,\"isReadonly\":false,\"meta\":{},\"id\":\"instance:instance\",\"currentPageId\":\"page:page\",\"typeName\":\"instance\"},{\"x\":367.80833435058594,\"y\":298.8000030517578,\"rotation\":0,\"isLocked\":false,\"opacity\":1,\"meta\":{},\"id\":\"shape:nlfTydnTO0dIOlx1836dq\",\"type\":\"text\",\"props\":{\"color\":\"black\",\"size\":\"m\",\"w\":168.38333129882812,\"text\":\"Hello tldraw !\",\"font\":\"draw\",\"align\":\"middle\",\"autoSize\":true,\"scale\":1},\"parentId\":\"page:page\",\"index\":\"a1\",\"typeName\":\"shape\"}]}\n"
     ]
    }
   ],
   "source": [
    "file = open(\"hello-tldraw.tldr\", mode=\"tr\", encoding = \"utf-8\")\n",
    "content = file.read()\n",
    "print(content)"
   ]
  },
  {
   "cell_type": "markdown",
   "id": "a8f5e1cc-1425-4394-8d73-47640d66d298",
   "metadata": {},
   "source": [
    "\n",
    "```{exercise} Load the document\n",
    ":label: load\n",
    "\n",
    " 1. Find the Python standard library that deals with the file format use by tldraw.\n",
    "\n",
    " 2. Use it to load the tldraw document as a tree-like structure (⚠️ not as a string!).\n",
    "\n",
    " 3. Name this structure `hello`.\n",
    "\n",
    "```"
   ]
  },
  {
   "cell_type": "markdown",
   "id": "84e45ee9-22c1-4667-b250-5913f257c775",
   "metadata": {},
   "source": [
    "1. La bibliothèque json"
   ]
  },
  {
   "cell_type": "code",
   "execution_count": 7,
   "id": "cef41e5a-7c8f-41aa-8b9e-a78d752a06c1",
   "metadata": {
    "collapsed": true,
    "jupyter": {
     "outputs_hidden": true
    }
   },
   "outputs": [
    {
     "data": {
      "text/plain": [
       "{'tldrawFileFormatVersion': 1,\n",
       " 'schema': {'schemaVersion': 1,\n",
       "  'storeVersion': 4,\n",
       "  'recordVersions': {'asset': {'version': 1,\n",
       "    'subTypeKey': 'type',\n",
       "    'subTypeVersions': {'image': 2, 'video': 2, 'bookmark': 0}},\n",
       "   'camera': {'version': 1},\n",
       "   'document': {'version': 2},\n",
       "   'instance': {'version': 22},\n",
       "   'instance_page_state': {'version': 5},\n",
       "   'page': {'version': 1},\n",
       "   'shape': {'version': 3,\n",
       "    'subTypeKey': 'type',\n",
       "    'subTypeVersions': {'group': 0,\n",
       "     'text': 1,\n",
       "     'bookmark': 1,\n",
       "     'draw': 1,\n",
       "     'geo': 7,\n",
       "     'note': 4,\n",
       "     'line': 1,\n",
       "     'frame': 0,\n",
       "     'arrow': 2,\n",
       "     'highlight': 0,\n",
       "     'embed': 4,\n",
       "     'image': 2,\n",
       "     'video': 1}},\n",
       "   'instance_presence': {'version': 5},\n",
       "   'pointer': {'version': 1}}},\n",
       " 'records': [{'gridSize': 10,\n",
       "   'name': '',\n",
       "   'meta': {},\n",
       "   'id': 'document:document',\n",
       "   'typeName': 'document'},\n",
       "  {'id': 'pointer:pointer',\n",
       "   'typeName': 'pointer',\n",
       "   'x': 33,\n",
       "   'y': 43.19999694824219,\n",
       "   'lastActivityTimestamp': 1704194598560,\n",
       "   'meta': {}},\n",
       "  {'meta': {},\n",
       "   'id': 'page:page',\n",
       "   'name': 'Page 1',\n",
       "   'index': 'a1',\n",
       "   'typeName': 'page'},\n",
       "  {'x': 0,\n",
       "   'y': 0,\n",
       "   'z': 1,\n",
       "   'meta': {},\n",
       "   'id': 'camera:page:page',\n",
       "   'typeName': 'camera'},\n",
       "  {'editingShapeId': None,\n",
       "   'croppingShapeId': None,\n",
       "   'selectedShapeIds': [],\n",
       "   'hoveredShapeId': None,\n",
       "   'erasingShapeIds': [],\n",
       "   'hintingShapeIds': [],\n",
       "   'focusedGroupId': None,\n",
       "   'meta': {},\n",
       "   'id': 'instance_page_state:page:page',\n",
       "   'pageId': 'page:page',\n",
       "   'typeName': 'instance_page_state'},\n",
       "  {'followingUserId': None,\n",
       "   'opacityForNextShape': 1,\n",
       "   'stylesForNextShape': {},\n",
       "   'brush': None,\n",
       "   'scribbles': [],\n",
       "   'cursor': {'type': 'default', 'rotation': 0},\n",
       "   'isFocusMode': False,\n",
       "   'exportBackground': True,\n",
       "   'isDebugMode': False,\n",
       "   'isToolLocked': False,\n",
       "   'screenBounds': {'x': 0, 'y': 0, 'w': 1441.5999755859375, 'h': 708},\n",
       "   'zoomBrush': None,\n",
       "   'isGridMode': False,\n",
       "   'isPenMode': False,\n",
       "   'chatMessage': '',\n",
       "   'isChatting': False,\n",
       "   'highlightedUserIds': [],\n",
       "   'canMoveCamera': True,\n",
       "   'isFocused': True,\n",
       "   'devicePixelRatio': 1.25,\n",
       "   'isCoarsePointer': False,\n",
       "   'isHoveringCanvas': False,\n",
       "   'openMenus': ['main menu', 'main menu menu file'],\n",
       "   'isChangingStyle': False,\n",
       "   'isReadonly': False,\n",
       "   'meta': {},\n",
       "   'id': 'instance:instance',\n",
       "   'currentPageId': 'page:page',\n",
       "   'typeName': 'instance'},\n",
       "  {'x': 253.3853109296051,\n",
       "   'y': 278.3999938964844,\n",
       "   'rotation': 0,\n",
       "   'isLocked': False,\n",
       "   'opacity': 1,\n",
       "   'meta': {},\n",
       "   'id': 'shape:kZQaGMBvFf_mAcTqhEuhV',\n",
       "   'type': 'text',\n",
       "   'props': {'color': 'black',\n",
       "    'size': 'm',\n",
       "    'w': 384.5999755859375,\n",
       "    'text': 'Hello tldraw!',\n",
       "    'font': 'draw',\n",
       "    'align': 'middle',\n",
       "    'autoSize': False,\n",
       "    'scale': 2.358024627401817},\n",
       "   'parentId': 'page:page',\n",
       "   'index': 'a1',\n",
       "   'typeName': 'shape'}]}"
      ]
     },
     "execution_count": 7,
     "metadata": {},
     "output_type": "execute_result"
    }
   ],
   "source": [
    "import json\n",
    "tldraw_donnees = {\"tldrawFileFormatVersion\":1,\"schema\":{\"schemaVersion\":1,\"storeVersion\":4,\"recordVersions\":{\"asset\":{\"version\":1,\"subTypeKey\":\"type\",\"subTypeVersions\":{\"image\":2,\"video\":2,\"bookmark\":0}},\"camera\":{\"version\":1},\"document\":{\"version\":2},\"instance\":{\"version\":22},\"instance_page_state\":{\"version\":5},\"page\":{\"version\":1},\"shape\":{\"version\":3,\"subTypeKey\":\"type\",\"subTypeVersions\":{\"group\":0,\"text\":1,\"bookmark\":1,\"draw\":1,\"geo\":7,\"note\":4,\"line\":1,\"frame\":0,\"arrow\":2,\"highlight\":0,\"embed\":4,\"image\":2,\"video\":1}},\"instance_presence\":{\"version\":5},\"pointer\":{\"version\":1}}},\"records\":[{\"gridSize\":10,\"name\":\"\",\"meta\":{},\"id\":\"document:document\",\"typeName\":\"document\"},{\"id\":\"pointer:pointer\",\"typeName\":\"pointer\",\"x\":33,\"y\":43.19999694824219,\"lastActivityTimestamp\":1704194598560,\"meta\":{}},{\"meta\":{},\"id\":\"page:page\",\"name\":\"Page 1\",\"index\":\"a1\",\"typeName\":\"page\"},{\"x\":0,\"y\":0,\"z\":1,\"meta\":{},\"id\":\"camera:page:page\",\"typeName\":\"camera\"},{\"editingShapeId\":None,\"croppingShapeId\":None,\"selectedShapeIds\":[],\"hoveredShapeId\":None,\"erasingShapeIds\":[],\"hintingShapeIds\":[],\"focusedGroupId\":None,\"meta\":{},\"id\":\"instance_page_state:page:page\",\"pageId\":\"page:page\",\"typeName\":\"instance_page_state\"},{\"followingUserId\":None,\"opacityForNextShape\":1,\"stylesForNextShape\":{},\"brush\":None,\"scribbles\":[],\"cursor\":{\"type\":\"default\",\"rotation\":0},\"isFocusMode\":False,\"exportBackground\":True,\"isDebugMode\":False,\"isToolLocked\":False,\"screenBounds\":{\"x\":0,\"y\":0,\"w\":1441.5999755859375,\"h\":708},\"zoomBrush\":None,\"isGridMode\":False,\"isPenMode\":False,\"chatMessage\":\"\",\"isChatting\":False,\"highlightedUserIds\":[],\"canMoveCamera\":True,\"isFocused\":True,\"devicePixelRatio\":1.25,\"isCoarsePointer\":False,\"isHoveringCanvas\":False,\"openMenus\":[\"main menu\",\"main menu menu file\"],\"isChangingStyle\":False,\"isReadonly\":False,\"meta\":{},\"id\":\"instance:instance\",\"currentPageId\":\"page:page\",\"typeName\":\"instance\"},{\"x\":253.3853109296051,\"y\":278.3999938964844,\"rotation\":0,\"isLocked\":False,\"opacity\":1,\"meta\":{},\"id\":\"shape:kZQaGMBvFf_mAcTqhEuhV\",\"type\":\"text\",\"props\":{\"color\":\"black\",\"size\":\"m\",\"w\":384.5999755859375,\"text\":\"Hello tldraw!\",\"font\":\"draw\",\"align\":\"middle\",\"autoSize\":False,\"scale\":2.358024627401817},\"parentId\":\"page:page\",\"index\":\"a1\",\"typeName\":\"shape\"}]}\n",
    "string = json.dumps(tldraw_donnees)\n",
    "hello = json.loads(string)\n",
    "hello"
   ]
  },
  {
   "cell_type": "code",
   "execution_count": 10,
   "id": "979b5dd1-ba4a-4bb1-9233-c694531273ca",
   "metadata": {
    "collapsed": true,
    "jupyter": {
     "outputs_hidden": true
    }
   },
   "outputs": [
    {
     "data": {
      "text/plain": [
       "[{'gridSize': 10,\n",
       "  'name': '',\n",
       "  'meta': {},\n",
       "  'id': 'document:document',\n",
       "  'typeName': 'document'},\n",
       " {'id': 'pointer:pointer',\n",
       "  'typeName': 'pointer',\n",
       "  'x': 33,\n",
       "  'y': 43.19999694824219,\n",
       "  'lastActivityTimestamp': 1704194598560,\n",
       "  'meta': {}},\n",
       " {'meta': {},\n",
       "  'id': 'page:page',\n",
       "  'name': 'Page 1',\n",
       "  'index': 'a1',\n",
       "  'typeName': 'page'},\n",
       " {'x': 0,\n",
       "  'y': 0,\n",
       "  'z': 1,\n",
       "  'meta': {},\n",
       "  'id': 'camera:page:page',\n",
       "  'typeName': 'camera'},\n",
       " {'editingShapeId': None,\n",
       "  'croppingShapeId': None,\n",
       "  'selectedShapeIds': [],\n",
       "  'hoveredShapeId': None,\n",
       "  'erasingShapeIds': [],\n",
       "  'hintingShapeIds': [],\n",
       "  'focusedGroupId': None,\n",
       "  'meta': {},\n",
       "  'id': 'instance_page_state:page:page',\n",
       "  'pageId': 'page:page',\n",
       "  'typeName': 'instance_page_state'},\n",
       " {'followingUserId': None,\n",
       "  'opacityForNextShape': 1,\n",
       "  'stylesForNextShape': {},\n",
       "  'brush': None,\n",
       "  'scribbles': [],\n",
       "  'cursor': {'type': 'default', 'rotation': 0},\n",
       "  'isFocusMode': False,\n",
       "  'exportBackground': True,\n",
       "  'isDebugMode': False,\n",
       "  'isToolLocked': False,\n",
       "  'screenBounds': {'x': 0, 'y': 0, 'w': 1441.5999755859375, 'h': 708},\n",
       "  'zoomBrush': None,\n",
       "  'isGridMode': False,\n",
       "  'isPenMode': False,\n",
       "  'chatMessage': '',\n",
       "  'isChatting': False,\n",
       "  'highlightedUserIds': [],\n",
       "  'canMoveCamera': True,\n",
       "  'isFocused': True,\n",
       "  'devicePixelRatio': 1.25,\n",
       "  'isCoarsePointer': False,\n",
       "  'isHoveringCanvas': False,\n",
       "  'openMenus': ['main menu', 'main menu menu file'],\n",
       "  'isChangingStyle': False,\n",
       "  'isReadonly': False,\n",
       "  'meta': {},\n",
       "  'id': 'instance:instance',\n",
       "  'currentPageId': 'page:page',\n",
       "  'typeName': 'instance'},\n",
       " {'x': 253.3853109296051,\n",
       "  'y': 278.3999938964844,\n",
       "  'rotation': 0,\n",
       "  'isLocked': False,\n",
       "  'opacity': 1,\n",
       "  'meta': {},\n",
       "  'id': 'shape:kZQaGMBvFf_mAcTqhEuhV',\n",
       "  'type': 'text',\n",
       "  'props': {'color': 'black',\n",
       "   'size': 'm',\n",
       "   'w': 384.5999755859375,\n",
       "   'text': 'Hello tldraw!',\n",
       "   'font': 'draw',\n",
       "   'align': 'middle',\n",
       "   'autoSize': False,\n",
       "   'scale': 2.358024627401817},\n",
       "  'parentId': 'page:page',\n",
       "  'index': 'a1',\n",
       "  'typeName': 'shape'}]"
      ]
     },
     "execution_count": 10,
     "metadata": {},
     "output_type": "execute_result"
    }
   ],
   "source": [
    "records = hello[\"records\"]\n",
    "records"
   ]
  },
  {
   "cell_type": "markdown",
   "id": "a6ce392d-b8fa-4df2-a5e1-e5c9b81dffc8",
   "metadata": {},
   "source": [
    "# Records & Shapes"
   ]
  },
  {
   "cell_type": "markdown",
   "id": "c30a7788-e59e-42ab-a5da-c43aa1bb0872",
   "metadata": {},
   "source": [
    "```{exercise} Structure\n",
    ":label:\n",
    "\n",
    " 1. Can you locate a list of \"records\" inside `doc`? Name that list `records`.\n",
    "\n",
    " 2. Records all have a type name. Can you list all of them?\n",
    "\n",
    " 3. There should be a single shape among your records. What's it's `type`?\n",
    "\n",
    " 4. Name `hello_text` this record and display it in the notebook\n",
    "\n",
    "```"
   ]
  },
  {
   "cell_type": "code",
   "execution_count": 12,
   "id": "d249f363-32f5-4f1f-a200-866745acd94f",
   "metadata": {},
   "outputs": [
    {
     "data": {
      "text/plain": [
       "['document',\n",
       " 'pointer',\n",
       " 'page',\n",
       " 'camera',\n",
       " 'instance_page_state',\n",
       " 'instance',\n",
       " 'shape']"
      ]
     },
     "execution_count": 12,
     "metadata": {},
     "output_type": "execute_result"
    }
   ],
   "source": [
    "ls_typename = []\n",
    "for dico in records :\n",
    "    ls_typename.append(dico['typeName'])\n",
    "ls_typename"
   ]
  },
  {
   "cell_type": "markdown",
   "id": "88a29de9-0fb7-4173-8f5e-29377e5e2147",
   "metadata": {},
   "source": [
    "# Edit the Document"
   ]
  },
  {
   "cell_type": "markdown",
   "id": "0e3880a5-049b-4d0a-a4aa-2678eff6406c",
   "metadata": {},
   "source": [
    "```{exercise} Text Content\n",
    "\n",
    "  1. Locate where in the `hello_text` record the text content is located.\n",
    "  \n",
    "  2. Replace \"Hello tldraw!\" with \"Hello Python!\"\n",
    "\n",
    "  3. Save the corresponding document in the directory `docs` as a `hello-python.tldr` file.\n",
    "\n",
    "  4. Load it in the tldraw editor and check that you end up with something similar to the picture below.\n",
    "\n",
    "```"
   ]
  },
  {
   "cell_type": "markdown",
   "id": "1f95f445-0b47-4cea-a53b-b8d0a8bed59f",
   "metadata": {},
   "source": [
    "![](images/hello-python.png)"
   ]
  }
 ],
 "metadata": {
  "kernelspec": {
   "display_name": "Python 3 (ipykernel)",
   "language": "python",
   "name": "python3"
  },
  "language_info": {
   "codemirror_mode": {
    "name": "ipython",
    "version": 3
   },
   "file_extension": ".py",
   "mimetype": "text/x-python",
   "name": "python",
   "nbconvert_exporter": "python",
   "pygments_lexer": "ipython3",
   "version": "3.11.0"
  }
 },
 "nbformat": 4,
 "nbformat_minor": 5
}
