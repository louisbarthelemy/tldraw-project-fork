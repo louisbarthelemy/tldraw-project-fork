{
 "cells": [
  {
   "cell_type": "markdown",
   "id": "6afeba13-eb70-47c4-a2b1-7b987782a7a9",
   "metadata": {},
   "source": [
    "---\n",
    "title: Layers\n",
    "date: 2023-12-1 \n",
    "authors:\n",
    "  - name: Sébastien Boisgérault\n",
    "    email: Sebastien.Boisgerault@minesparis.psl.eu\n",
    "    url: https://github.com/boisgera\n",
    "    affiliations:\n",
    "      - institution: Mines Paris - PSL University\n",
    "        department: Institut des Transformation Numériques (ITN)\n",
    "github: boisgera\n",
    "license: CC-BY-4.0\n",
    "open_access: true\n",
    "---"
   ]
  },
  {
   "cell_type": "markdown",
   "id": "08881845-8a6c-4dff-9877-ab61c5d6d41d",
   "metadata": {},
   "source": [
    "# Stack of Cards\n",
    "\n",
    "\n",
    "```{exercise}\n",
    "1. Create a set of filled rectangles with the following sequence of colors: black, violet, blue, orange green and red. \n",
    "2. If necessary, move the rectangles so that they overlap and you can see which one is on top of the other.\n",
    "3. Which one is at the back of the document? Which one is at the top?  \n",
    "```"
   ]
  },
  {
   "cell_type": "markdown",
   "id": "cdb53dff-710c-4543-94df-ad1530f70ec8",
   "metadata": {},
   "source": [
    "![Layers](images/layers.png)"
   ]
  },
  {
   "cell_type": "code",
   "execution_count": 1,
   "id": "445d1150-2b04-45a0-be21-bf46da3a592d",
   "metadata": {},
   "outputs": [
    {
     "name": "stdout",
     "output_type": "stream",
     "text": [
      "{\"tldrawFileFormatVersion\":1,\"schema\":{\"schemaVersion\":1,\"storeVersion\":4,\"recordVersions\":{\"asset\":{\"version\":1,\"subTypeKey\":\"type\",\"subTypeVersions\":{\"image\":3,\"video\":3,\"bookmark\":1}},\"camera\":{\"version\":1},\"document\":{\"version\":2},\"instance\":{\"version\":23},\"instance_page_state\":{\"version\":5},\"page\":{\"version\":1},\"shape\":{\"version\":3,\"subTypeKey\":\"type\",\"subTypeVersions\":{\"group\":0,\"text\":1,\"bookmark\":2,\"draw\":1,\"geo\":8,\"note\":5,\"line\":1,\"frame\":0,\"arrow\":2,\"highlight\":0,\"embed\":4,\"image\":3,\"video\":2}},\"instance_presence\":{\"version\":5},\"pointer\":{\"version\":1}}},\"records\":[{\"gridSize\":10,\"name\":\"\",\"meta\":{},\"id\":\"document:document\",\"typeName\":\"document\"},{\"meta\":{},\"id\":\"page:av--75Xn7fhgs7TqIdSH9\",\"name\":\"Page 1\",\"index\":\"a1\",\"typeName\":\"page\"},{\"id\":\"pointer:pointer\",\"typeName\":\"pointer\",\"x\":18.316650390625,\"y\":-39.249072265625,\"lastActivityTimestamp\":1707213091059,\"meta\":{}},{\"followingUserId\":null,\"opacityForNextShape\":1,\"stylesForNextShape\":{\"tldraw:fill\":\"solid\",\"tldraw:geo\":\"rectangle\",\"tldraw:color\":\"red\"},\"brush\":null,\"scribbles\":[],\"cursor\":{\"type\":\"default\",\"rotation\":0},\"isFocusMode\":false,\"exportBackground\":true,\"isDebugMode\":false,\"isToolLocked\":false,\"screenBounds\":{\"x\":0,\"y\":0,\"w\":765.5999755859375,\"h\":670.4000244140625},\"insets\":[false,true,true,false],\"zoomBrush\":null,\"isGridMode\":false,\"isPenMode\":false,\"chatMessage\":\"\",\"isChatting\":false,\"highlightedUserIds\":[],\"canMoveCamera\":true,\"isFocused\":true,\"devicePixelRatio\":1.25,\"isCoarsePointer\":false,\"isHoveringCanvas\":false,\"openMenus\":[\"main menu\",\"main menu menu file\"],\"isChangingStyle\":false,\"isReadonly\":false,\"meta\":{},\"id\":\"instance:instance\",\"currentPageId\":\"page:av--75Xn7fhgs7TqIdSH9\",\"typeName\":\"instance\"},{\"editingShapeId\":null,\"croppingShapeId\":null,\"selectedShapeIds\":[],\"hoveredShapeId\":null,\"erasingShapeIds\":[],\"hintingShapeIds\":[],\"focusedGroupId\":null,\"meta\":{},\"id\":\"instance_page_state:page:av--75Xn7fhgs7TqIdSH9\",\"pageId\":\"page:av--75Xn7fhgs7TqIdSH9\",\"typeName\":\"instance_page_state\"},{\"x\":11.683349609375,\"y\":84.249072265625,\"z\":1,\"meta\":{},\"id\":\"camera:page:av--75Xn7fhgs7TqIdSH9\",\"typeName\":\"camera\"},{\"x\":105.316650390625,\"y\":185.750927734375,\"rotation\":0,\"isLocked\":false,\"opacity\":1,\"meta\":{},\"id\":\"shape:DWPdkXUpjtUZl61hAZUS_\",\"type\":\"geo\",\"props\":{\"w\":115,\"h\":114,\"geo\":\"rectangle\",\"color\":\"black\",\"labelColor\":\"black\",\"fill\":\"solid\",\"dash\":\"draw\",\"size\":\"m\",\"font\":\"draw\",\"text\":\"\",\"align\":\"middle\",\"verticalAlign\":\"middle\",\"growY\":0,\"url\":\"\"},\"parentId\":\"page:av--75Xn7fhgs7TqIdSH9\",\"index\":\"a1\",\"typeName\":\"shape\"},{\"x\":130.316650390625,\"y\":163.750927734375,\"rotation\":0,\"isLocked\":false,\"opacity\":1,\"meta\":{},\"id\":\"shape:Jq9OhaHnxVll96DwVZjrs\",\"type\":\"geo\",\"props\":{\"w\":115,\"h\":114,\"geo\":\"rectangle\",\"color\":\"violet\",\"labelColor\":\"black\",\"fill\":\"solid\",\"dash\":\"draw\",\"size\":\"m\",\"font\":\"draw\",\"text\":\"\",\"align\":\"middle\",\"verticalAlign\":\"middle\",\"growY\":0,\"url\":\"\"},\"parentId\":\"page:av--75Xn7fhgs7TqIdSH9\",\"index\":\"a2\",\"typeName\":\"shape\"},{\"x\":159.316650390625,\"y\":139.750927734375,\"rotation\":0,\"isLocked\":false,\"opacity\":1,\"meta\":{},\"id\":\"shape:-_V7KH7wwoYcqsLP0UpIW\",\"type\":\"geo\",\"props\":{\"w\":115,\"h\":114,\"geo\":\"rectangle\",\"color\":\"blue\",\"labelColor\":\"black\",\"fill\":\"solid\",\"dash\":\"draw\",\"size\":\"m\",\"font\":\"draw\",\"text\":\"\",\"align\":\"middle\",\"verticalAlign\":\"middle\",\"growY\":0,\"url\":\"\"},\"parentId\":\"page:av--75Xn7fhgs7TqIdSH9\",\"index\":\"a3\",\"typeName\":\"shape\"},{\"x\":185.316650390625,\"y\":114.75092773437501,\"rotation\":0,\"isLocked\":false,\"opacity\":1,\"meta\":{},\"id\":\"shape:VTUAiu1yJMGmpnRC7wjQ3\",\"type\":\"geo\",\"props\":{\"w\":115,\"h\":114,\"geo\":\"rectangle\",\"color\":\"orange\",\"labelColor\":\"black\",\"fill\":\"solid\",\"dash\":\"draw\",\"size\":\"m\",\"font\":\"draw\",\"text\":\"\",\"align\":\"middle\",\"verticalAlign\":\"middle\",\"growY\":0,\"url\":\"\"},\"parentId\":\"page:av--75Xn7fhgs7TqIdSH9\",\"index\":\"a4\",\"typeName\":\"shape\"},{\"x\":208.316650390625,\"y\":90.75092773437501,\"rotation\":0,\"isLocked\":false,\"opacity\":1,\"meta\":{},\"id\":\"shape:vYDyKT-wTrlAGFJQPgQGc\",\"type\":\"geo\",\"props\":{\"w\":115,\"h\":114,\"geo\":\"rectangle\",\"color\":\"green\",\"labelColor\":\"black\",\"fill\":\"solid\",\"dash\":\"draw\",\"size\":\"m\",\"font\":\"draw\",\"text\":\"\",\"align\":\"middle\",\"verticalAlign\":\"middle\",\"growY\":0,\"url\":\"\"},\"parentId\":\"page:av--75Xn7fhgs7TqIdSH9\",\"index\":\"a5\",\"typeName\":\"shape\"},{\"x\":234.316650390625,\"y\":66.750927734375,\"rotation\":0,\"isLocked\":false,\"opacity\":1,\"meta\":{},\"id\":\"shape:F_Byre7K7bbx4L4UWOA3b\",\"type\":\"geo\",\"props\":{\"w\":115,\"h\":114,\"geo\":\"rectangle\",\"color\":\"red\",\"labelColor\":\"black\",\"fill\":\"solid\",\"dash\":\"draw\",\"size\":\"m\",\"font\":\"draw\",\"text\":\"\",\"align\":\"middle\",\"verticalAlign\":\"middle\",\"growY\":0,\"url\":\"\"},\"parentId\":\"page:av--75Xn7fhgs7TqIdSH9\",\"index\":\"a6\",\"typeName\":\"shape\"}]}\n"
     ]
    }
   ],
   "source": [
    "#lecture du contenu de rectangles.tldr\n",
    "file = open('rectangles.tldr', mode = 'tr', encoding = 'utf-8')\n",
    "print(file.read())"
   ]
  },
  {
   "cell_type": "code",
   "execution_count": 2,
   "id": "55a5008f-65af-4195-8358-0bd1589acce7",
   "metadata": {},
   "outputs": [
    {
     "data": {
      "text/plain": [
       "{'tldrawFileFormatVersion': 1,\n",
       " 'schema': {'schemaVersion': 1,\n",
       "  'storeVersion': 4,\n",
       "  'recordVersions': {'asset': {'version': 1,\n",
       "    'subTypeKey': 'type',\n",
       "    'subTypeVersions': {'image': 3, 'video': 3, 'bookmark': 1}},\n",
       "   'camera': {'version': 1},\n",
       "   'document': {'version': 2},\n",
       "   'instance': {'version': 22},\n",
       "   'instance_page_state': {'version': 5},\n",
       "   'page': {'version': 1},\n",
       "   'shape': {'version': 3,\n",
       "    'subTypeKey': 'type',\n",
       "    'subTypeVersions': {'group': 0,\n",
       "     'text': 1,\n",
       "     'bookmark': 2,\n",
       "     'draw': 1,\n",
       "     'geo': 8,\n",
       "     'note': 5,\n",
       "     'line': 1,\n",
       "     'frame': 0,\n",
       "     'arrow': 2,\n",
       "     'highlight': 0,\n",
       "     'embed': 4,\n",
       "     'image': 3,\n",
       "     'video': 2}},\n",
       "   'instance_presence': {'version': 5},\n",
       "   'pointer': {'version': 1}}},\n",
       " 'records': [{'gridSize': 10,\n",
       "   'name': '',\n",
       "   'meta': {},\n",
       "   'id': 'document:document',\n",
       "   'typeName': 'document'},\n",
       "  {'meta': {},\n",
       "   'id': 'page:page',\n",
       "   'name': 'Page 1',\n",
       "   'index': 'a1',\n",
       "   'typeName': 'page'},\n",
       "  {'followingUserId': None,\n",
       "   'opacityForNextShape': 1,\n",
       "   'stylesForNextShape': {'tldraw:fill': 'solid',\n",
       "    'tldraw:geo': 'rectangle',\n",
       "    'tldraw:color': 'red'},\n",
       "   'brush': None,\n",
       "   'scribbles': [],\n",
       "   'cursor': {'type': 'default', 'rotation': 0},\n",
       "   'isFocusMode': False,\n",
       "   'exportBackground': True,\n",
       "   'isDebugMode': False,\n",
       "   'isToolLocked': False,\n",
       "   'screenBounds': {'x': 0, 'y': 0, 'w': 1441.5999755859375, 'h': 708},\n",
       "   'zoomBrush': None,\n",
       "   'isGridMode': False,\n",
       "   'isPenMode': False,\n",
       "   'chatMessage': '',\n",
       "   'isChatting': False,\n",
       "   'highlightedUserIds': [],\n",
       "   'canMoveCamera': True,\n",
       "   'isFocused': True,\n",
       "   'devicePixelRatio': 1.25,\n",
       "   'isCoarsePointer': False,\n",
       "   'isHoveringCanvas': False,\n",
       "   'openMenus': ['main menu', 'main menu menu file'],\n",
       "   'isChangingStyle': False,\n",
       "   'isReadonly': False,\n",
       "   'meta': {},\n",
       "   'id': 'instance:instance',\n",
       "   'currentPageId': 'page:page',\n",
       "   'typeName': 'instance'},\n",
       "  {'x': 13.966569798474552,\n",
       "   'y': 37.40000534057617,\n",
       "   'z': 1,\n",
       "   'meta': {},\n",
       "   'id': 'camera:page:page',\n",
       "   'typeName': 'camera'},\n",
       "  {'editingShapeId': None,\n",
       "   'croppingShapeId': None,\n",
       "   'selectedShapeIds': [],\n",
       "   'hoveredShapeId': None,\n",
       "   'erasingShapeIds': [],\n",
       "   'hintingShapeIds': [],\n",
       "   'focusedGroupId': None,\n",
       "   'meta': {},\n",
       "   'id': 'instance_page_state:page:page',\n",
       "   'pageId': 'page:page',\n",
       "   'typeName': 'instance_page_state'},\n",
       "  {'id': 'pointer:pointer',\n",
       "   'typeName': 'pointer',\n",
       "   'x': 75.03343020152545,\n",
       "   'y': 3.3999977111816406,\n",
       "   'lastActivityTimestamp': 1705655078095,\n",
       "   'meta': {}},\n",
       "  {'x': 381.4334240980098,\n",
       "   'y': 206.59993362426758,\n",
       "   'rotation': 0,\n",
       "   'isLocked': False,\n",
       "   'opacity': 1,\n",
       "   'meta': {},\n",
       "   'id': 'shape:4kMs6aELg_NzCK1XtWdDy',\n",
       "   'type': 'geo',\n",
       "   'props': {'w': 188,\n",
       "    'h': 176.00006103515625,\n",
       "    'geo': 'rectangle',\n",
       "    'color': 'black',\n",
       "    'labelColor': 'black',\n",
       "    'fill': 'solid',\n",
       "    'dash': 'draw',\n",
       "    'size': 'm',\n",
       "    'font': 'draw',\n",
       "    'text': '',\n",
       "    'align': 'middle',\n",
       "    'verticalAlign': 'middle',\n",
       "    'growY': 0,\n",
       "    'url': ''},\n",
       "   'parentId': 'page:page',\n",
       "   'index': 'a1',\n",
       "   'typeName': 'shape'},\n",
       "  {'x': 403.8334179944942,\n",
       "   'y': 180.20001602172852,\n",
       "   'rotation': 0,\n",
       "   'isLocked': False,\n",
       "   'opacity': 1,\n",
       "   'meta': {},\n",
       "   'id': 'shape:DR9P03eUCmHE_BTk1V-tG',\n",
       "   'type': 'geo',\n",
       "   'props': {'w': 198.4000244140625,\n",
       "    'h': 183.1999969482422,\n",
       "    'geo': 'rectangle',\n",
       "    'color': 'light-violet',\n",
       "    'labelColor': 'black',\n",
       "    'fill': 'solid',\n",
       "    'dash': 'draw',\n",
       "    'size': 'm',\n",
       "    'font': 'draw',\n",
       "    'text': '',\n",
       "    'align': 'middle',\n",
       "    'verticalAlign': 'middle',\n",
       "    'growY': 0,\n",
       "    'url': ''},\n",
       "   'parentId': 'page:page',\n",
       "   'index': 'a2',\n",
       "   'typeName': 'shape'},\n",
       "  {'x': 430.2334424085567,\n",
       "   'y': 154.6000099182129,\n",
       "   'rotation': 0,\n",
       "   'isLocked': False,\n",
       "   'opacity': 1,\n",
       "   'meta': {},\n",
       "   'id': 'shape:5lsygnOfdc0gIIRKUN9HR',\n",
       "   'type': 'geo',\n",
       "   'props': {'w': 188,\n",
       "    'h': 183.99998474121094,\n",
       "    'geo': 'rectangle',\n",
       "    'color': 'blue',\n",
       "    'labelColor': 'black',\n",
       "    'fill': 'solid',\n",
       "    'dash': 'draw',\n",
       "    'size': 'm',\n",
       "    'font': 'draw',\n",
       "    'text': '',\n",
       "    'align': 'middle',\n",
       "    'verticalAlign': 'middle',\n",
       "    'growY': 0,\n",
       "    'url': ''},\n",
       "   'parentId': 'page:page',\n",
       "   'index': 'a3',\n",
       "   'typeName': 'shape'},\n",
       "  {'x': 455.03343020152545,\n",
       "   'y': 131.39998245239258,\n",
       "   'rotation': 0,\n",
       "   'isLocked': False,\n",
       "   'opacity': 1,\n",
       "   'meta': {},\n",
       "   'id': 'shape:GNnxaCPg6RXX5qNnGYK_E',\n",
       "   'type': 'geo',\n",
       "   'props': {'w': 190.39996337890614,\n",
       "    'h': 186.4000244140625,\n",
       "    'geo': 'rectangle',\n",
       "    'color': 'yellow',\n",
       "    'labelColor': 'black',\n",
       "    'fill': 'solid',\n",
       "    'dash': 'draw',\n",
       "    'size': 'm',\n",
       "    'font': 'draw',\n",
       "    'text': '',\n",
       "    'align': 'middle',\n",
       "    'verticalAlign': 'middle',\n",
       "    'growY': 0,\n",
       "    'url': ''},\n",
       "   'parentId': 'page:page',\n",
       "   'index': 'a4',\n",
       "   'typeName': 'shape'},\n",
       "  {'x': 476.6334668226192,\n",
       "   'y': 112.20000076293945,\n",
       "   'rotation': 0,\n",
       "   'isLocked': False,\n",
       "   'opacity': 1,\n",
       "   'meta': {},\n",
       "   'id': 'shape:sH_Q96joU_2qDoEH6ZvgD',\n",
       "   'type': 'geo',\n",
       "   'props': {'w': 194.4000244140625,\n",
       "    'h': 187.19998168945312,\n",
       "    'geo': 'rectangle',\n",
       "    'color': 'light-green',\n",
       "    'labelColor': 'black',\n",
       "    'fill': 'solid',\n",
       "    'dash': 'draw',\n",
       "    'size': 'm',\n",
       "    'font': 'draw',\n",
       "    'text': '',\n",
       "    'align': 'middle',\n",
       "    'verticalAlign': 'middle',\n",
       "    'growY': 0,\n",
       "    'url': ''},\n",
       "   'parentId': 'page:page',\n",
       "   'index': 'a5',\n",
       "   'typeName': 'shape'},\n",
       "  {'x': 496.63340578746295,\n",
       "   'y': 94.60000991821289,\n",
       "   'rotation': 0,\n",
       "   'isLocked': False,\n",
       "   'opacity': 1,\n",
       "   'meta': {},\n",
       "   'id': 'shape:OkOc0ijN2w2JKvbc4sbtM',\n",
       "   'type': 'geo',\n",
       "   'props': {'w': 206.4000244140625,\n",
       "    'h': 188.8000030517578,\n",
       "    'geo': 'rectangle',\n",
       "    'color': 'red',\n",
       "    'labelColor': 'black',\n",
       "    'fill': 'solid',\n",
       "    'dash': 'draw',\n",
       "    'size': 'm',\n",
       "    'font': 'draw',\n",
       "    'text': '',\n",
       "    'align': 'middle',\n",
       "    'verticalAlign': 'middle',\n",
       "    'growY': 0,\n",
       "    'url': ''},\n",
       "   'parentId': 'page:page',\n",
       "   'index': 'a6',\n",
       "   'typeName': 'shape'}]}"
      ]
     },
     "execution_count": 2,
     "metadata": {},
     "output_type": "execute_result"
    }
   ],
   "source": [
    "import json\n",
    "json_str = '''\n",
    "{\"tldrawFileFormatVersion\":1,\"schema\":{\"schemaVersion\":1,\"storeVersion\":4,\"recordVersions\":{\"asset\":{\"version\":1,\"subTypeKey\":\"type\",\"subTypeVersions\":{\"image\":3,\"video\":3,\"bookmark\":1}},\"camera\":{\"version\":1},\"document\":{\"version\":2},\"instance\":{\"version\":22},\"instance_page_state\":{\"version\":5},\"page\":{\"version\":1},\"shape\":{\"version\":3,\"subTypeKey\":\"type\",\"subTypeVersions\":{\"group\":0,\"text\":1,\"bookmark\":2,\"draw\":1,\"geo\":8,\"note\":5,\"line\":1,\"frame\":0,\"arrow\":2,\"highlight\":0,\"embed\":4,\"image\":3,\"video\":2}},\"instance_presence\":{\"version\":5},\"pointer\":{\"version\":1}}},\"records\":[{\"gridSize\":10,\"name\":\"\",\"meta\":{},\"id\":\"document:document\",\"typeName\":\"document\"},{\"meta\":{},\"id\":\"page:page\",\"name\":\"Page 1\",\"index\":\"a1\",\"typeName\":\"page\"},{\"followingUserId\":null,\"opacityForNextShape\":1,\"stylesForNextShape\":{\"tldraw:fill\":\"solid\",\"tldraw:geo\":\"rectangle\",\"tldraw:color\":\"red\"},\"brush\":null,\"scribbles\":[],\"cursor\":{\"type\":\"default\",\"rotation\":0},\"isFocusMode\":false,\"exportBackground\":true,\"isDebugMode\":false,\"isToolLocked\":false,\"screenBounds\":{\"x\":0,\"y\":0,\"w\":1441.5999755859375,\"h\":708},\"zoomBrush\":null,\"isGridMode\":false,\"isPenMode\":false,\"chatMessage\":\"\",\"isChatting\":false,\"highlightedUserIds\":[],\"canMoveCamera\":true,\"isFocused\":true,\"devicePixelRatio\":1.25,\"isCoarsePointer\":false,\"isHoveringCanvas\":false,\"openMenus\":[\"main menu\",\"main menu menu file\"],\"isChangingStyle\":false,\"isReadonly\":false,\"meta\":{},\"id\":\"instance:instance\",\"currentPageId\":\"page:page\",\"typeName\":\"instance\"},{\"x\":13.966569798474552,\"y\":37.40000534057617,\"z\":1,\"meta\":{},\"id\":\"camera:page:page\",\"typeName\":\"camera\"},{\"editingShapeId\":null,\"croppingShapeId\":null,\"selectedShapeIds\":[],\"hoveredShapeId\":null,\"erasingShapeIds\":[],\"hintingShapeIds\":[],\"focusedGroupId\":null,\"meta\":{},\"id\":\"instance_page_state:page:page\",\"pageId\":\"page:page\",\"typeName\":\"instance_page_state\"},{\"id\":\"pointer:pointer\",\"typeName\":\"pointer\",\"x\":75.03343020152545,\"y\":3.3999977111816406,\"lastActivityTimestamp\":1705655078095,\"meta\":{}},{\"x\":381.4334240980098,\"y\":206.59993362426758,\"rotation\":0,\"isLocked\":false,\"opacity\":1,\"meta\":{},\"id\":\"shape:4kMs6aELg_NzCK1XtWdDy\",\"type\":\"geo\",\"props\":{\"w\":188,\"h\":176.00006103515625,\"geo\":\"rectangle\",\"color\":\"black\",\"labelColor\":\"black\",\"fill\":\"solid\",\"dash\":\"draw\",\"size\":\"m\",\"font\":\"draw\",\"text\":\"\",\"align\":\"middle\",\"verticalAlign\":\"middle\",\"growY\":0,\"url\":\"\"},\"parentId\":\"page:page\",\"index\":\"a1\",\"typeName\":\"shape\"},{\"x\":403.8334179944942,\"y\":180.20001602172852,\"rotation\":0,\"isLocked\":false,\"opacity\":1,\"meta\":{},\"id\":\"shape:DR9P03eUCmHE_BTk1V-tG\",\"type\":\"geo\",\"props\":{\"w\":198.4000244140625,\"h\":183.1999969482422,\"geo\":\"rectangle\",\"color\":\"light-violet\",\"labelColor\":\"black\",\"fill\":\"solid\",\"dash\":\"draw\",\"size\":\"m\",\"font\":\"draw\",\"text\":\"\",\"align\":\"middle\",\"verticalAlign\":\"middle\",\"growY\":0,\"url\":\"\"},\"parentId\":\"page:page\",\"index\":\"a2\",\"typeName\":\"shape\"},{\"x\":430.2334424085567,\"y\":154.6000099182129,\"rotation\":0,\"isLocked\":false,\"opacity\":1,\"meta\":{},\"id\":\"shape:5lsygnOfdc0gIIRKUN9HR\",\"type\":\"geo\",\"props\":{\"w\":188,\"h\":183.99998474121094,\"geo\":\"rectangle\",\"color\":\"blue\",\"labelColor\":\"black\",\"fill\":\"solid\",\"dash\":\"draw\",\"size\":\"m\",\"font\":\"draw\",\"text\":\"\",\"align\":\"middle\",\"verticalAlign\":\"middle\",\"growY\":0,\"url\":\"\"},\"parentId\":\"page:page\",\"index\":\"a3\",\"typeName\":\"shape\"},{\"x\":455.03343020152545,\"y\":131.39998245239258,\"rotation\":0,\"isLocked\":false,\"opacity\":1,\"meta\":{},\"id\":\"shape:GNnxaCPg6RXX5qNnGYK_E\",\"type\":\"geo\",\"props\":{\"w\":190.39996337890614,\"h\":186.4000244140625,\"geo\":\"rectangle\",\"color\":\"yellow\",\"labelColor\":\"black\",\"fill\":\"solid\",\"dash\":\"draw\",\"size\":\"m\",\"font\":\"draw\",\"text\":\"\",\"align\":\"middle\",\"verticalAlign\":\"middle\",\"growY\":0,\"url\":\"\"},\"parentId\":\"page:page\",\"index\":\"a4\",\"typeName\":\"shape\"},{\"x\":476.6334668226192,\"y\":112.20000076293945,\"rotation\":0,\"isLocked\":false,\"opacity\":1,\"meta\":{},\"id\":\"shape:sH_Q96joU_2qDoEH6ZvgD\",\"type\":\"geo\",\"props\":{\"w\":194.4000244140625,\"h\":187.19998168945312,\"geo\":\"rectangle\",\"color\":\"light-green\",\"labelColor\":\"black\",\"fill\":\"solid\",\"dash\":\"draw\",\"size\":\"m\",\"font\":\"draw\",\"text\":\"\",\"align\":\"middle\",\"verticalAlign\":\"middle\",\"growY\":0,\"url\":\"\"},\"parentId\":\"page:page\",\"index\":\"a5\",\"typeName\":\"shape\"},{\"x\":496.63340578746295,\"y\":94.60000991821289,\"rotation\":0,\"isLocked\":false,\"opacity\":1,\"meta\":{},\"id\":\"shape:OkOc0ijN2w2JKvbc4sbtM\",\"type\":\"geo\",\"props\":{\"w\":206.4000244140625,\"h\":188.8000030517578,\"geo\":\"rectangle\",\"color\":\"red\",\"labelColor\":\"black\",\"fill\":\"solid\",\"dash\":\"draw\",\"size\":\"m\",\"font\":\"draw\",\"text\":\"\",\"align\":\"middle\",\"verticalAlign\":\"middle\",\"growY\":0,\"url\":\"\"},\"parentId\":\"page:page\",\"index\":\"a6\",\"typeName\":\"shape\"}]}\n",
    "'''\n",
    "# transformation de la chaîne JSON en un dictionnaire Python\n",
    "dico = json.loads(json_str)\n",
    "dico"
   ]
  },
  {
   "cell_type": "markdown",
   "id": "bec73771-b30e-4446-9728-2c8aabc6dbf3",
   "metadata": {},
   "source": [
    "En haut du document apparaît d'abord le rectangle noir puis les suivants jusqu'au rouge."
   ]
  },
  {
   "cell_type": "markdown",
   "id": "41908045-4a55-4965-b015-ff860fb94096",
   "metadata": {},
   "source": [
    "# The Index\n",
    " "
   ]
  },
  {
   "cell_type": "markdown",
   "id": "c06f49bf-8844-4c94-83c5-c4d6e6056c5b",
   "metadata": {},
   "source": [
    "```{exercise}\n",
    ":label: second\n",
    "1. List the colors of all the shapes in your document, in the order in which they appear. What can you say?\n",
    "2. In Python, edit your document to make the red rectangle appear *before* every other rectangle. \n",
    "Does this change the (relative) depth of this rectangle?\n",
    "3. List again the colors of all the shapes in your document and the corresponding *index*, a string which is an attribute of the shape.\n",
    "4. Compare the lexicographic order between these strings and their depth in the document. What can you say?\n",
    "```\n",
    "\n",
    "````{note} Lexicographic order\n",
    "\n",
    "   When Python strings are compared and sorted, by default the lexicographic order is used.\n",
    "\n",
    "   The lexicographic order generalizes the alphabetical order:\n",
    "\n",
    "   ```\n",
    "   >>> \"alpaca\" < \"guanaco\" < \"lama\" < \"vicuña\"\n",
    "   True\n",
    "   ```\n",
    "\n",
    "   When the first letters are identical, the shorter strings is sorted first:\n",
    "   ```\n",
    "   >>> \"a\" < \"alp\" < \"alpaca\"\n",
    "   True\n",
    "   ```\n",
    "\n",
    "   All uppercase letters come before lowercase letters:\n",
    "   \n",
    "   ```\n",
    "   >>> \"A\" < \"Z\" < \"a\" < \"z\"\n",
    "   ```\n",
    "\n",
    "   and therefore \n",
    "\n",
    "   ```\n",
    "   >>> \"Vicuña\" < \"alpaca\" < \"vicuña\"\n",
    "   True\n",
    "   ```\n",
    "\n",
    "   Digits are ordered \"naturally\":\n",
    "\n",
    "   ```\n",
    "   >>> \"0\" < \"1\" < \"2\" < \"3\" < \"4\" < \"5\" < \"6\" < \"7\" < \"8\" < \"9\"\n",
    "   True\n",
    "   ```\n",
    "\n",
    "   However, beware of the comparison of strings that represent numbers:\n",
    "\n",
    "   ```\n",
    "   >>> \"2\" < \"100\"\n",
    "   False\n",
    "   >>> sorted([\"2\", \"100\"])\n",
    "   ['100', '2']\n",
    "   ```\n",
    "\n",
    "   All digits come before letters:\n",
    "\n",
    "   ```\n",
    "   >>> \"0\" < \"1\" < \"9\" < \"A\" < \"B\" < \"Z\" < \"a\" < \"b\" < \"z\"\n",
    "   True\n",
    "   ```\n",
    "\n",
    "\n",
    "\n",
    "````"
   ]
  },
  {
   "cell_type": "code",
   "execution_count": 3,
   "id": "6e65cb00-87b4-4135-a481-f817f8a57fdd",
   "metadata": {},
   "outputs": [
    {
     "name": "stdout",
     "output_type": "stream",
     "text": [
      "black\n",
      "light-violet\n",
      "blue\n",
      "yellow\n",
      "light-green\n",
      "red\n"
     ]
    }
   ],
   "source": [
    "#affichage des couleurs\n",
    "records = dico[\"records\"]\n",
    "for d in records :\n",
    "    if d['typeName'] == 'shape' :\n",
    "        print (d['props']['color'])"
   ]
  },
  {
   "cell_type": "code",
   "execution_count": 4,
   "id": "9c9cbe99-8025-413e-912e-0b53585b92e8",
   "metadata": {},
   "outputs": [
    {
     "name": "stdout",
     "output_type": "stream",
     "text": [
      "red\n",
      "light-violet\n",
      "blue\n",
      "yellow\n",
      "light-green\n",
      "black\n"
     ]
    }
   ],
   "source": [
    "import copy\n",
    "recordsdeux = copy.deepcopy(records)\n",
    "#on échange l'ordre d'apparition des couleurs dans la liste records\n",
    "for d in recordsdeux :\n",
    "\n",
    "    if d['typeName'] == 'shape' and d['props']['color'] == 'red' :\n",
    "        d['props']['color'] = 'black'\n",
    "    elif d['typeName'] == 'shape' and d['props']['color'] == 'black' :\n",
    "        d['props']['color'] ='red'\n",
    "\n",
    "#vérification du nouvel ordre d'apparition des couleurs\n",
    "for d in recordsdeux :\n",
    "    if d['typeName'] == 'shape' :\n",
    "        print (d['props']['color'])"
   ]
  },
  {
   "cell_type": "code",
   "execution_count": 5,
   "id": "77bae369-4877-44b7-9697-a1a9be04b8aa",
   "metadata": {
    "scrolled": true
   },
   "outputs": [
    {
     "name": "stdout",
     "output_type": "stream",
     "text": [
      "red a1\n",
      "light-violet a2\n",
      "blue a3\n",
      "yellow a4\n",
      "light-green a5\n",
      "black a6\n"
     ]
    }
   ],
   "source": [
    "for d in recordsdeux :\n",
    "    if d['typeName'] == 'shape' :\n",
    "        print (d['props']['color'], d['index'])"
   ]
  },
  {
   "cell_type": "markdown",
   "id": "b2dbd8d3-5bf7-4df3-945b-71208317949f",
   "metadata": {},
   "source": [
    "Plus on va \"profond\" dans le document, plus les éléments sont \"grands\" dans l'ordre lexicographique."
   ]
  },
  {
   "cell_type": "markdown",
   "id": "5541ef7f-67f5-48f9-8486-20bfa5b17109",
   "metadata": {},
   "source": [
    "# Fractional Indexing"
   ]
  },
  {
   "cell_type": "markdown",
   "id": "b2aa9801-d18f-4439-bebf-67c1fbe2e5fd",
   "metadata": {},
   "source": [
    "```{exercise}\n",
    "1. In the tldraw editor, insert a yellow rectangle into the document and use \"Actions/Send backward\" repeatedly to put it in a layer between the red and violet rectangles.\n",
    "2. Save this document and load it in Python.  Did the indices of the old rectangles change? \n",
    "3. What is the index of the new rectangle? Is this value consistent with the assumption you made in question 4 of [](#second)?\n",
    "```"
   ]
  },
  {
   "cell_type": "markdown",
   "id": "14735fa1-8341-49a6-95ff-dff0882d38e0",
   "metadata": {},
   "source": [
    "![Yellow rectangle](images/add-yellow.png)"
   ]
  },
  {
   "cell_type": "code",
   "execution_count": 6,
   "id": "b1b1e6b3-586e-4908-b0ce-48bfeecafcd4",
   "metadata": {},
   "outputs": [
    {
     "name": "stdout",
     "output_type": "stream",
     "text": [
      "{\"tldrawFileFormatVersion\":1,\"schema\":{\"schemaVersion\":1,\"storeVersion\":4,\"recordVersions\":{\"asset\":{\"version\":1,\"subTypeKey\":\"type\",\"subTypeVersions\":{\"image\":3,\"video\":3,\"bookmark\":1}},\"camera\":{\"version\":1},\"document\":{\"version\":2},\"instance\":{\"version\":23},\"instance_page_state\":{\"version\":5},\"page\":{\"version\":1},\"shape\":{\"version\":3,\"subTypeKey\":\"type\",\"subTypeVersions\":{\"group\":0,\"text\":1,\"bookmark\":2,\"draw\":1,\"geo\":8,\"note\":5,\"line\":1,\"frame\":0,\"arrow\":2,\"highlight\":0,\"embed\":4,\"image\":3,\"video\":2}},\"instance_presence\":{\"version\":5},\"pointer\":{\"version\":1}}},\"records\":[{\"gridSize\":10,\"name\":\"\",\"meta\":{},\"id\":\"document:document\",\"typeName\":\"document\"},{\"meta\":{},\"id\":\"page:av--75Xn7fhgs7TqIdSH9\",\"name\":\"Page 1\",\"index\":\"a1\",\"typeName\":\"page\"},{\"id\":\"pointer:pointer\",\"typeName\":\"pointer\",\"x\":28.316650390625,\"y\":-38.249072265625,\"lastActivityTimestamp\":1707214692557,\"meta\":{}},{\"followingUserId\":null,\"opacityForNextShape\":1,\"stylesForNextShape\":{\"tldraw:fill\":\"solid\",\"tldraw:geo\":\"rectangle\",\"tldraw:color\":\"yellow\",\"tldraw:dash\":\"draw\"},\"brush\":null,\"scribbles\":[],\"cursor\":{\"type\":\"default\",\"rotation\":0},\"isFocusMode\":false,\"exportBackground\":true,\"isDebugMode\":false,\"isToolLocked\":false,\"screenBounds\":{\"x\":0,\"y\":0,\"w\":765.5999755859375,\"h\":670.4000244140625},\"insets\":[false,true,true,false],\"zoomBrush\":null,\"isGridMode\":false,\"isPenMode\":false,\"chatMessage\":\"\",\"isChatting\":false,\"highlightedUserIds\":[],\"canMoveCamera\":true,\"isFocused\":true,\"devicePixelRatio\":1.25,\"isCoarsePointer\":false,\"isHoveringCanvas\":false,\"openMenus\":[\"main menu\",\"main menu menu file\"],\"isChangingStyle\":false,\"isReadonly\":false,\"meta\":{},\"id\":\"instance:instance\",\"currentPageId\":\"page:av--75Xn7fhgs7TqIdSH9\",\"typeName\":\"instance\"},{\"editingShapeId\":null,\"croppingShapeId\":null,\"selectedShapeIds\":[],\"hoveredShapeId\":null,\"erasingShapeIds\":[],\"hintingShapeIds\":[],\"focusedGroupId\":null,\"meta\":{},\"id\":\"instance_page_state:page:av--75Xn7fhgs7TqIdSH9\",\"pageId\":\"page:av--75Xn7fhgs7TqIdSH9\",\"typeName\":\"instance_page_state\"},{\"x\":11.683349609375,\"y\":84.249072265625,\"z\":1,\"meta\":{},\"id\":\"camera:page:av--75Xn7fhgs7TqIdSH9\",\"typeName\":\"camera\"},{\"x\":105.316650390625,\"y\":185.750927734375,\"rotation\":0,\"isLocked\":false,\"opacity\":1,\"meta\":{},\"id\":\"shape:DWPdkXUpjtUZl61hAZUS_\",\"type\":\"geo\",\"props\":{\"w\":115,\"h\":114,\"geo\":\"rectangle\",\"color\":\"black\",\"labelColor\":\"black\",\"fill\":\"solid\",\"dash\":\"draw\",\"size\":\"m\",\"font\":\"draw\",\"text\":\"\",\"align\":\"middle\",\"verticalAlign\":\"middle\",\"growY\":0,\"url\":\"\"},\"parentId\":\"page:av--75Xn7fhgs7TqIdSH9\",\"index\":\"a1\",\"typeName\":\"shape\"},{\"x\":130.316650390625,\"y\":163.750927734375,\"rotation\":0,\"isLocked\":false,\"opacity\":1,\"meta\":{},\"id\":\"shape:Jq9OhaHnxVll96DwVZjrs\",\"type\":\"geo\",\"props\":{\"w\":115,\"h\":114,\"geo\":\"rectangle\",\"color\":\"violet\",\"labelColor\":\"black\",\"fill\":\"solid\",\"dash\":\"draw\",\"size\":\"m\",\"font\":\"draw\",\"text\":\"\",\"align\":\"middle\",\"verticalAlign\":\"middle\",\"growY\":0,\"url\":\"\"},\"parentId\":\"page:av--75Xn7fhgs7TqIdSH9\",\"index\":\"a2\",\"typeName\":\"shape\"},{\"x\":159.316650390625,\"y\":139.750927734375,\"rotation\":0,\"isLocked\":false,\"opacity\":1,\"meta\":{},\"id\":\"shape:-_V7KH7wwoYcqsLP0UpIW\",\"type\":\"geo\",\"props\":{\"w\":115,\"h\":114,\"geo\":\"rectangle\",\"color\":\"blue\",\"labelColor\":\"black\",\"fill\":\"solid\",\"dash\":\"draw\",\"size\":\"m\",\"font\":\"draw\",\"text\":\"\",\"align\":\"middle\",\"verticalAlign\":\"middle\",\"growY\":0,\"url\":\"\"},\"parentId\":\"page:av--75Xn7fhgs7TqIdSH9\",\"index\":\"a3\",\"typeName\":\"shape\"},{\"x\":185.316650390625,\"y\":114.75092773437501,\"rotation\":0,\"isLocked\":false,\"opacity\":1,\"meta\":{},\"id\":\"shape:VTUAiu1yJMGmpnRC7wjQ3\",\"type\":\"geo\",\"props\":{\"w\":115,\"h\":114,\"geo\":\"rectangle\",\"color\":\"orange\",\"labelColor\":\"black\",\"fill\":\"solid\",\"dash\":\"draw\",\"size\":\"m\",\"font\":\"draw\",\"text\":\"\",\"align\":\"middle\",\"verticalAlign\":\"middle\",\"growY\":0,\"url\":\"\"},\"parentId\":\"page:av--75Xn7fhgs7TqIdSH9\",\"index\":\"a4\",\"typeName\":\"shape\"},{\"x\":208.316650390625,\"y\":90.75092773437501,\"rotation\":0,\"isLocked\":false,\"opacity\":1,\"meta\":{},\"id\":\"shape:vYDyKT-wTrlAGFJQPgQGc\",\"type\":\"geo\",\"props\":{\"w\":115,\"h\":114,\"geo\":\"rectangle\",\"color\":\"green\",\"labelColor\":\"black\",\"fill\":\"solid\",\"dash\":\"draw\",\"size\":\"m\",\"font\":\"draw\",\"text\":\"\",\"align\":\"middle\",\"verticalAlign\":\"middle\",\"growY\":0,\"url\":\"\"},\"parentId\":\"page:av--75Xn7fhgs7TqIdSH9\",\"index\":\"a5\",\"typeName\":\"shape\"},{\"x\":234.316650390625,\"y\":66.750927734375,\"rotation\":0,\"isLocked\":false,\"opacity\":1,\"meta\":{},\"id\":\"shape:F_Byre7K7bbx4L4UWOA3b\",\"type\":\"geo\",\"props\":{\"w\":115,\"h\":114,\"geo\":\"rectangle\",\"color\":\"red\",\"labelColor\":\"black\",\"fill\":\"solid\",\"dash\":\"draw\",\"size\":\"m\",\"font\":\"draw\",\"text\":\"\",\"align\":\"middle\",\"verticalAlign\":\"middle\",\"growY\":0,\"url\":\"\"},\"parentId\":\"page:av--75Xn7fhgs7TqIdSH9\",\"index\":\"a6\",\"typeName\":\"shape\"},{\"x\":117.316650390625,\"y\":172.750927734375,\"rotation\":0,\"isLocked\":false,\"opacity\":1,\"meta\":{},\"id\":\"shape:rDtU4i4TVcrOMN4rp0sQ1\",\"type\":\"geo\",\"props\":{\"w\":115,\"h\":114,\"geo\":\"rectangle\",\"color\":\"yellow\",\"labelColor\":\"black\",\"fill\":\"solid\",\"dash\":\"draw\",\"size\":\"m\",\"font\":\"draw\",\"text\":\"\",\"align\":\"middle\",\"verticalAlign\":\"middle\",\"growY\":0,\"url\":\"\"},\"parentId\":\"page:av--75Xn7fhgs7TqIdSH9\",\"index\":\"a1V\",\"typeName\":\"shape\"}]}\n"
     ]
    }
   ],
   "source": [
    "#ouverture du document\n",
    "file_2 = open('rectangles_2.tldr', mode = 'tr', encoding = 'utf-8')\n",
    "print(file_2.read())"
   ]
  },
  {
   "cell_type": "code",
   "execution_count": 7,
   "id": "52cb32b0-a884-450d-83ee-21f5bfe0c631",
   "metadata": {},
   "outputs": [
    {
     "name": "stdout",
     "output_type": "stream",
     "text": [
      "black\n",
      "blue\n",
      "light-violet\n",
      "yellow\n",
      "red\n",
      "light-green\n",
      "orange\n"
     ]
    }
   ],
   "source": [
    "# transformation de la chaîne JSON en un dictionnaire Python\n",
    "import json\n",
    "json_str_2 = '''{\"tldrawFileFormatVersion\":1,\"schema\":{\"schemaVersion\":1,\"storeVersion\":4,\"recordVersions\":{\"asset\":{\"version\":1,\"subTypeKey\":\"type\",\"subTypeVersions\":{\"image\":3,\"video\":3,\"bookmark\":1}},\"camera\":{\"version\":1},\"document\":{\"version\":2},\"instance\":{\"version\":23},\"instance_page_state\":{\"version\":5},\"page\":{\"version\":1},\"shape\":{\"version\":3,\"subTypeKey\":\"type\",\"subTypeVersions\":{\"group\":0,\"text\":1,\"bookmark\":2,\"draw\":1,\"geo\":8,\"note\":5,\"line\":1,\"frame\":0,\"arrow\":2,\"highlight\":0,\"embed\":4,\"image\":3,\"video\":2}},\"instance_presence\":{\"version\":5},\"pointer\":{\"version\":1}}},\"records\":[{\"gridSize\":10,\"name\":\"\",\"meta\":{},\"id\":\"document:document\",\"typeName\":\"document\"},{\"meta\":{},\"id\":\"page:page\",\"name\":\"Page 1\",\"index\":\"a1\",\"typeName\":\"page\"},{\"x\":381.4334240980098,\"y\":206.59993362426758,\"rotation\":0,\"isLocked\":false,\"opacity\":1,\"meta\":{},\"type\":\"geo\",\"props\":{\"w\":188,\"h\":176.00006103515625,\"geo\":\"rectangle\",\"color\":\"black\",\"labelColor\":\"black\",\"fill\":\"solid\",\"dash\":\"draw\",\"size\":\"m\",\"font\":\"draw\",\"text\":\"\",\"align\":\"middle\",\"verticalAlign\":\"middle\",\"growY\":0,\"url\":\"\"},\"parentId\":\"page:page\",\"index\":\"a1\",\"id\":\"shape:4kMs6aELg_NzCK1XtWdDy\",\"typeName\":\"shape\"},{\"x\":430.2334424085567,\"y\":154.6000099182129,\"rotation\":0,\"isLocked\":false,\"opacity\":1,\"meta\":{},\"type\":\"geo\",\"props\":{\"w\":188,\"h\":183.99998474121094,\"geo\":\"rectangle\",\"color\":\"blue\",\"labelColor\":\"black\",\"fill\":\"solid\",\"dash\":\"draw\",\"size\":\"m\",\"font\":\"draw\",\"text\":\"\",\"align\":\"middle\",\"verticalAlign\":\"middle\",\"growY\":0,\"url\":\"\"},\"parentId\":\"page:page\",\"index\":\"a3\",\"id\":\"shape:5lsygnOfdc0gIIRKUN9HR\",\"typeName\":\"shape\"},{\"x\":403.8334179944942,\"y\":180.20001602172852,\"rotation\":0,\"isLocked\":false,\"opacity\":1,\"meta\":{},\"type\":\"geo\",\"props\":{\"w\":198.4000244140625,\"h\":183.1999969482422,\"geo\":\"rectangle\",\"color\":\"light-violet\",\"labelColor\":\"black\",\"fill\":\"solid\",\"dash\":\"draw\",\"size\":\"m\",\"font\":\"draw\",\"text\":\"\",\"align\":\"middle\",\"verticalAlign\":\"middle\",\"growY\":0,\"url\":\"\"},\"parentId\":\"page:page\",\"index\":\"a2\",\"id\":\"shape:DR9P03eUCmHE_BTk1V-tG\",\"typeName\":\"shape\"},{\"x\":455.03343020152545,\"y\":131.39998245239258,\"rotation\":0,\"isLocked\":false,\"opacity\":1,\"meta\":{},\"type\":\"geo\",\"props\":{\"w\":190.39996337890614,\"h\":186.4000244140625,\"geo\":\"rectangle\",\"color\":\"yellow\",\"labelColor\":\"black\",\"fill\":\"solid\",\"dash\":\"draw\",\"size\":\"m\",\"font\":\"draw\",\"text\":\"\",\"align\":\"middle\",\"verticalAlign\":\"middle\",\"growY\":0,\"url\":\"\"},\"parentId\":\"page:page\",\"index\":\"a4\",\"id\":\"shape:GNnxaCPg6RXX5qNnGYK_E\",\"typeName\":\"shape\"},{\"x\":496.63340578746295,\"y\":94.60000991821289,\"rotation\":0,\"isLocked\":false,\"opacity\":1,\"meta\":{},\"type\":\"geo\",\"props\":{\"w\":206.4000244140625,\"h\":188.8000030517578,\"geo\":\"rectangle\",\"color\":\"red\",\"labelColor\":\"black\",\"fill\":\"solid\",\"dash\":\"draw\",\"size\":\"m\",\"font\":\"draw\",\"text\":\"\",\"align\":\"middle\",\"verticalAlign\":\"middle\",\"growY\":0,\"url\":\"\"},\"parentId\":\"page:page\",\"index\":\"a6\",\"id\":\"shape:OkOc0ijN2w2JKvbc4sbtM\",\"typeName\":\"shape\"},{\"x\":476.6334668226192,\"y\":112.20000076293945,\"rotation\":0,\"isLocked\":false,\"opacity\":1,\"meta\":{},\"type\":\"geo\",\"props\":{\"w\":194.4000244140625,\"h\":187.19998168945312,\"geo\":\"rectangle\",\"color\":\"light-green\",\"labelColor\":\"black\",\"fill\":\"solid\",\"dash\":\"draw\",\"size\":\"m\",\"font\":\"draw\",\"text\":\"\",\"align\":\"middle\",\"verticalAlign\":\"middle\",\"growY\":0,\"url\":\"\"},\"parentId\":\"page:page\",\"index\":\"a5\",\"id\":\"shape:sH_Q96joU_2qDoEH6ZvgD\",\"typeName\":\"shape\"},{\"followingUserId\":null,\"opacityForNextShape\":1,\"stylesForNextShape\":{\"tldraw:color\":\"orange\",\"tldraw:geo\":\"rectangle\",\"tldraw:fill\":\"solid\"},\"brush\":null,\"scribbles\":[],\"cursor\":{\"type\":\"default\",\"rotation\":0},\"isFocusMode\":false,\"exportBackground\":true,\"isDebugMode\":false,\"isToolLocked\":false,\"screenBounds\":{\"x\":0,\"y\":0,\"w\":1441.5999755859375,\"h\":708},\"insets\":[false,true,false,false],\"zoomBrush\":null,\"isGridMode\":false,\"isPenMode\":false,\"chatMessage\":\"\",\"isChatting\":false,\"highlightedUserIds\":[],\"canMoveCamera\":true,\"isFocused\":true,\"devicePixelRatio\":1.25,\"isCoarsePointer\":false,\"isHoveringCanvas\":true,\"openMenus\":[],\"isChangingStyle\":false,\"isReadonly\":false,\"meta\":{},\"id\":\"instance:instance\",\"currentPageId\":\"page:page\",\"typeName\":\"instance\"},{\"x\":13.966569798474552,\"y\":130.40000534057617,\"z\":1,\"meta\":{},\"id\":\"camera:page:page\",\"typeName\":\"camera\"},{\"editingShapeId\":null,\"croppingShapeId\":null,\"selectedShapeIds\":[],\"hoveredShapeId\":null,\"erasingShapeIds\":[],\"hintingShapeIds\":[],\"focusedGroupId\":null,\"meta\":{},\"id\":\"instance_page_state:page:page\",\"pageId\":\"page:page\",\"typeName\":\"instance_page_state\"},{\"id\":\"pointer:pointer\",\"typeName\":\"pointer\",\"x\":636.6334668226192,\"y\":-24.800006866455078,\"lastActivityTimestamp\":1707146989968,\"meta\":{}},{\"x\":391.83338747691596,\"y\":180.9999885559082,\"rotation\":0,\"isLocked\":false,\"opacity\":1,\"meta\":{},\"id\":\"shape:7DRf46drx5hQfPGmQre2k\",\"type\":\"geo\",\"props\":{\"w\":200,\"h\":192,\"geo\":\"rectangle\",\"color\":\"orange\",\"labelColor\":\"black\",\"fill\":\"solid\",\"dash\":\"draw\",\"size\":\"m\",\"font\":\"draw\",\"text\":\"\",\"align\":\"middle\",\"verticalAlign\":\"middle\",\"growY\":0,\"url\":\"\"},\"parentId\":\"page:page\",\"index\":\"a1V\",\"typeName\":\"shape\"}]}'''\n",
    "dico_2 = json.loads(json_str_2)\n",
    "dico_2\n",
    "\n",
    "#détermination des indices des couleurs\n",
    "records_2 = dico_2[\"records\"]\n",
    "for d in records_2 :\n",
    "    if d['typeName'] == 'shape' :\n",
    "        print (d['props']['color'])"
   ]
  },
  {
   "cell_type": "code",
   "execution_count": 8,
   "id": "a76741f0-9c57-4c69-8f39-11ef791f6a02",
   "metadata": {},
   "outputs": [
    {
     "name": "stdout",
     "output_type": "stream",
     "text": [
      "black a1\n",
      "blue a3\n",
      "light-violet a2\n",
      "yellow a4\n",
      "red a6\n",
      "light-green a5\n",
      "orange a1V\n"
     ]
    }
   ],
   "source": [
    "#affichage des index\n",
    "for d in records_2 :\n",
    "    if d['typeName'] == 'shape' :\n",
    "        print (d['props']['color'], d['index'])"
   ]
  },
  {
   "cell_type": "markdown",
   "id": "86070fe7-efea-4531-90ff-4286ff120cb8",
   "metadata": {},
   "source": [
    "Les index des couleurs précédentes ne changent pas"
   ]
  },
  {
   "cell_type": "code",
   "execution_count": 9,
   "id": "25ea0237-5b56-4a18-b899-a62d08d91ad2",
   "metadata": {},
   "outputs": [
    {
     "data": {
      "text/plain": [
       "True"
      ]
     },
     "execution_count": 9,
     "metadata": {},
     "output_type": "execute_result"
    }
   ],
   "source": [
    "\"a1\" < \"a1V\" < \"a2\""
   ]
  },
  {
   "cell_type": "markdown",
   "id": "ce565721-a2c6-4da0-94c1-752eb674e867",
   "metadata": {},
   "source": [
    "C'est donc cohérent avec la question 4 de l'exercice 2"
   ]
  },
  {
   "cell_type": "markdown",
   "id": "2d9ac9b7-0771-4b4d-91ed-ac83d6e7bd77",
   "metadata": {},
   "source": [
    "Tldraw uses a technique called **fractional indexing** to generate new indices that fit between the existing ones.\n",
    "It is explained in details in the [Implementing Fractional Indexing](https://observablehq.com/@dgreensp/implementing-fractional-indexing) Observable (Javascript) notebook.\n",
    "\n",
    "The core idea of this method is to build a representation of indices as fractions in $\\left[0, 1\\right[$ which maps the\n",
    "lexicographic order into the the usual order on $\\mathbb{Q}$, \n",
    "then to solve the generation of intermediate indices in the fractional space since it's much easier there."
   ]
  },
  {
   "cell_type": "markdown",
   "id": "4ca6fd42-4078-4ef7-aee4-c299a0aa63fe",
   "metadata": {},
   "source": [
    "We associate to any string $\\mathtt{s}$ using only the 62 characters `\"0\"`, `\"1\"`, ... `\"9\"`, `\"A\"`, ... `\"Z\"`, `\"a\"`, ..., `\"z\"` as a fraction $\\mathcal{F}(\\mathtt{s}) \\in \\left[0, 1\\right[$ such that:\n",
    "\n",
    "$$\n",
    "\\mathcal{F}(\\mathtt{\"\"}) = 0\n",
    "$$\n",
    "\n",
    "$$\n",
    "\\mathcal{F}(\\mathtt{\"0\"}) = 0, \\; \\mathcal{F}(\\mathtt{\"1\"}) = \\frac{1}{62}, \\; \\dots\n",
    "$$\n",
    "\n",
    "$$\n",
    "\\mathcal{F}(\\mathtt{\"A\"}) = \\frac{10}{62}, \\; \\mathcal{F}(\\mathtt{\"B\"}) = \\frac{11}{62}, \\; \\dots\n",
    "$$\n",
    "$$\n",
    "\\mathcal{F}(\\mathtt{\"a\"}) = \\frac{36}{62}, \\; \\mathcal{F}(\\mathtt{\"b\"}) = \\frac{37}{62},\n",
    "\\; \\mathcal{F}(\\mathtt{\"z\"}) = \\frac{61}{62}.\n",
    "$$\n",
    "\n",
    "and for any character $\\mathtt{c}$ (i.e. string of length 1) and any string $\\mathtt{s}$,\n",
    "\n",
    "$$\n",
    "\\mathcal{F}(\\mathtt{c + s}) = \\mathcal{F}(\\mathtt{c}) + \\frac{\\mathcal{F}(\\mathtt{s})}{62}. \n",
    "$$\n",
    "\n",
    "For example:\n",
    "\n",
    "$$\n",
    "\\mathcal{F}(\\mathtt{\"abc\"})\n",
    "= \\frac{\\mathcal{F}(\\mathtt{\"a\"})}{62} + \\frac{\\mathcal{F}(\\mathtt{\"b\"})}{62^2} + \\frac{\\mathcal{F}(\\mathtt{\"c\"})}{62^3}\n",
    "= \\frac{36}{62} + \\frac{37}{62^2} + \\frac{38}{62^3}\n",
    "= \\frac{35179}{59582}\n",
    "$$\n",
    "    "
   ]
  },
  {
   "cell_type": "markdown",
   "id": "f787a69a-353c-4bcf-9189-38bc1d32ce2f",
   "metadata": {},
   "source": [
    "```{exercise}\n",
    "1. Assume that $\\mathcal{F}(\\mathtt{s1}) = \\mathcal{F}(\\mathtt{s2})$. What does this equality tell you about $\\mathtt{s1}$ and $\\mathtt{s2}$? \n",
    "2. Implement $\\mathcal{F}$ as `F` using the `fractions` module of the Python standard library.\n",
    "3. Make sure that all tests in the cell below pass.\n",
    "```"
   ]
  },
  {
   "cell_type": "code",
   "execution_count": 10,
   "id": "c989ccab-5fce-4d4e-8c93-17c04c0ae915",
   "metadata": {},
   "outputs": [],
   "source": [
    "from fractions import Fraction\n",
    "\n",
    "ENABLE_TESTS = False # ℹ️ Set to True to test F whenever the cell is executed\n",
    "\n",
    "def F(string):\n",
    "    \"\"\"\n",
    "    >>> F(\"\") == Fraction(0, 62)\n",
    "    True\n",
    "    >>> F(\"0\") == Fraction(0, 62)  # ⚠️ Trailing zero!\n",
    "    True\n",
    "    >>> F(\"1\") == Fraction(1, 62)\n",
    "    True\n",
    "    >>> F(\"1000\") == Fraction(1, 62)  # ⚠️ Trailing zeros!\n",
    "    True\n",
    "    >>> F(\"9\") == Fraction(9, 62)\n",
    "    True\n",
    "    >>> F(\"A\") == Fraction(10, 62)\n",
    "    True\n",
    "    >>> F(\"Z\") == Fraction(35, 62)\n",
    "    True\n",
    "    >>> F(\"a\") == Fraction(36, 62)\n",
    "    True\n",
    "    >>> F(\"z\") == Fraction(61, 62)\n",
    "    True\n",
    "    \n",
    "    >>> F(\"a1\") == F(\"a\") + F(\"1\") / 62\n",
    "    True\n",
    "    >>> F(\"a1\")\n",
    "    Fraction(2233, 3844)\n",
    "    >>> F(\"a2\") == F(\"a\") + F(\"2\") / 62\n",
    "    True\n",
    "    >>> F(\"a2\")\n",
    "    Fraction(1117, 1922)\n",
    "    >>> F(\"a3\") == F(\"a\") + F(\"3\") / 62\n",
    "    True\n",
    "    >>> F(\"a3\")\n",
    "    Fraction(2235, 3844)\n",
    "\n",
    "    >>> F(\"abc\") == Fraction(35179, 59582)\n",
    "    True\n",
    "    >>> F(\"aardvark\") == Fraction(32218019837031, 54585026396224)\n",
    "    True\n",
    "    \"\"\"\n",
    "    \n",
    "if ENABLE_TESTS: \n",
    "    import doctest\n",
    "    doctest.run_docstring_examples(F, globals())"
   ]
  },
  {
   "cell_type": "code",
   "execution_count": 11,
   "id": "7585534c-d77a-4ebc-9ac3-9d4444e0baa7",
   "metadata": {},
   "outputs": [],
   "source": [
    "from fractions import Fraction\n",
    "\n",
    "def F(string):\n",
    "    alphab = \"0123456789ABCDEFGHIJKLMNOPQRSTUVWXYZabcdefghijklmnopqrstuvwxyz\"\n",
    "    somme = 0\n",
    "    i=1\n",
    "    for caract in string :\n",
    "        somme += Fraction(alphab.index(caract),62**i)\n",
    "        i+=1\n",
    "    return somme"
   ]
  },
  {
   "cell_type": "code",
   "execution_count": 12,
   "id": "0d00b5e1-a637-48ae-a41f-3283b5426e36",
   "metadata": {},
   "outputs": [
    {
     "data": {
      "text/plain": [
       "Fraction(2233, 3844)"
      ]
     },
     "execution_count": 12,
     "metadata": {},
     "output_type": "execute_result"
    }
   ],
   "source": [
    "F(\"a1\")"
   ]
  },
  {
   "cell_type": "markdown",
   "id": "6d92075e-3a67-48af-9e4f-afcfa443a131",
   "metadata": {},
   "source": [
    "```{exercise}\n",
    "1. Implement the inverse of the function $\\mathcal{F}$ (restricted to the strings with no trailing zeros) as a function `iF`.\n",
    "2. Make sure that all tests in the cell below pass.\n",
    "```"
   ]
  },
  {
   "cell_type": "code",
   "execution_count": 13,
   "id": "f51f104d-8625-4f0e-84c4-dcabad713c3b",
   "metadata": {},
   "outputs": [],
   "source": [
    "ENABLE_TESTS = False # ℹ️ Set to True to test F whenever the cell is executed\n",
    "\n",
    "def iF(fraction):\n",
    "    \"\"\"\n",
    "    >>> iF(F(\"\")) == \"\"\n",
    "    True\n",
    "    >>> iF(F(\"1\")) == \"1\"\n",
    "    True\n",
    "    >>> iF(F(\"A\")) == \"A\"\n",
    "    True\n",
    "    >>> iF(F(\"a\")) == \"a\"\n",
    "    True\n",
    "    >>> iF(F(\"abc\")) == \"abc\"\n",
    "    True\n",
    "    >>> iF(F(\"aardvark\")) == \"aardvark\"\n",
    "    True\n",
    "    \"\"\"\n",
    "def iF(fraction):\n",
    "    alphab = \"0123456789ABCDEFGHIJKLMNOPQRSTUVWXYZabcdefghijklmnopqrstuvwxyz\"\n",
    "    ans = \"\"\n",
    "    while fraction > (1/63):\n",
    "        fraction = fraction*62\n",
    "        ans += alphab[int(fraction)]\n",
    "        fraction = fraction-int(fraction)\n",
    "    return ans\n",
    "\n",
    "if ENABLE_TESTS: \n",
    "    import doctest\n",
    "    doctest.run_docstring_examples(iF, globals())"
   ]
  },
  {
   "cell_type": "code",
   "execution_count": 14,
   "id": "41ca9ffa-9144-4e03-8679-ecd5560aecf9",
   "metadata": {},
   "outputs": [
    {
     "data": {
      "text/plain": [
       "Fraction(161218751, 458066416)"
      ]
     },
     "execution_count": 14,
     "metadata": {},
     "output_type": "execute_result"
    }
   ],
   "source": [
    "F(\"Louis\")"
   ]
  },
  {
   "cell_type": "code",
   "execution_count": 15,
   "id": "270cd9d7-65b1-4fd4-99fe-7d31d63a6fd3",
   "metadata": {},
   "outputs": [
    {
     "data": {
      "text/plain": [
       "'Louis'"
      ]
     },
     "execution_count": 15,
     "metadata": {},
     "output_type": "execute_result"
    }
   ],
   "source": [
    "iF(F(\"Louis\"))"
   ]
  },
  {
   "cell_type": "markdown",
   "id": "ce370018-0eb4-4797-b7c9-a06b373b988b",
   "metadata": {},
   "source": [
    "```{exercise}\n",
    "1. Prove that if the strings $\\mathtt{s1}$ and $\\mathtt{s2}$ have no trailing zeros (e.g. \"hello\" is ok but not \"hell0\"),\n",
    "then $\\mathtt{s1} \\leq \\mathtt{s2}$ (in the lexicographic order) if and only if $\\mathcal{F}(\\mathtt{s1}) \\leq \\mathcal{F}(\\mathtt{s2})$\n",
    "(in the usual order on $\\mathbb{Q}$).\n",
    "\n",
    "2. Show that for any valid index (with no trailing zero), the formula\n",
    "\n",
    "   $$\n",
    "   \\mathtt{index\\_3} \n",
    "   = \n",
    "   \\mathcal{F}^{-1}\n",
    "   \\left(\n",
    "     \\frac{\n",
    "       \\mathcal{F}(\\mathtt{index\\_1}) + \\mathcal{F}(\\mathtt{index\\_2})\n",
    "     }{2}\n",
    "   \\right)\n",
    "   $$\n",
    "\n",
    "   defines a valid index.\n",
    "\n",
    "3. How are (lexicographically) ordered the strings $\\mathtt{index\\_1}, \\mathtt{index\\_2}$ and $\\mathtt{index\\_3}$?\n",
    "\n",
    "4. Implement a function `index_between` based on this analysis. Make sure that all the tests in the cell below pass.\n",
    "```"
   ]
  },
  {
   "cell_type": "markdown",
   "id": "94071e0b-585d-4563-b3fe-5277630928e2",
   "metadata": {},
   "source": [
    "**1)** Si s1<=s2, cela signifie que le premier caractère différent vérifie s1i <= s2i (caractères correspondants à la position i). Comme il n'y a pas de zéros en fin de chaîne, les premiers caractères différents détermineront l'ordre. Maintenant, considérons F(s1) et F(s2). La fonction de fractional indexing prend en compte les caractères dans le système de base 62, qui respecte l'ordre lexicographique des caractères. Par conséquent, si s1i <= s2i, la contribution de s1i à F(s1) sera inférieure ou égale à la contribution de s2i à F(s2). Cela est vrai pour toutes les positions où s1 et s2 sont différents, d'où F(s1) <= F(s2).\n",
    "\n",
    "Réciproquement, si F(s1) <= F(s2), cela signifie que l'indexation fractionnaire de s1 est inférieure ou égale à l'indexation fractionnaire de s2. Soit i la première position de différence dans F(s1) et F(s2). Comme la représentation en base 62 préserve l'ordre lexicographique, la contribution de dans s1i dans F(s1) sera inférieure ou égale à celle de s2i dans F(s2). Cela assure que s1 <= s2.\n",
    "\n",
    "Il y a donc équivalence entre l'ordre de la chaîne de caractères et l'ordre du fractional indexing sur Q.\n"
   ]
  },
  {
   "cell_type": "markdown",
   "id": "6ffd89b2-d12f-47ba-bb7a-372253568681",
   "metadata": {},
   "source": [
    "**2)** Montrons que index_3 est un index valide. \n",
    "\n",
    "L'inversion F-1 produit un index valide : elle prend en argument une fonction dans [0,1[ ( (F(index_1) + F(index_2)) / 2 appartient bien à cet intervalle) et l'attribue l'index correspondant. De plus, si index_1 et index_2 n'ont pas de 0 final, alors F(index_1) et F(index_2) non plus. Donc, comme l'application de F(-1) n'introduit pas de zéro final, index_3 n'a pas de 0 final. correspondant."
   ]
  },
  {
   "cell_type": "markdown",
   "id": "cbc04f1f-4103-4c35-8722-4f5778bf89d8",
   "metadata": {},
   "source": [
    "**3)** On a F(index_3) = ( F(index_1) + F(index_2) ) / 2. L'ordre lexicographique de ces trois index va dépendre de la comparaison de leur valeur après application après fractional indexing. Si F(index_i) > F(index_j) alors index_i est après index_j dans l'ordre lexicographique."
   ]
  },
  {
   "cell_type": "code",
   "execution_count": 16,
   "id": "b3db2ca8-c99c-4961-82ed-a583e207bb8d",
   "metadata": {},
   "outputs": [],
   "source": [
    "ENABLE_TESTS = False # ℹ️ Set to True to test F whenever the cell is executed\n",
    "from fractions import Fraction\n",
    "\n",
    "\n",
    "def index_between(index_1, index_2):\n",
    "    \"\"\"\n",
    "    >>> index_between(\"1\", \"2\")\n",
    "    '1V'\n",
    "    >>> index_between(\"a\", \"b\")\n",
    "    'aV'\n",
    "    >>> index_between(\"aardvark\", \"aardwolf\")\n",
    "    'aardwCohV'\n",
    "    \"\"\"   \n",
    "    #on transforme les indices en fractions\n",
    "    fraction_1 = F(index_1)\n",
    "    fraction_2 = F(index_2)\n",
    "    #on calcule la fraction correspondant à l'indice intermédiaire\n",
    "    fraction_3 = (fraction_1 + fraction_2) / 2\n",
    "    #on transforme cette fraction en indice\n",
    "    index_3 = iF(fraction_3)\n",
    "    return index_3\n",
    "        \n",
    "if ENABLE_TESTS:\n",
    "    import doctest\n",
    "    doctest.run_docstring_examples(index_between, globals())"
   ]
  },
  {
   "cell_type": "code",
   "execution_count": 18,
   "id": "f04f019f-b3e5-4238-bdc7-6254914963f9",
   "metadata": {},
   "outputs": [
    {
     "data": {
      "text/plain": [
       "Fraction(73, 62)"
      ]
     },
     "execution_count": 18,
     "metadata": {},
     "output_type": "execute_result"
    }
   ],
   "source": [
    "F(\"a\") + F(\"b\")"
   ]
  },
  {
   "cell_type": "code",
   "execution_count": 19,
   "id": "c148d3e7-1b0d-4f01-a18e-11e02532dfb7",
   "metadata": {},
   "outputs": [
    {
     "data": {
      "text/plain": [
       "Fraction(3, 62)"
      ]
     },
     "execution_count": 19,
     "metadata": {},
     "output_type": "execute_result"
    }
   ],
   "source": [
    "F(\"1\") + F(\"2\")"
   ]
  },
  {
   "cell_type": "markdown",
   "id": "0cb2553f-6847-427d-8f63-9d805c76e524",
   "metadata": {},
   "source": [
    "# Application\n",
    "\n",
    "```{exercise}\n",
    "1. Go back to your tldraw editor and bring your yellow rectangle to front.\n",
    "2. Save the corresponding document and load it as a Python object.\n",
    "3. Use the `index_between` function to patch its depth so that it goes back between the black and violet rectangles.\n",
    "4. Save the document and reload it into the tldraw editor to check that it worked.\n",
    "```"
   ]
  },
  {
   "cell_type": "markdown",
   "id": "5917af10-0dfc-45da-bcf6-8503395dca7c",
   "metadata": {},
   "source": [
    "\n",
    "![Add yellow on top](images/add-yellow-on-top.png)"
   ]
  }
 ],
 "metadata": {
  "kernelspec": {
   "display_name": "Python 3 (ipykernel)",
   "language": "python",
   "name": "python3"
  },
  "language_info": {
   "codemirror_mode": {
    "name": "ipython",
    "version": 3
   },
   "file_extension": ".py",
   "mimetype": "text/x-python",
   "name": "python",
   "nbconvert_exporter": "python",
   "pygments_lexer": "ipython3",
   "version": "3.11.0"
  }
 },
 "nbformat": 4,
 "nbformat_minor": 5
}
